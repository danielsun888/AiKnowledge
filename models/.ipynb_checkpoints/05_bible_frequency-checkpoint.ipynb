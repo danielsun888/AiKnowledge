{
 "cells": [
  {
   "cell_type": "code",
   "execution_count": 1,
   "metadata": {},
   "outputs": [],
   "source": [
    "from pyspark.sql import functions as F\n",
    "from pyspark.sql.functions import lit\n",
    "from pyspark.sql.types import StringType, DataType,ArrayType\n",
    "from pyspark.sql.functions import udf, struct\n",
    "from pyspark.ml import Pipeline\n",
    "from IPython.display import display, HTML\n",
    "import re"
   ]
  },
  {
   "cell_type": "code",
   "execution_count": 2,
   "metadata": {},
   "outputs": [
    {
     "name": "stdout",
     "output_type": "stream",
     "text": [
      "Spark NLP version 4.2.2\n",
      "Apache Spark version: 3.3.1\n"
     ]
    },
    {
     "data": {
      "text/html": [
       "\n",
       "            <div>\n",
       "                <p><b>SparkSession - in-memory</b></p>\n",
       "                \n",
       "        <div>\n",
       "            <p><b>SparkContext</b></p>\n",
       "\n",
       "            <p><a href=\"http://84bd35d2d5d2:4043\">Spark UI</a></p>\n",
       "\n",
       "            <dl>\n",
       "              <dt>Version</dt>\n",
       "                <dd><code>v3.3.1</code></dd>\n",
       "              <dt>Master</dt>\n",
       "                <dd><code>local[2]</code></dd>\n",
       "              <dt>AppName</dt>\n",
       "                <dd><code>Spark NLP</code></dd>\n",
       "            </dl>\n",
       "        </div>\n",
       "        \n",
       "            </div>\n",
       "        "
      ],
      "text/plain": [
       "<pyspark.sql.session.SparkSession at 0x7f86f691d630>"
      ]
     },
     "execution_count": 2,
     "metadata": {},
     "output_type": "execute_result"
    }
   ],
   "source": [
    "import sparknlp\n",
    "\n",
    "from pyspark.ml import PipelineModel\n",
    "from sparknlp.annotator import *\n",
    "from sparknlp.base import *\n",
    "from pyspark import SparkContext,SparkConf\n",
    "from pyspark.sql import SparkSession\n",
    "# spark = sparknlp.start() # for GPU training >> sparknlp.start(gpu = True) # for Spark 2.3 =>> sparknlp.start(spark23 = True)\n",
    "spark = SparkSession.builder \\\n",
    "    .appName(\"Spark NLP\")\\\n",
    "    .master(\"local[2]\")\\\n",
    "    .config(\"spark.driver.memory\",\"8G\")\\\n",
    "    .config(\"spark.driver.maxResultSize\", \"0\") \\\n",
    "    .config(\"spark.kryoserializer.buffer.max\", \"2000M\")\\\n",
    "    .config(\"spark.jars.packages\", \"com.johnsnowlabs.nlp:spark-nlp_2.12:4.2.3,org.postgresql:postgresql:42.5.0\")\\\n",
    "    .getOrCreate()\n",
    "print(\"Spark NLP version\", sparknlp.version())\n",
    "print(\"Apache Spark version:\", spark.version)\n",
    "\n",
    "spark"
   ]
  },
  {
   "cell_type": "code",
   "execution_count": 3,
   "metadata": {},
   "outputs": [
    {
     "name": "stdout",
     "output_type": "stream",
     "text": [
      "+--------+----+-------+-----+--------------------+--------------------+------+--------+-------------+------+\n",
      "|      ID|book|chapter|verse|                text|     unique_keywords|OsisID|BookName|TotalChapters|Volume|\n",
      "+--------+----+-------+-----+--------------------+--------------------+------+--------+-------------+------+\n",
      "| Gen_1_1|   1|      1|    1|In the beginning ...|[beginning, god, ...|   Gen| Genesis|           50|    OT|\n",
      "| Gen_1_2|   1|      1|    2|Now the earth was...|[earth, formless,...|   Gen| Genesis|           50|    OT|\n",
      "| Gen_1_3|   1|      1|    3|And God said, \"Le...|[god, said, light...|   Gen| Genesis|           50|    OT|\n",
      "| Gen_1_4|   1|      1|    4|God saw that the ...|[god, saw, light,...|   Gen| Genesis|           50|    OT|\n",
      "| Gen_1_5|   1|      1|    5|God called the li...|[god, called, lig...|   Gen| Genesis|           50|    OT|\n",
      "| Gen_1_6|   1|      1|    6|And God said, \"Le...|[god, said, expan...|   Gen| Genesis|           50|    OT|\n",
      "| Gen_1_7|   1|      1|    7|So God made the e...|[god, made, expan...|   Gen| Genesis|           50|    OT|\n",
      "| Gen_1_8|   1|      1|    8|God called the ex...|[god, called, exp...|   Gen| Genesis|           50|    OT|\n",
      "| Gen_1_9|   1|      1|    9|And God said, \"Le...|[god, said, water...|   Gen| Genesis|           50|    OT|\n",
      "|Gen_1_10|   1|      1|   10|God called the dr...|[god, called, dry...|   Gen| Genesis|           50|    OT|\n",
      "|Gen_1_11|   1|      1|   11|Then God said, \"L...|[god, said, land,...|   Gen| Genesis|           50|    OT|\n",
      "|Gen_1_12|   1|      1|   12|The land produced...|[land, produced, ...|   Gen| Genesis|           50|    OT|\n",
      "|Gen_1_13|   1|      1|   13|And there was eve...|[evening, third, ...|   Gen| Genesis|           50|    OT|\n",
      "|Gen_1_14|   1|      1|   14|And God said, \"Le...|[god, said, light...|   Gen| Genesis|           50|    OT|\n",
      "|Gen_1_15|   1|      1|   15|and let them be l...|[let, lights, exp...|   Gen| Genesis|           50|    OT|\n",
      "|Gen_1_16|   1|      1|   16|God made two grea...|[god, made, two, ...|   Gen| Genesis|           50|    OT|\n",
      "|Gen_1_17|   1|      1|   17|God set them in t...|[god, set, expans...|   Gen| Genesis|           50|    OT|\n",
      "|Gen_1_18|   1|      1|   18|to govern the day...|[govern, day, nig...|   Gen| Genesis|           50|    OT|\n",
      "|Gen_1_19|   1|      1|   19|And there was eve...|[evening, fourth,...|   Gen| Genesis|           50|    OT|\n",
      "|Gen_1_20|   1|      1|   20|And God said, \"Le...|[god, said, water...|   Gen| Genesis|           50|    OT|\n",
      "+--------+----+-------+-----+--------------------+--------------------+------+--------+-------------+------+\n",
      "only showing top 20 rows\n",
      "\n",
      "+--------+----+-------+-----+--------------------+--------------------+------+--------+-------------+------+--------------------+\n",
      "|      ID|book|chapter|verse|                text|     unique_keywords|OsisID|BookName|TotalChapters|Volume|            keywords|\n",
      "+--------+----+-------+-----+--------------------+--------------------+------+--------+-------------+------+--------------------+\n",
      "| Gen_1_1|   1|      1|    1|In the beginning ...|[beginning, god, ...|   Gen| Genesis|           50|    OT|[beginning, god, ...|\n",
      "| Gen_1_2|   1|      1|    2|Now the earth was...|[earth, formless,...|   Gen| Genesis|           50|    OT|[earth, formless,...|\n",
      "| Gen_1_3|   1|      1|    3|And God said, \"Le...|[god, said, light...|   Gen| Genesis|           50|    OT|[god, said, light...|\n",
      "| Gen_1_4|   1|      1|    4|God saw that the ...|[god, saw, light,...|   Gen| Genesis|           50|    OT|[god, saw, light,...|\n",
      "| Gen_1_5|   1|      1|    5|God called the li...|[god, called, lig...|   Gen| Genesis|           50|    OT|[god, called, lig...|\n",
      "| Gen_1_6|   1|      1|    6|And God said, \"Le...|[god, said, expan...|   Gen| Genesis|           50|    OT|[god, said, expan...|\n",
      "| Gen_1_7|   1|      1|    7|So God made the e...|[god, made, expan...|   Gen| Genesis|           50|    OT|[god, made, expan...|\n",
      "| Gen_1_8|   1|      1|    8|God called the ex...|[god, called, exp...|   Gen| Genesis|           50|    OT|[god, called, exp...|\n",
      "| Gen_1_9|   1|      1|    9|And God said, \"Le...|[god, said, water...|   Gen| Genesis|           50|    OT|[god, said, water...|\n",
      "|Gen_1_10|   1|      1|   10|God called the dr...|[god, called, dry...|   Gen| Genesis|           50|    OT|[god, called, dry...|\n",
      "|Gen_1_11|   1|      1|   11|Then God said, \"L...|[god, said, land,...|   Gen| Genesis|           50|    OT|[god, said, land,...|\n",
      "|Gen_1_12|   1|      1|   12|The land produced...|[land, produced, ...|   Gen| Genesis|           50|    OT|[land, produced, ...|\n",
      "|Gen_1_13|   1|      1|   13|And there was eve...|[evening, third, ...|   Gen| Genesis|           50|    OT|[evening, third, ...|\n",
      "|Gen_1_14|   1|      1|   14|And God said, \"Le...|[god, said, light...|   Gen| Genesis|           50|    OT|[god, said, light...|\n",
      "|Gen_1_15|   1|      1|   15|and let them be l...|[let, lights, exp...|   Gen| Genesis|           50|    OT|[let, lights, exp...|\n",
      "|Gen_1_16|   1|      1|   16|God made two grea...|[god, made, two, ...|   Gen| Genesis|           50|    OT|[god, made, two, ...|\n",
      "|Gen_1_17|   1|      1|   17|God set them in t...|[god, set, expans...|   Gen| Genesis|           50|    OT|[god, set, expans...|\n",
      "|Gen_1_18|   1|      1|   18|to govern the day...|[govern, day, nig...|   Gen| Genesis|           50|    OT|[govern, day, nig...|\n",
      "|Gen_1_19|   1|      1|   19|And there was eve...|[evening, fourth,...|   Gen| Genesis|           50|    OT|[evening, fourth,...|\n",
      "|Gen_1_20|   1|      1|   20|And God said, \"Le...|[god, said, water...|   Gen| Genesis|           50|    OT|[god, said, water...|\n",
      "+--------+----+-------+-----+--------------------+--------------------+------+--------+-------------+------+--------------------+\n",
      "only showing top 20 rows\n",
      "\n"
     ]
    }
   ],
   "source": [
    "### bible keyword frequency\n",
    "df_keyword=spark.read.parquet('./bibleKeyword2.parquet/')       \n",
    "df_keyword.show()\n",
    "df_keyword=df_keyword.selectExpr('*','unique_keywords as keywords')                  \n",
    "df_keyword.show()      \n"
   ]
  },
  {
   "cell_type": "code",
   "execution_count": 4,
   "metadata": {},
   "outputs": [
    {
     "name": "stdout",
     "output_type": "stream",
     "text": [
      "+--------------------+------+\n",
      "|                text|number|\n",
      "+--------------------+------+\n",
      "|In the beginning ...|     0|\n",
      "|Now the earth was...|     1|\n",
      "|And God said, \"Le...|     2|\n",
      "|God saw that the ...|     3|\n",
      "|God called the li...|     4|\n",
      "|And God said, \"Le...|     5|\n",
      "|So God made the e...|     6|\n",
      "|God called the ex...|     7|\n",
      "|And God said, \"Le...|     8|\n",
      "|God called the dr...|     9|\n",
      "|Then God said, \"L...|    10|\n",
      "|The land produced...|    11|\n",
      "|And there was eve...|    12|\n",
      "|And God said, \"Le...|    13|\n",
      "|and let them be l...|    14|\n",
      "|God made two grea...|    15|\n",
      "|God set them in t...|    16|\n",
      "|to govern the day...|    17|\n",
      "|And there was eve...|    18|\n",
      "|And God said, \"Le...|    19|\n",
      "+--------------------+------+\n",
      "only showing top 20 rows\n",
      "\n"
     ]
    }
   ],
   "source": [
    "from pyspark.sql.functions import *\n",
    "\n",
    "length=df_keyword.count()\n",
    "length     \n",
    "df_keyword = df_keyword.withColumn(\"number\", monotonically_increasing_id())\n",
    "df_keyword.select('text','number').show()"
   ]
  },
  {
   "cell_type": "code",
   "execution_count": 5,
   "metadata": {},
   "outputs": [
    {
     "name": "stdout",
     "output_type": "stream",
     "text": [
      "+--------+--------------------+------+\n",
      "|      ID|                text|number|\n",
      "+--------+--------------------+------+\n",
      "| Gen_1_1|In the beginning ...|     0|\n",
      "| Gen_1_2|Now the earth was...|     1|\n",
      "| Gen_1_3|And God said, \"Le...|     2|\n",
      "| Gen_1_4|God saw that the ...|     3|\n",
      "| Gen_1_5|God called the li...|     4|\n",
      "| Gen_1_6|And God said, \"Le...|     5|\n",
      "| Gen_1_7|So God made the e...|     6|\n",
      "| Gen_1_8|God called the ex...|     7|\n",
      "| Gen_1_9|And God said, \"Le...|     8|\n",
      "|Gen_1_10|God called the dr...|     9|\n",
      "|Gen_1_11|Then God said, \"L...|    10|\n",
      "|Gen_1_12|The land produced...|    11|\n",
      "|Gen_1_13|And there was eve...|    12|\n",
      "|Gen_1_14|And God said, \"Le...|    13|\n",
      "|Gen_1_15|and let them be l...|    14|\n",
      "|Gen_1_16|God made two grea...|    15|\n",
      "|Gen_1_17|God set them in t...|    16|\n",
      "|Gen_1_18|to govern the day...|    17|\n",
      "|Gen_1_19|And there was eve...|    18|\n",
      "|Gen_1_20|And God said, \"Le...|    19|\n",
      "+--------+--------------------+------+\n",
      "only showing top 20 rows\n",
      "\n"
     ]
    }
   ],
   "source": [
    "df_keyword.select('ID','text','number').show()"
   ]
  },
  {
   "cell_type": "code",
   "execution_count": 6,
   "metadata": {},
   "outputs": [],
   "source": [
    "\n",
    "df_keyword=df_keyword.select('*',transform(\"keywords\", lambda x: trim(x)).alias(\"keywords2\"))"
   ]
  },
  {
   "cell_type": "code",
   "execution_count": 13,
   "metadata": {},
   "outputs": [
    {
     "name": "stdout",
     "output_type": "stream",
     "text": [
      "+--------------------+--------------------+\n",
      "|                text|           keywords2|\n",
      "+--------------------+--------------------+\n",
      "|In the beginning ...|[beginning, god, ...|\n",
      "|Now the earth was...|[earth, formless,...|\n",
      "|And God said, \"Le...|[god, said, light...|\n",
      "|God saw that the ...|[god, saw, light,...|\n",
      "|God called the li...|[god, called, lig...|\n",
      "|And God said, \"Le...|[god, said, expan...|\n",
      "|So God made the e...|[god, made, expan...|\n",
      "|God called the ex...|[god, called, exp...|\n",
      "|And God said, \"Le...|[god, said, water...|\n",
      "|God called the dr...|[god, called, dry...|\n",
      "|Then God said, \"L...|[god, said, land,...|\n",
      "|The land produced...|[land, produced, ...|\n",
      "|And there was eve...|[evening, third, ...|\n",
      "|And God said, \"Le...|[god, said, light...|\n",
      "|and let them be l...|[let, lights, exp...|\n",
      "|God made two grea...|[god, made, two, ...|\n",
      "|God set them in t...|[god, set, expans...|\n",
      "|to govern the day...|[govern, day, nig...|\n",
      "|And there was eve...|[evening, fourth,...|\n",
      "|And God said, \"Le...|[god, said, water...|\n",
      "+--------------------+--------------------+\n",
      "only showing top 20 rows\n",
      "\n"
     ]
    }
   ],
   "source": [
    "df_keyword.select('text','keywords2').show()"
   ]
  },
  {
   "cell_type": "code",
   "execution_count": 16,
   "metadata": {},
   "outputs": [
    {
     "name": "stdout",
     "output_type": "stream",
     "text": [
      "root\n",
      " |-- ID: string (nullable = true)\n",
      " |-- book: integer (nullable = true)\n",
      " |-- chapter: integer (nullable = true)\n",
      " |-- verse: integer (nullable = true)\n",
      " |-- text: string (nullable = true)\n",
      " |-- unique_keywords: array (nullable = true)\n",
      " |    |-- element: string (containsNull = true)\n",
      " |-- OsisID: string (nullable = true)\n",
      " |-- BookName: string (nullable = true)\n",
      " |-- TotalChapters: integer (nullable = true)\n",
      " |-- Volume: string (nullable = true)\n",
      " |-- keywords: array (nullable = true)\n",
      " |    |-- element: string (containsNull = true)\n",
      " |-- number: long (nullable = false)\n",
      " |-- keywords2: array (nullable = true)\n",
      " |    |-- element: string (containsNull = true)\n",
      " |-- col: string (nullable = true)\n",
      "\n",
      "+--------------------+--------------------+--------------------+\n",
      "|                text|           keywords2|                 col|\n",
      "+--------------------+--------------------+--------------------+\n",
      "|In the beginning ...|[beginning, god, ...|           beginning|\n",
      "|In the beginning ...|[beginning, god, ...|                 god|\n",
      "|In the beginning ...|[beginning, god, ...|             created|\n",
      "|In the beginning ...|[beginning, god, ...|             heavens|\n",
      "|In the beginning ...|[beginning, god, ...|               earth|\n",
      "|In the beginning ...|[beginning, god, ...|       beginning god|\n",
      "|In the beginning ...|[beginning, god, ...|         god created|\n",
      "|In the beginning ...|[beginning, god, ...|beginning god cre...|\n",
      "|In the beginning ...|[beginning, god, ...| created the heavens|\n",
      "|Now the earth was...|[earth, formless,...|               earth|\n",
      "|Now the earth was...|[earth, formless,...|            formless|\n",
      "|Now the earth was...|[earth, formless,...|               empty|\n",
      "|Now the earth was...|[earth, formless,...|            darkness|\n",
      "|Now the earth was...|[earth, formless,...|             surface|\n",
      "|Now the earth was...|[earth, formless,...|                deep|\n",
      "|Now the earth was...|[earth, formless,...|              spirit|\n",
      "|Now the earth was...|[earth, formless,...|                 god|\n",
      "|Now the earth was...|[earth, formless,...|            hovering|\n",
      "|Now the earth was...|[earth, formless,...|              waters|\n",
      "|Now the earth was...|[earth, formless,...|  earth was formless|\n",
      "+--------------------+--------------------+--------------------+\n",
      "only showing top 20 rows\n",
      "\n"
     ]
    }
   ],
   "source": [
    "\n",
    "df2 = df_keyword.select('*',explode(df_keyword.keywords2))\n",
    "df2.printSchema()\n",
    "df2.select('text','keywords2','col').show()"
   ]
  },
  {
   "cell_type": "code",
   "execution_count": 17,
   "metadata": {},
   "outputs": [
    {
     "name": "stdout",
     "output_type": "stream",
     "text": [
      "+-------+------+--------------------+--------------------+--------------------+\n",
      "|     ID|number|                text|           keywords2|                 col|\n",
      "+-------+------+--------------------+--------------------+--------------------+\n",
      "|Gen_1_1|     0|In the beginning ...|[beginning, god, ...|             created|\n",
      "|Gen_1_1|     0|In the beginning ...|[beginning, god, ...|       beginning god|\n",
      "|Gen_1_1|     0|In the beginning ...|[beginning, god, ...|         god created|\n",
      "|Gen_1_1|     0|In the beginning ...|[beginning, god, ...| created the heavens|\n",
      "|Gen_1_1|     0|In the beginning ...|[beginning, god, ...|               earth|\n",
      "|Gen_1_1|     0|In the beginning ...|[beginning, god, ...|             heavens|\n",
      "|Gen_1_1|     0|In the beginning ...|[beginning, god, ...|                 god|\n",
      "|Gen_1_1|     0|In the beginning ...|[beginning, god, ...|beginning god cre...|\n",
      "|Gen_1_1|     0|In the beginning ...|[beginning, god, ...|           beginning|\n",
      "|Gen_1_2|     1|Now the earth was...|[earth, formless,...|  earth was formless|\n",
      "|Gen_1_2|     1|Now the earth was...|[earth, formless,...|               earth|\n",
      "|Gen_1_2|     1|Now the earth was...|[earth, formless,...|    god was hovering|\n",
      "|Gen_1_2|     1|Now the earth was...|[earth, formless,...|  formless and empty|\n",
      "|Gen_1_2|     1|Now the earth was...|[earth, formless,...|            formless|\n",
      "|Gen_1_2|     1|Now the earth was...|[earth, formless,...|       spirit of god|\n",
      "|Gen_1_2|     1|Now the earth was...|[earth, formless,...|               empty|\n",
      "|Gen_1_2|     1|Now the earth was...|[earth, formless,...|             surface|\n",
      "|Gen_1_2|     1|Now the earth was...|[earth, formless,...|                deep|\n",
      "|Gen_1_2|     1|Now the earth was...|[earth, formless,...|              waters|\n",
      "|Gen_1_2|     1|Now the earth was...|[earth, formless,...|              spirit|\n",
      "+-------+------+--------------------+--------------------+--------------------+\n",
      "only showing top 20 rows\n",
      "\n"
     ]
    }
   ],
   "source": [
    "df2.select('ID','number','text','keywords2','col').distinct().orderBy('number').show()"
   ]
  },
  {
   "cell_type": "code",
   "execution_count": 18,
   "metadata": {},
   "outputs": [],
   "source": [
    "df2.count()\n",
    "df3=df2.select('*').groupBy('col').count()\n",
    "\n"
   ]
  },
  {
   "cell_type": "code",
   "execution_count": 19,
   "metadata": {},
   "outputs": [
    {
     "name": "stdout",
     "output_type": "stream",
     "text": [
      "+-------+-------+-----------------+\n",
      "|summary|    col|            count|\n",
      "+-------+-------+-----------------+\n",
      "|  count|  96024|            96024|\n",
      "|   mean|   null|4.269016079313505|\n",
      "| stddev|   null|38.47582950956845|\n",
      "|    min|  aaron|                1|\n",
      "|    max|zuzites|             6183|\n",
      "+-------+-------+-----------------+\n",
      "\n"
     ]
    }
   ],
   "source": [
    "df3.describe().show()"
   ]
  },
  {
   "cell_type": "code",
   "execution_count": 20,
   "metadata": {},
   "outputs": [
    {
     "name": "stdout",
     "output_type": "stream",
     "text": [
      "+------+-----+\n",
      "|   col|count|\n",
      "+------+-----+\n",
      "|  lord| 6183|\n",
      "|   god| 3263|\n",
      "|  said| 2903|\n",
      "|   one| 2130|\n",
      "|people| 1934|\n",
      "|   man| 1804|\n",
      "|  king| 1795|\n",
      "|   son| 1601|\n",
      "|israel| 1569|\n",
      "|   men| 1566|\n",
      "|  land| 1219|\n",
      "|  come| 1216|\n",
      "|  like| 1205|\n",
      "| jesus| 1176|\n",
      "|   day| 1169|\n",
      "|  went| 1161|\n",
      "|  came| 1148|\n",
      "|    go| 1073|\n",
      "|  made| 1034|\n",
      "|    us|  975|\n",
      "+------+-----+\n",
      "only showing top 20 rows\n",
      "\n"
     ]
    }
   ],
   "source": [
    "df3.orderBy('count',ascending=False).show()\n",
    "# df_keyword.printSchema()\n",
    "# df_keyword.createTempView('keyword')     \n",
    "# df_keyword.describe().show()"
   ]
  },
  {
   "cell_type": "code",
   "execution_count": 21,
   "metadata": {},
   "outputs": [],
   "source": [
    "df_keyword.write.format(\"jdbc\")\\\n",
    "    .option(\"url\", \"jdbc:postgresql://192.168.1.39:5432/aiknowledge\")\\\n",
    "    .option(\"dbtable\", \"public.bible_keyword\")\\\n",
    "    .option(\"user\", \"postgres\")\\\n",
    "    .option(\"password\", \"postgres\")\\\n",
    "    .option(\"driver\", \"org.postgresql.Driver\") \\\n",
    "    .mode('overwrite').save()"
   ]
  },
  {
   "cell_type": "code",
   "execution_count": 23,
   "metadata": {},
   "outputs": [
    {
     "name": "stdout",
     "output_type": "stream",
     "text": [
      "+------------------+-----+\n",
      "|               col|count|\n",
      "+------------------+-----+\n",
      "|            waters|  151|\n",
      "|         first day|   46|\n",
      "|  noah and entered|    2|\n",
      "|        great deep|    4|\n",
      "|             still|  276|\n",
      "|        may canaan|    2|\n",
      "|          ashkenaz|    3|\n",
      "|men moved eastward|    1|\n",
      "|             serug|    6|\n",
      "|            spared|   24|\n",
      "| anything too hard|    2|\n",
      "|    sake of twenty|    1|\n",
      "|      two men said|    1|\n",
      "|        swept away|   10|\n",
      "|         ammonites|   78|\n",
      "|              hazo|    1|\n",
      "|       master made|    1|\n",
      "|           jewelry|   11|\n",
      "|         go toward|    1|\n",
      "|        loved esau|    1|\n",
      "+------------------+-----+\n",
      "only showing top 20 rows\n",
      "\n"
     ]
    }
   ],
   "source": [
    "df3.show()"
   ]
  },
  {
   "cell_type": "code",
   "execution_count": 27,
   "metadata": {},
   "outputs": [
    {
     "name": "stdout",
     "output_type": "stream",
     "text": [
      "+-----------------+-----+\n",
      "|              col|count|\n",
      "+-----------------+-----+\n",
      "|              god| 3263|\n",
      "|    lord your god|  345|\n",
      "|             gods|  207|\n",
      "|    god of israel|  157|\n",
      "|            o god|   91|\n",
      "|     lord our god|   71|\n",
      "|         lord god|   70|\n",
      "|   kingdom of god|   55|\n",
      "|         god said|   53|\n",
      "|       man of god|   50|\n",
      "|      word of god|   38|\n",
      "|     god almighty|   35|\n",
      "|   lord their god|   31|\n",
      "|      lord my god|   28|\n",
      "|     house of god|   27|\n",
      "|    god is giving|   25|\n",
      "|       ark of god|   25|\n",
      "|lord god almighty|   25|\n",
      "|         god came|   24|\n",
      "|       son of god|   24|\n",
      "+-----------------+-----+\n",
      "only showing top 20 rows\n",
      "\n"
     ]
    }
   ],
   "source": [
    "df3.where(\"col like '%god%'\").orderBy(column('count').desc()).limit(100).show()"
   ]
  },
  {
   "cell_type": "code",
   "execution_count": 28,
   "metadata": {},
   "outputs": [],
   "source": [
    "df3.write.mode('overwrite').parquet('./keywordFrequency.parquet')"
   ]
  },
  {
   "cell_type": "code",
   "execution_count": null,
   "metadata": {},
   "outputs": [],
   "source": []
  }
 ],
 "metadata": {
  "kernelspec": {
   "display_name": "Python 3 (ipykernel)",
   "language": "python",
   "name": "python3"
  },
  "language_info": {
   "codemirror_mode": {
    "name": "ipython",
    "version": 3
   },
   "file_extension": ".py",
   "mimetype": "text/x-python",
   "name": "python",
   "nbconvert_exporter": "python",
   "pygments_lexer": "ipython3",
   "version": "3.10.6"
  },
  "vscode": {
   "interpreter": {
    "hash": "f70b66c476b517a3398e503e066261bd5effd8e36d6bd83ebcc33f32092e45d7"
   }
  }
 },
 "nbformat": 4,
 "nbformat_minor": 4
}
