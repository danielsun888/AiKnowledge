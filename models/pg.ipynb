{
 "cells": [
  {
   "cell_type": "code",
   "execution_count": 1,
   "id": "ad611e86-2c9a-4376-b751-05d73327869b",
   "metadata": {},
   "outputs": [
    {
     "name": "stdout",
     "output_type": "stream",
     "text": [
      "Spark NLP version 4.2.2\n",
      "Apache Spark version: 3.3.1\n"
     ]
    },
    {
     "data": {
      "text/html": [
       "\n",
       "            <div>\n",
       "                <p><b>SparkSession - in-memory</b></p>\n",
       "                \n",
       "        <div>\n",
       "            <p><b>SparkContext</b></p>\n",
       "\n",
       "            <p><a href=\"http://84bd35d2d5d2:4041\">Spark UI</a></p>\n",
       "\n",
       "            <dl>\n",
       "              <dt>Version</dt>\n",
       "                <dd><code>v3.3.1</code></dd>\n",
       "              <dt>Master</dt>\n",
       "                <dd><code>local[2]</code></dd>\n",
       "              <dt>AppName</dt>\n",
       "                <dd><code>Spark NLP</code></dd>\n",
       "            </dl>\n",
       "        </div>\n",
       "        \n",
       "            </div>\n",
       "        "
      ],
      "text/plain": [
       "<pyspark.sql.session.SparkSession at 0x7f82c75812d0>"
      ]
     },
     "execution_count": 1,
     "metadata": {},
     "output_type": "execute_result"
    }
   ],
   "source": [
    "import sparknlp\n",
    "\n",
    "from pyspark.ml import PipelineModel\n",
    "from sparknlp.annotator import *\n",
    "from sparknlp.base import *\n",
    "from pyspark import SparkContext,SparkConf\n",
    "from pyspark.sql import SparkSession\n",
    "# spark = sparknlp.start() # for GPU training >> sparknlp.start(gpu = True) # for Spark 2.3 =>> sparknlp.start(spark23 = True)\n",
    "spark = SparkSession.builder \\\n",
    "    .appName(\"Spark NLP\")\\\n",
    "    .master(\"local[2]\")\\\n",
    "    .config(\"spark.driver.memory\",\"8G\")\\\n",
    "    .config(\"spark.driver.maxResultSize\", \"0\") \\\n",
    "    .config(\"spark.kryoserializer.buffer.max\", \"2000M\")\\\n",
    "    .config(\"spark.jars.packages\", \"com.johnsnowlabs.nlp:spark-nlp_2.12:4.2.3,org.postgresql:postgresql:42.5.0\")\\\n",
    "    .getOrCreate()\n",
    "print(\"Spark NLP version\", sparknlp.version())\n",
    "print(\"Apache Spark version:\", spark.version)\n",
    "\n",
    "spark"
   ]
  },
  {
   "cell_type": "code",
   "execution_count": 12,
   "id": "60555578-67cf-40e1-b73b-1e7a31bf5f64",
   "metadata": {},
   "outputs": [],
   "source": [
    "pgDF=spark.read.format(\"jdbc\").\\\n",
    "    option(\"url\", \"jdbc:postgresql://192.168.0.11:5432/aiknowledge\").\\\n",
    "    option(\"user\", \"postgres\").\\\n",
    "    option(\"password\", \"postgres\").\\\n",
    "    option(\"query\",\"\"\"select  \"Book_id\" as id,\"bookName\" ,max(\"chapterID\") as chapters from public.articles_chapters group by  \"Book_id\",\"bookName\" order by id\"\"\").\\\n",
    "    option(\"driver\", \"org.postgresql.Driver\").load()     \n",
    "# 192.168.1.39"
   ]
  },
  {
   "cell_type": "code",
   "execution_count": 13,
   "id": "3788c6eb-815e-4fe0-99f4-ad3cd8cc1436",
   "metadata": {},
   "outputs": [
    {
     "name": "stdout",
     "output_type": "stream",
     "text": [
      "+---+------------+--------+\n",
      "| id|    bookName|chapters|\n",
      "+---+------------+--------+\n",
      "|  1|     Genesis|      50|\n",
      "|  2|      Exodus|      40|\n",
      "|  3|   Leviticus|      27|\n",
      "|  4|     Numbers|      36|\n",
      "|  5| Deuteronomy|      34|\n",
      "|  6|      Joshua|      24|\n",
      "|  7|      Judges|      21|\n",
      "|  8|        Ruth|       4|\n",
      "|  9|    1 Samuel|      31|\n",
      "| 10|    2 Samuel|      24|\n",
      "| 11|     1 Kings|      22|\n",
      "| 12|     2 Kings|      25|\n",
      "| 13|1 Chronicles|      29|\n",
      "| 14|2 Chronicles|      36|\n",
      "| 15|        Ezra|      10|\n",
      "| 16|    Nehemiah|      13|\n",
      "| 17|      Esther|      10|\n",
      "| 18|         Job|      42|\n",
      "| 19|      Psalms|     150|\n",
      "| 20|    Proverbs|      31|\n",
      "+---+------------+--------+\n",
      "only showing top 20 rows\n",
      "\n"
     ]
    }
   ],
   "source": [
    "pgDF.show()\n"
   ]
  },
  {
   "cell_type": "code",
   "execution_count": 14,
   "id": "26a7875a-e322-4494-9c47-90acc26ebfd0",
   "metadata": {},
   "outputs": [
    {
     "data": {
      "text/plain": [
       "66"
      ]
     },
     "execution_count": 14,
     "metadata": {},
     "output_type": "execute_result"
    }
   ],
   "source": [
    "pgDF.count()"
   ]
  },
  {
   "cell_type": "code",
   "execution_count": null,
   "id": "81ecafb9-d087-4f44-aef5-b10e541a5ace",
   "metadata": {},
   "outputs": [],
   "source": []
  }
 ],
 "metadata": {
  "kernelspec": {
   "display_name": "Python 3 (ipykernel)",
   "language": "python",
   "name": "python3"
  },
  "language_info": {
   "codemirror_mode": {
    "name": "ipython",
    "version": 3
   },
   "file_extension": ".py",
   "mimetype": "text/x-python",
   "name": "python",
   "nbconvert_exporter": "python",
   "pygments_lexer": "ipython3",
   "version": "3.10.6"
  }
 },
 "nbformat": 4,
 "nbformat_minor": 5
}
