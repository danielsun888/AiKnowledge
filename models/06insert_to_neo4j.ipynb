{
 "cells": [
  {
   "cell_type": "code",
   "execution_count": 1,
   "metadata": {},
   "outputs": [
    {
     "name": "stdout",
     "output_type": "stream",
     "text": [
      "Spark NLP version 4.2.2\n",
      "Apache Spark version: 3.3.1\n"
     ]
    },
    {
     "data": {
      "text/html": [
       "\n",
       "            <div>\n",
       "                <p><b>SparkSession - in-memory</b></p>\n",
       "                \n",
       "        <div>\n",
       "            <p><b>SparkContext</b></p>\n",
       "\n",
       "            <p><a href=\"http://84bd35d2d5d2:4044\">Spark UI</a></p>\n",
       "\n",
       "            <dl>\n",
       "              <dt>Version</dt>\n",
       "                <dd><code>v3.3.1</code></dd>\n",
       "              <dt>Master</dt>\n",
       "                <dd><code>local[2]</code></dd>\n",
       "              <dt>AppName</dt>\n",
       "                <dd><code>Spark NLP</code></dd>\n",
       "            </dl>\n",
       "        </div>\n",
       "        \n",
       "            </div>\n",
       "        "
      ],
      "text/plain": [
       "<pyspark.sql.session.SparkSession at 0x7febc667d000>"
      ]
     },
     "execution_count": 1,
     "metadata": {},
     "output_type": "execute_result"
    }
   ],
   "source": [
    "import sparknlp\n",
    "\n",
    "from pyspark.ml import PipelineModel\n",
    "from sparknlp.annotator import *\n",
    "from sparknlp.base import *\n",
    "from pyspark import SparkContext,SparkConf\n",
    "from pyspark.sql import SparkSession\n",
    "# spark = sparknlp.start() # for GPU training >> sparknlp.start(gpu = True) # for Spark 2.3 =>> sparknlp.start(spark23 = True)\n",
    "spark = SparkSession.builder \\\n",
    "    .appName(\"Spark NLP\")\\\n",
    "    .master(\"local[2]\")\\\n",
    "    .config(\"spark.driver.memory\",\"8G\")\\\n",
    "    .config(\"spark.driver.maxResultSize\", \"0\") \\\n",
    "    .config(\"spark.kryoserializer.buffer.max\", \"2000M\")\\\n",
    "    .config(\"spark.jars.packages\", \"org.postgresql:postgresql:42.5.0\")\\\n",
    "    .getOrCreate()\n",
    "print(\"Spark NLP version\", sparknlp.version())\n",
    "print(\"Apache Spark version:\", spark.version)\n",
    "\n",
    "spark"
   ]
  },
  {
   "cell_type": "code",
   "execution_count": 2,
   "metadata": {},
   "outputs": [
    {
     "name": "stdout",
     "output_type": "stream",
     "text": [
      "+------------------+-----+\n",
      "|               col|count|\n",
      "+------------------+-----+\n",
      "|            waters|  151|\n",
      "|         first day|   46|\n",
      "|  noah and entered|    2|\n",
      "|        great deep|    4|\n",
      "|             still|  276|\n",
      "|        may canaan|    2|\n",
      "|          ashkenaz|    3|\n",
      "|men moved eastward|    1|\n",
      "|             serug|    6|\n",
      "|            spared|   24|\n",
      "| anything too hard|    2|\n",
      "|    sake of twenty|    1|\n",
      "|      two men said|    1|\n",
      "|        swept away|   10|\n",
      "|         ammonites|   78|\n",
      "|              hazo|    1|\n",
      "|       master made|    1|\n",
      "|           jewelry|   11|\n",
      "|         go toward|    1|\n",
      "|        loved esau|    1|\n",
      "+------------------+-----+\n",
      "only showing top 20 rows\n",
      "\n"
     ]
    }
   ],
   "source": [
    "df_keyword=spark.read.parquet('./keywordFrequency.parquet/')\n",
    "df_keyword.show()"
   ]
  },
  {
   "cell_type": "code",
   "execution_count": 3,
   "metadata": {},
   "outputs": [
    {
     "name": "stdout",
     "output_type": "stream",
     "text": [
      "+------------------+-----+---+\n",
      "|               col|count| ID|\n",
      "+------------------+-----+---+\n",
      "|            waters|  151|  0|\n",
      "|         first day|   46|  1|\n",
      "|  noah and entered|    2|  2|\n",
      "|        great deep|    4|  3|\n",
      "|             still|  276|  4|\n",
      "|        may canaan|    2|  5|\n",
      "|          ashkenaz|    3|  6|\n",
      "|men moved eastward|    1|  7|\n",
      "|             serug|    6|  8|\n",
      "|            spared|   24|  9|\n",
      "| anything too hard|    2| 10|\n",
      "|    sake of twenty|    1| 11|\n",
      "|      two men said|    1| 12|\n",
      "|        swept away|   10| 13|\n",
      "|         ammonites|   78| 14|\n",
      "|              hazo|    1| 15|\n",
      "|       master made|    1| 16|\n",
      "|           jewelry|   11| 17|\n",
      "|         go toward|    1| 18|\n",
      "|        loved esau|    1| 19|\n",
      "+------------------+-----+---+\n",
      "only showing top 20 rows\n",
      "\n",
      "root\n",
      " |-- col: string (nullable = true)\n",
      " |-- count: long (nullable = true)\n",
      " |-- ID: long (nullable = false)\n",
      "\n"
     ]
    }
   ],
   "source": [
    "from pyspark.sql.functions import *\n",
    "   \n",
    "df_keyword = df_keyword.withColumn(\"ID\", monotonically_increasing_id())\n",
    "df_keyword.show()\n",
    "df_keyword.printSchema()"
   ]
  },
  {
   "cell_type": "code",
   "execution_count": 6,
   "metadata": {},
   "outputs": [
    {
     "name": "stdout",
     "output_type": "stream",
     "text": [
      "+------------------+---------+---+\n",
      "|              name|frequency| id|\n",
      "+------------------+---------+---+\n",
      "|            waters|      151|  0|\n",
      "|         first day|       46|  1|\n",
      "|  noah and entered|        2|  2|\n",
      "|        great deep|        4|  3|\n",
      "|             still|      276|  4|\n",
      "|        may canaan|        2|  5|\n",
      "|          ashkenaz|        3|  6|\n",
      "|men moved eastward|        1|  7|\n",
      "|             serug|        6|  8|\n",
      "|            spared|       24|  9|\n",
      "| anything too hard|        2| 10|\n",
      "|    sake of twenty|        1| 11|\n",
      "|      two men said|        1| 12|\n",
      "|        swept away|       10| 13|\n",
      "|         ammonites|       78| 14|\n",
      "|              hazo|        1| 15|\n",
      "|       master made|        1| 16|\n",
      "|           jewelry|       11| 17|\n",
      "|         go toward|        1| 18|\n",
      "|        loved esau|        1| 19|\n",
      "+------------------+---------+---+\n",
      "only showing top 20 rows\n",
      "\n"
     ]
    }
   ],
   "source": [
    "df_keyword2=df_keyword.selectExpr('col as name','count as frequency','ID as id')\n",
    "df_keyword2.show()"
   ]
  },
  {
   "cell_type": "code",
   "execution_count": 7,
   "metadata": {},
   "outputs": [],
   "source": [
    "\n",
    "df_keyword2.write.format(\"jdbc\")\\\n",
    "    .option(\"url\", \"jdbc:postgresql://192.168.1.39:5432/aiknowledge\")\\\n",
    "    .option(\"dbtable\", \"public.articles_keyword\")\\\n",
    "    .option(\"user\", \"postgres\")\\\n",
    "    .option(\"password\", \"postgres\")\\\n",
    "    .option(\"driver\", \"org.postgresql.Driver\") \\\n",
    "    .mode('overwrite').save()"
   ]
  },
  {
   "cell_type": "code",
   "execution_count": null,
   "metadata": {},
   "outputs": [],
   "source": [
    "from py2neo import Graph, Node, Relationship\n",
    "import time\n",
    "from tqdm import tqdm\n",
    "\n",
    "for row in tqdm(df_keyword.rdd.collect()):\n",
    "    keyword = Node('bible_keyword', name=row['keyword'])\n",
    "    keyword['count']=row['count']\n",
    "    graph.create(keyword)\n",
    "\n",
    "\n",
    "  "
   ]
  },
  {
   "cell_type": "markdown",
   "metadata": {
    "tags": []
   },
   "source": [
    "\n",
    "### write to neo4j"
   ]
  }
 ],
 "metadata": {
  "kernelspec": {
   "display_name": "Python 3 (ipykernel)",
   "language": "python",
   "name": "python3"
  },
  "language_info": {
   "codemirror_mode": {
    "name": "ipython",
    "version": 3
   },
   "file_extension": ".py",
   "mimetype": "text/x-python",
   "name": "python",
   "nbconvert_exporter": "python",
   "pygments_lexer": "ipython3",
   "version": "3.10.6"
  }
 },
 "nbformat": 4,
 "nbformat_minor": 4
}
