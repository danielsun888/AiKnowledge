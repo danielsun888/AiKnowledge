{
 "cells": [
  {
   "cell_type": "markdown",
   "metadata": {
    "id": "HKn131CHyyJS"
   },
   "source": [
    "# 8 Keyword Extraction with YAKE"
   ]
  },
  {
   "cell_type": "code",
   "execution_count": 1,
   "metadata": {
    "executionInfo": {
     "elapsed": 3478,
     "status": "ok",
     "timestamp": 1664989393532,
     "user": {
      "displayName": "Merve Ertas Uslu",
      "userId": "01451729557099986551"
     },
     "user_tz": -120
    },
    "id": "9LPdKxwMiUOd"
   },
   "outputs": [
    {
     "name": "stdout",
     "output_type": "stream",
     "text": [
      "\u001b[31mERROR: pip's dependency resolver does not currently take into account all the packages that are installed. This behaviour is the source of the following dependency conflicts.\n",
      "spark-nlp-jsl 4.2.2 requires spark-nlp==4.2.2, but you have spark-nlp 4.2.0 which is incompatible.\u001b[0m\u001b[31m\n",
      "\u001b[0m"
     ]
    }
   ],
   "source": [
    "# ! pip install -q pyspark==3.3.0 spark-nlp==4.2.0"
   ]
  },
  {
   "cell_type": "code",
   "execution_count": 7,
   "metadata": {
    "executionInfo": {
     "elapsed": 355,
     "status": "ok",
     "timestamp": 1664989393880,
     "user": {
      "displayName": "Merve Ertas Uslu",
      "userId": "01451729557099986551"
     },
     "user_tz": -120
    },
    "id": "z_S72s4234Cs"
   },
   "outputs": [],
   "source": [
    "from pyspark.sql import functions as F\n",
    "from pyspark.sql.functions import lit\n",
    "from pyspark.sql.types import StringType, DataType,ArrayType\n",
    "from pyspark.sql.functions import udf, struct\n",
    "from pyspark.ml import Pipeline\n",
    "from IPython.display import display, HTML\n",
    "import re"
   ]
  },
  {
   "cell_type": "code",
   "execution_count": 8,
   "metadata": {
    "colab": {
     "base_uri": "https://localhost:8080/",
     "height": 254
    },
    "executionInfo": {
     "elapsed": 31656,
     "status": "ok",
     "timestamp": 1664989425533,
     "user": {
      "displayName": "Merve Ertas Uslu",
      "userId": "01451729557099986551"
     },
     "user_tz": -120
    },
    "id": "8DFCYTaDC1qZ",
    "outputId": "e4502f32-5c60-4610-93ef-8b95bb0a47d3"
   },
   "outputs": [
    {
     "name": "stdout",
     "output_type": "stream",
     "text": [
      "Spark NLP version 4.2.2\n",
      "Apache Spark version: 3.3.1\n"
     ]
    },
    {
     "data": {
      "text/html": [
       "\n",
       "            <div>\n",
       "                <p><b>SparkSession - in-memory</b></p>\n",
       "                \n",
       "        <div>\n",
       "            <p><b>SparkContext</b></p>\n",
       "\n",
       "            <p><a href=\"http://84bd35d2d5d2:4040\">Spark UI</a></p>\n",
       "\n",
       "            <dl>\n",
       "              <dt>Version</dt>\n",
       "                <dd><code>v3.3.1</code></dd>\n",
       "              <dt>Master</dt>\n",
       "                <dd><code>local[2]</code></dd>\n",
       "              <dt>AppName</dt>\n",
       "                <dd><code>Spark NLP</code></dd>\n",
       "            </dl>\n",
       "        </div>\n",
       "        \n",
       "            </div>\n",
       "        "
      ],
      "text/plain": [
       "<pyspark.sql.session.SparkSession at 0x7f6877905630>"
      ]
     },
     "execution_count": 8,
     "metadata": {},
     "output_type": "execute_result"
    }
   ],
   "source": [
    "import sparknlp\n",
    "\n",
    "from pyspark.ml import PipelineModel\n",
    "from sparknlp.annotator import *\n",
    "from sparknlp.base import *\n",
    "from pyspark import SparkContext,SparkConf\n",
    "from pyspark.sql import SparkSession\n",
    "# spark = sparknlp.start() # for GPU training >> sparknlp.start(gpu = True) # for Spark 2.3 =>> sparknlp.start(spark23 = True)\n",
    "spark = SparkSession.builder \\\n",
    "    .appName(\"Spark NLP\")\\\n",
    "    .master(\"local[2]\")\\\n",
    "    .config(\"spark.driver.memory\",\"8G\")\\\n",
    "    .config(\"spark.driver.maxResultSize\", \"0\") \\\n",
    "    .config(\"spark.kryoserializer.buffer.max\", \"2000M\")\\\n",
    "    .config(\"spark.jars.packages\", \"com.johnsnowlabs.nlp:spark-nlp_2.12:4.2.3,org.postgresql:postgresql:42.5.0\")\\\n",
    "    .getOrCreate()\n",
    "print(\"Spark NLP version\", sparknlp.version())\n",
    "print(\"Apache Spark version:\", spark.version)\n",
    "\n",
    "spark"
   ]
  },
  {
   "cell_type": "code",
   "execution_count": 9,
   "metadata": {
    "executionInfo": {
     "elapsed": 19,
     "status": "ok",
     "timestamp": 1664989425534,
     "user": {
      "displayName": "Merve Ertas Uslu",
      "userId": "01451729557099986551"
     },
     "user_tz": -120
    },
    "id": "iOJU1xf-D5D8"
   },
   "outputs": [],
   "source": [
    "stopwords = StopWordsCleaner().getStopWords()"
   ]
  },
  {
   "cell_type": "code",
   "execution_count": 10,
   "metadata": {
    "colab": {
     "base_uri": "https://localhost:8080/"
    },
    "executionInfo": {
     "elapsed": 16,
     "status": "ok",
     "timestamp": 1664989425534,
     "user": {
      "displayName": "Merve Ertas Uslu",
      "userId": "01451729557099986551"
     },
     "user_tz": -120
    },
    "id": "KCigxYJTD_RQ",
    "outputId": "cf9580f0-bbda-4467-cb63-71fbf6ddb131"
   },
   "outputs": [
    {
     "data": {
      "text/plain": [
       "['i', 'me', 'my', 'myself', 'we']"
      ]
     },
     "execution_count": 10,
     "metadata": {},
     "output_type": "execute_result"
    }
   ],
   "source": [
    "stopwords[:5]"
   ]
  },
  {
   "cell_type": "markdown",
   "metadata": {
    "id": "3QPZpoZDyyJz"
   },
   "source": [
    "## YAKE Keyword Extractor\n",
    "\n",
    "Yake is an Unsupervised, Corpus-Independent, Domain and Language-Independent and Single-Document keyword extraction algorithm.\n",
    "\n",
    "Extracting keywords from texts has become a challenge for individuals and organizations as the information grows in complexity and size. The need to automate this task so that text can be processed in a timely and adequate manner has led to the emergence of automatic keyword extraction tools. Yake is a novel feature-based system for multi-lingual keyword extraction, which supports texts of different sizes, domain or languages. Unlike other approaches, Yake does not rely on dictionaries nor thesauri, neither is trained against any corpora. Instead, it follows an unsupervised approach which builds upon features extracted from the text, making it thus applicable to documents written in different languages without the need for further knowledge. This can be beneficial for a large number of tasks and a plethora of situations where access to training corpora is either limited or restricted.\n",
    "\n",
    "\n",
    "The algorithm makes use of the position of a sentence and token. Therefore, to use the annotator, the text should be first sent through a Sentence Boundary Detector and then a tokenizer.\n",
    "\n",
    "You can tweak the following parameters to get the best result from the annotator.\n",
    "\n",
    "- *setMinNGrams(int)* Select the minimum length of a extracted keyword\n",
    "- *setMaxNGrams(int)* Select the maximum length of a extracted keyword\n",
    "- *setNKeywords(int)* Extract the top N keywords\n",
    "- *setStopWords(list)* Set the list of stop words\n",
    "- *setThreshold(float)* Each keyword will be given a keyword score greater than 0. (Lower the score better the keyword) Set an upper bound for the keyword score from this method.\n",
    "- *setWindowSize(int)* Yake will construct a co-occurence matrix. You can set the window size for the cooccurence matrix construction from this method. ex: windowSize=2 will look at two words to both left and right of a candidate word.\n",
    "\n",
    "\n",
    "<b>References</b>\n",
    "\n",
    "Campos, R., Mangaravite, V., Pasquali, A., Jatowt, A., Jorge, A., Nunes, C. and Jatowt, A. (2020). YAKE! Keyword Extraction from Single Documents using Multiple Local Features. In Information Sciences Journal. Elsevier, Vol 509, pp 257-289. [pdf](https://doi.org/10.1016/j.ins.2019.09.013)"
   ]
  },
  {
   "cell_type": "code",
   "execution_count": 11,
   "metadata": {
    "executionInfo": {
     "elapsed": 6019,
     "status": "ok",
     "timestamp": 1664989431542,
     "user": {
      "displayName": "Merve Ertas Uslu",
      "userId": "01451729557099986551"
     },
     "user_tz": -120
    },
    "id": "ConWEw-aACul"
   },
   "outputs": [],
   "source": [
    "document = DocumentAssembler() \\\n",
    "            .setInputCol(\"text\") \\\n",
    "            .setOutputCol(\"document\")\n",
    "\n",
    "sentenceDetector = SentenceDetector() \\\n",
    "            .setInputCols(\"document\") \\\n",
    "            .setOutputCol(\"sentence\")\n",
    "\n",
    "token = Tokenizer() \\\n",
    "            .setInputCols(\"sentence\") \\\n",
    "            .setOutputCol(\"token\") \\\n",
    "            .setContextChars([\"(\", \")\", \"?\", \"!\", \".\", \",\"])\n",
    "\n",
    "keywords = YakeKeywordExtraction() \\\n",
    "            .setInputCols(\"token\") \\\n",
    "            .setOutputCol(\"keywords\") \\\n",
    "            .setMinNGrams(1) \\\n",
    "            .setMaxNGrams(3)\\\n",
    "            .setNKeywords(20)\\\n",
    "            .setStopWords(stopwords)\n",
    "\n",
    "yake_pipeline = Pipeline(stages=[document, sentenceDetector, token, keywords])\n",
    "\n",
    "empty_df = spark.createDataFrame([['']]).toDF(\"text\")\n",
    "\n",
    "yake_Model = yake_pipeline.fit(empty_df)"
   ]
  },
  {
   "cell_type": "code",
   "execution_count": 12,
   "metadata": {
    "colab": {
     "base_uri": "https://localhost:8080/"
    },
    "executionInfo": {
     "elapsed": 20619,
     "status": "ok",
     "timestamp": 1664989452152,
     "user": {
      "displayName": "Merve Ertas Uslu",
      "userId": "01451729557099986551"
     },
     "user_tz": -120
    },
    "id": "xHKXF9jwzkjb",
    "outputId": "0e45d719-4f8d-494a-f4bc-2d23d9411e7a"
   },
   "outputs": [
    {
     "data": {
      "text/plain": [
       "[('0',\n",
       "  'Then the LORD said, \"The outcry against Sodom and Gomorrah is so great and their sin so grievous')]"
      ]
     },
     "execution_count": 12,
     "metadata": {},
     "output_type": "execute_result"
    }
   ],
   "source": [
    "# LightPipeline\n",
    "\n",
    "light_model = LightPipeline(yake_Model)\n",
    "\n",
    "text = '''\n",
    "Then the LORD said, \"The outcry against Sodom and Gomorrah is so great and their sin so grievous'''\n",
    "\n",
    "light_result = light_model.fullAnnotate(text)[0]\n",
    "\n",
    "[(s.metadata['sentence'], s.result) for s in light_result['sentence']]"
   ]
  },
  {
   "cell_type": "code",
   "execution_count": 13,
   "metadata": {},
   "outputs": [
    {
     "data": {
      "text/plain": [
       "dict_keys(['document', 'sentence', 'token', 'keywords'])"
      ]
     },
     "execution_count": 13,
     "metadata": {},
     "output_type": "execute_result"
    }
   ],
   "source": [
    "light_result.keys()\n"
   ]
  },
  {
   "cell_type": "code",
   "execution_count": 20,
   "metadata": {},
   "outputs": [],
   "source": [
    "# df = spark.createDataFrame(data=light_result,schema=[['document', 'sentence', 'token', 'keywords']])\n",
    "# df.printSchema()\n",
    "# df.show(truncate=False)\n"
   ]
  },
  {
   "cell_type": "code",
   "execution_count": 12,
   "metadata": {
    "colab": {
     "base_uri": "https://localhost:8080/",
     "height": 990
    },
    "executionInfo": {
     "elapsed": 36,
     "status": "ok",
     "timestamp": 1664989452153,
     "user": {
      "displayName": "Merve Ertas Uslu",
      "userId": "01451729557099986551"
     },
     "user_tz": -120
    },
    "id": "S1TBn41yzyXB",
    "outputId": "09d5df29-240e-48d9-8326-df2edd97642b"
   },
   "outputs": [
    {
     "data": {
      "text/html": [
       "<div>\n",
       "<style scoped>\n",
       "    .dataframe tbody tr th:only-of-type {\n",
       "        vertical-align: middle;\n",
       "    }\n",
       "\n",
       "    .dataframe tbody tr th {\n",
       "        vertical-align: top;\n",
       "    }\n",
       "\n",
       "    .dataframe thead th {\n",
       "        text-align: right;\n",
       "    }\n",
       "</style>\n",
       "<table border=\"1\" class=\"dataframe\">\n",
       "  <thead>\n",
       "    <tr style=\"text-align: right;\">\n",
       "      <th></th>\n",
       "      <th>keywords</th>\n",
       "      <th>begin</th>\n",
       "      <th>end</th>\n",
       "      <th>score</th>\n",
       "      <th>sentence</th>\n",
       "    </tr>\n",
       "  </thead>\n",
       "  <tbody>\n",
       "    <tr>\n",
       "      <th>7</th>\n",
       "      <td>grievous</td>\n",
       "      <td>89</td>\n",
       "      <td>96</td>\n",
       "      <td>0.393326</td>\n",
       "      <td>0</td>\n",
       "    </tr>\n",
       "    <tr>\n",
       "      <th>8</th>\n",
       "      <td>lord said</td>\n",
       "      <td>10</td>\n",
       "      <td>18</td>\n",
       "      <td>0.440864</td>\n",
       "      <td>0</td>\n",
       "    </tr>\n",
       "    <tr>\n",
       "      <th>0</th>\n",
       "      <td>lord</td>\n",
       "      <td>10</td>\n",
       "      <td>13</td>\n",
       "      <td>0.475870</td>\n",
       "      <td>0</td>\n",
       "    </tr>\n",
       "    <tr>\n",
       "      <th>3</th>\n",
       "      <td>sodom</td>\n",
       "      <td>41</td>\n",
       "      <td>45</td>\n",
       "      <td>0.475870</td>\n",
       "      <td>0</td>\n",
       "    </tr>\n",
       "    <tr>\n",
       "      <th>4</th>\n",
       "      <td>gomorrah</td>\n",
       "      <td>51</td>\n",
       "      <td>58</td>\n",
       "      <td>0.475870</td>\n",
       "      <td>0</td>\n",
       "    </tr>\n",
       "    <tr>\n",
       "      <th>1</th>\n",
       "      <td>said</td>\n",
       "      <td>15</td>\n",
       "      <td>18</td>\n",
       "      <td>0.642974</td>\n",
       "      <td>0</td>\n",
       "    </tr>\n",
       "    <tr>\n",
       "      <th>2</th>\n",
       "      <td>outcry</td>\n",
       "      <td>26</td>\n",
       "      <td>31</td>\n",
       "      <td>0.642974</td>\n",
       "      <td>0</td>\n",
       "    </tr>\n",
       "    <tr>\n",
       "      <th>5</th>\n",
       "      <td>great</td>\n",
       "      <td>66</td>\n",
       "      <td>70</td>\n",
       "      <td>0.642974</td>\n",
       "      <td>0</td>\n",
       "    </tr>\n",
       "    <tr>\n",
       "      <th>6</th>\n",
       "      <td>sin</td>\n",
       "      <td>82</td>\n",
       "      <td>84</td>\n",
       "      <td>0.642974</td>\n",
       "      <td>0</td>\n",
       "    </tr>\n",
       "    <tr>\n",
       "      <th>10</th>\n",
       "      <td>sodom and gomorrah</td>\n",
       "      <td>41</td>\n",
       "      <td>58</td>\n",
       "      <td>0.907923</td>\n",
       "      <td>0</td>\n",
       "    </tr>\n",
       "    <tr>\n",
       "      <th>11</th>\n",
       "      <td>sin so grievous</td>\n",
       "      <td>82</td>\n",
       "      <td>96</td>\n",
       "      <td>0.953428</td>\n",
       "      <td>0</td>\n",
       "    </tr>\n",
       "    <tr>\n",
       "      <th>9</th>\n",
       "      <td>outcry against sodom</td>\n",
       "      <td>26</td>\n",
       "      <td>45</td>\n",
       "      <td>1.207229</td>\n",
       "      <td>0</td>\n",
       "    </tr>\n",
       "  </tbody>\n",
       "</table>\n",
       "</div>"
      ],
      "text/plain": [
       "                keywords  begin  end     score sentence\n",
       "7               grievous     89   96  0.393326        0\n",
       "8              lord said     10   18  0.440864        0\n",
       "0                   lord     10   13  0.475870        0\n",
       "3                  sodom     41   45  0.475870        0\n",
       "4               gomorrah     51   58  0.475870        0\n",
       "1                   said     15   18  0.642974        0\n",
       "2                 outcry     26   31  0.642974        0\n",
       "5                  great     66   70  0.642974        0\n",
       "6                    sin     82   84  0.642974        0\n",
       "10    sodom and gomorrah     41   58  0.907923        0\n",
       "11       sin so grievous     82   96  0.953428        0\n",
       "9   outcry against sodom     26   45  1.207229        0"
      ]
     },
     "execution_count": 12,
     "metadata": {},
     "output_type": "execute_result"
    }
   ],
   "source": [
    "# import pandas as pd\n",
    "\n",
    "# keys_df = pd.DataFrame([(k.result, k.begin, k.end, k.metadata['score'],  k.metadata['sentence']) for k in light_result['keywords']],\n",
    "#                        columns = ['keywords','begin','end','score','sentence'])\n",
    "# keys_df['score'] = keys_df['score'].astype(float)\n",
    "\n",
    "# # ordered by relevance \n",
    "# keys_df.sort_values(['sentence','score']).head(30)"
   ]
  },
  {
   "cell_type": "markdown",
   "metadata": {
    "id": "X0iVE9qt1Vmq"
   },
   "source": [
    "### Getting keywords from datraframe"
   ]
  },
  {
   "cell_type": "code",
   "execution_count": 39,
   "metadata": {
    "colab": {
     "base_uri": "https://localhost:8080/"
    },
    "executionInfo": {
     "elapsed": 4122,
     "status": "ok",
     "timestamp": 1664989456244,
     "user": {
      "displayName": "Merve Ertas Uslu",
      "userId": "01451729557099986551"
     },
     "user_tz": -120
    },
    "id": "ldRBUp-w1Z8U",
    "outputId": "a97053ce-9a1c-4a57-f930-8d5efff7aab5"
   },
   "outputs": [
    {
     "name": "stdout",
     "output_type": "stream",
     "text": [
      "root\n",
      " |-- _c0: integer (nullable = true)\n",
      " |-- _c1: integer (nullable = true)\n",
      " |-- _c2: integer (nullable = true)\n",
      " |-- _c3: string (nullable = true)\n",
      "\n"
     ]
    }
   ],
   "source": [
    "# ! wget -q https://s3.amazonaws.com/auxdata.johnsnowlabs.com/public/resources/en/pubmed/pubmed_sample_text_small.csv\n",
    "\n",
    "df = spark.read.csv(\"../data/bibleNIV.csv\",inferSchema=True)\\\n",
    "                \n",
    "df.printSchema()"
   ]
  },
  {
   "cell_type": "code",
   "execution_count": 40,
   "metadata": {},
   "outputs": [
    {
     "name": "stdout",
     "output_type": "stream",
     "text": [
      "+---+---+---+--------------------+\n",
      "|_c0|_c1|_c2|                 _c3|\n",
      "+---+---+---+--------------------+\n",
      "|  1|  1|  1|In the beginning ...|\n",
      "|  1|  1|  2|Now the earth was...|\n",
      "|  1|  1|  3|And God said, \"Le...|\n",
      "|  1|  1|  4|God saw that the ...|\n",
      "|  1|  1|  5|God called the li...|\n",
      "|  1|  1|  6|And God said, \"Le...|\n",
      "|  1|  1|  7|So God made the e...|\n",
      "|  1|  1|  8|God called the ex...|\n",
      "|  1|  1|  9|And God said, \"Le...|\n",
      "|  1|  1| 10|God called the dr...|\n",
      "|  1|  1| 11|Then God said, \"L...|\n",
      "|  1|  1| 12|The land produced...|\n",
      "|  1|  1| 13|And there was eve...|\n",
      "|  1|  1| 14|And God said, \"Le...|\n",
      "|  1|  1| 15|and let them be l...|\n",
      "|  1|  1| 16|God made two grea...|\n",
      "|  1|  1| 17|God set them in t...|\n",
      "|  1|  1| 18|to govern the day...|\n",
      "|  1|  1| 19|And there was eve...|\n",
      "|  1|  1| 20|And God said, \"Le...|\n",
      "+---+---+---+--------------------+\n",
      "only showing top 20 rows\n",
      "\n"
     ]
    }
   ],
   "source": [
    "df.show()"
   ]
  },
  {
   "cell_type": "code",
   "execution_count": 41,
   "metadata": {},
   "outputs": [
    {
     "name": "stdout",
     "output_type": "stream",
     "text": [
      "+----+-------+-----+--------------------+\n",
      "|book|chapter|verse|                text|\n",
      "+----+-------+-----+--------------------+\n",
      "|   1|      1|    1|In the beginning ...|\n",
      "|   1|      1|    2|Now the earth was...|\n",
      "|   1|      1|    3|And God said, \"Le...|\n",
      "|   1|      1|    4|God saw that the ...|\n",
      "|   1|      1|    5|God called the li...|\n",
      "|   1|      1|    6|And God said, \"Le...|\n",
      "|   1|      1|    7|So God made the e...|\n",
      "|   1|      1|    8|God called the ex...|\n",
      "|   1|      1|    9|And God said, \"Le...|\n",
      "|   1|      1|   10|God called the dr...|\n",
      "|   1|      1|   11|Then God said, \"L...|\n",
      "|   1|      1|   12|The land produced...|\n",
      "|   1|      1|   13|And there was eve...|\n",
      "|   1|      1|   14|And God said, \"Le...|\n",
      "|   1|      1|   15|and let them be l...|\n",
      "|   1|      1|   16|God made two grea...|\n",
      "|   1|      1|   17|God set them in t...|\n",
      "|   1|      1|   18|to govern the day...|\n",
      "|   1|      1|   19|And there was eve...|\n",
      "|   1|      1|   20|And God said, \"Le...|\n",
      "+----+-------+-----+--------------------+\n",
      "only showing top 20 rows\n",
      "\n"
     ]
    }
   ],
   "source": [
    "df2=df.selectExpr('_c0 as book','_c1 as chapter','_c2 as verse','_c3 as text')\n",
    "df2.show()"
   ]
  },
  {
   "cell_type": "code",
   "execution_count": 42,
   "metadata": {
    "executionInfo": {
     "elapsed": 744,
     "status": "ok",
     "timestamp": 1664989456973,
     "user": {
      "displayName": "Merve Ertas Uslu",
      "userId": "01451729557099986551"
     },
     "user_tz": -120
    },
    "id": "9hF78PwHzM2v"
   },
   "outputs": [],
   "source": [
    "result = yake_pipeline.fit(df2).transform(df2)"
   ]
  },
  {
   "cell_type": "code",
   "execution_count": 43,
   "metadata": {
    "executionInfo": {
     "elapsed": 8,
     "status": "ok",
     "timestamp": 1664989456974,
     "user": {
      "displayName": "Merve Ertas Uslu",
      "userId": "01451729557099986551"
     },
     "user_tz": -120
    },
    "id": "JIG80DeiACuo"
   },
   "outputs": [],
   "source": [
    "result = result.withColumn('unique_keywords', F.array_distinct(\"keywords.result\"))"
   ]
  },
  {
   "cell_type": "code",
   "execution_count": 44,
   "metadata": {},
   "outputs": [
    {
     "name": "stdout",
     "output_type": "stream",
     "text": [
      "+----+-------+-----+--------------------+--------------------+--------------------+--------------------+--------------------+--------------------+\n",
      "|book|chapter|verse|                text|            document|            sentence|               token|            keywords|     unique_keywords|\n",
      "+----+-------+-----+--------------------+--------------------+--------------------+--------------------+--------------------+--------------------+\n",
      "|   1|      1|    1|In the beginning ...|[{document, 0, 54...|[{document, 0, 54...|[{token, 0, 1, In...|[{chunk, 7, 15, b...|[beginning, god, ...|\n",
      "|   1|      1|    2|Now the earth was...|[{document, 0, 13...|[{document, 0, 13...|[{token, 0, 2, No...|[{chunk, 8, 12, e...|[earth, formless,...|\n",
      "|   1|      1|    3|And God said, \"Le...|[{document, 0, 55...|[{document, 0, 55...|[{token, 0, 2, An...|[{chunk, 4, 6, go...|[god, said, light...|\n",
      "|   1|      1|    4|God saw that the ...|[{document, 0, 77...|[{document, 0, 77...|[{token, 0, 2, Go...|[{chunk, 0, 2, go...|[god, saw, light,...|\n",
      "|   1|      1|    5|God called the li...|[{document, 0, 12...|[{document, 0, 12...|[{token, 0, 2, Go...|[{chunk, 0, 2, go...|[god, called, lig...|\n",
      "|   1|      1|    6|And God said, \"Le...|[{document, 0, 87...|[{document, 0, 87...|[{token, 0, 2, An...|[{chunk, 4, 6, go...|[god, said, expan...|\n",
      "|   1|      1|    7|So God made the e...|[{document, 0, 10...|[{document, 0, 89...|[{token, 0, 1, So...|[{chunk, 3, 5, go...|[god, made, expan...|\n",
      "|   1|      1|    8|God called the ex...|[{document, 0, 90...|[{document, 0, 90...|[{token, 0, 2, Go...|[{chunk, 0, 2, go...|[god, called, exp...|\n",
      "|   1|      1|    9|And God said, \"Le...|[{document, 0, 11...|[{document, 0, 11...|[{token, 0, 2, An...|[{chunk, 4, 6, go...|[god, said, water...|\n",
      "|   1|      1|   10|God called the dr...|[{document, 0, 10...|[{document, 0, 10...|[{token, 0, 2, Go...|[{chunk, 0, 2, go...|[god, called, dry...|\n",
      "|   1|      1|   11|Then God said, \"L...|[{document, 0, 17...|[{document, 0, 15...|[{token, 0, 3, Th...|[{chunk, 5, 7, go...|[god, said, land,...|\n",
      "|   1|      1|   12|The land produced...|[{document, 0, 16...|[{document, 0, 13...|[{token, 0, 2, Th...|[{chunk, 4, 7, la...|[land, produced, ...|\n",
      "|   1|      1|   13|And there was eve...|[{document, 0, 59...|[{document, 0, 59...|[{token, 0, 2, An...|[{chunk, 14, 20, ...|[evening, third, ...|\n",
      "|   1|      1|   14|And God said, \"Le...|[{document, 0, 15...|[{document, 0, 15...|[{token, 0, 2, An...|[{chunk, 4, 6, go...|[god, said, light...|\n",
      "|   1|      1|   15|and let them be l...|[{document, 0, 91...|[{document, 0, 75...|[{token, 0, 2, an...|[{chunk, 4, 6, le...|[let, lights, exp...|\n",
      "|   1|      1|   16|God made two grea...|[{document, 0, 12...|[{document, 0, 10...|[{token, 0, 2, Go...|[{chunk, 0, 2, go...|[god, made, two, ...|\n",
      "|   1|      1|   17|God set them in t...|[{document, 0, 65...|[{document, 0, 65...|[{token, 0, 2, Go...|[{chunk, 0, 2, go...|[god, set, expans...|\n",
      "|   1|      1|   18|to govern the day...|[{document, 0, 98...|[{document, 0, 68...|[{token, 0, 1, to...|[{chunk, 3, 8, go...|[govern, day, nig...|\n",
      "|   1|      1|   19|And there was eve...|[{document, 0, 60...|[{document, 0, 60...|[{token, 0, 2, An...|[{chunk, 14, 20, ...|[evening, fourth,...|\n",
      "|   1|      1|   20|And God said, \"Le...|[{document, 0, 12...|[{document, 0, 12...|[{token, 0, 2, An...|[{chunk, 4, 6, go...|[god, said, water...|\n",
      "+----+-------+-----+--------------------+--------------------+--------------------+--------------------+--------------------+--------------------+\n",
      "only showing top 20 rows\n",
      "\n"
     ]
    }
   ],
   "source": [
    "result.show()"
   ]
  },
  {
   "cell_type": "code",
   "execution_count": 20,
   "metadata": {
    "executionInfo": {
     "elapsed": 7,
     "status": "ok",
     "timestamp": 1664989456974,
     "user": {
      "displayName": "Merve Ertas Uslu",
      "userId": "01451729557099986551"
     },
     "user_tz": -120
    },
    "id": "S99DR0U6ACur"
   },
   "outputs": [],
   "source": [
    "def highlight(text, keywords):\n",
    "    for k in keywords:\n",
    "        text = (re.sub(r'(\\b%s\\b)'%k, r'<span style=\"background-color: yellow;\">\\1</span>', text, flags=re.IGNORECASE))\n",
    "    return text"
   ]
  },
  {
   "cell_type": "code",
   "execution_count": null,
   "metadata": {},
   "outputs": [],
   "source": []
  },
  {
   "cell_type": "code",
   "execution_count": 21,
   "metadata": {
    "executionInfo": {
     "elapsed": 7,
     "status": "ok",
     "timestamp": 1664989456975,
     "user": {
      "displayName": "Merve Ertas Uslu",
      "userId": "01451729557099986551"
     },
     "user_tz": -120
    },
    "id": "jBJrnYPSACut"
   },
   "outputs": [],
   "source": [
    "highlight_udf = udf(highlight, StringType())\n"
   ]
  },
  {
   "cell_type": "code",
   "execution_count": 45,
   "metadata": {
    "executionInfo": {
     "elapsed": 6,
     "status": "ok",
     "timestamp": 1664989456975,
     "user": {
      "displayName": "Merve Ertas Uslu",
      "userId": "01451729557099986551"
     },
     "user_tz": -120
    },
    "id": "nqavzZpbACuv"
   },
   "outputs": [],
   "source": [
    "result = result.withColumn(\"highlighted_keywords\",highlight_udf('text','unique_keywords'))"
   ]
  },
  {
   "cell_type": "code",
   "execution_count": 46,
   "metadata": {},
   "outputs": [
    {
     "name": "stdout",
     "output_type": "stream",
     "text": [
      "root\n",
      " |-- book: integer (nullable = true)\n",
      " |-- chapter: integer (nullable = true)\n",
      " |-- verse: integer (nullable = true)\n",
      " |-- text: string (nullable = true)\n",
      " |-- document: array (nullable = true)\n",
      " |    |-- element: struct (containsNull = true)\n",
      " |    |    |-- annotatorType: string (nullable = true)\n",
      " |    |    |-- begin: integer (nullable = false)\n",
      " |    |    |-- end: integer (nullable = false)\n",
      " |    |    |-- result: string (nullable = true)\n",
      " |    |    |-- metadata: map (nullable = true)\n",
      " |    |    |    |-- key: string\n",
      " |    |    |    |-- value: string (valueContainsNull = true)\n",
      " |    |    |-- embeddings: array (nullable = true)\n",
      " |    |    |    |-- element: float (containsNull = false)\n",
      " |-- sentence: array (nullable = true)\n",
      " |    |-- element: struct (containsNull = true)\n",
      " |    |    |-- annotatorType: string (nullable = true)\n",
      " |    |    |-- begin: integer (nullable = false)\n",
      " |    |    |-- end: integer (nullable = false)\n",
      " |    |    |-- result: string (nullable = true)\n",
      " |    |    |-- metadata: map (nullable = true)\n",
      " |    |    |    |-- key: string\n",
      " |    |    |    |-- value: string (valueContainsNull = true)\n",
      " |    |    |-- embeddings: array (nullable = true)\n",
      " |    |    |    |-- element: float (containsNull = false)\n",
      " |-- token: array (nullable = true)\n",
      " |    |-- element: struct (containsNull = true)\n",
      " |    |    |-- annotatorType: string (nullable = true)\n",
      " |    |    |-- begin: integer (nullable = false)\n",
      " |    |    |-- end: integer (nullable = false)\n",
      " |    |    |-- result: string (nullable = true)\n",
      " |    |    |-- metadata: map (nullable = true)\n",
      " |    |    |    |-- key: string\n",
      " |    |    |    |-- value: string (valueContainsNull = true)\n",
      " |    |    |-- embeddings: array (nullable = true)\n",
      " |    |    |    |-- element: float (containsNull = false)\n",
      " |-- keywords: array (nullable = true)\n",
      " |    |-- element: struct (containsNull = true)\n",
      " |    |    |-- annotatorType: string (nullable = true)\n",
      " |    |    |-- begin: integer (nullable = false)\n",
      " |    |    |-- end: integer (nullable = false)\n",
      " |    |    |-- result: string (nullable = true)\n",
      " |    |    |-- metadata: map (nullable = true)\n",
      " |    |    |    |-- key: string\n",
      " |    |    |    |-- value: string (valueContainsNull = true)\n",
      " |    |    |-- embeddings: array (nullable = true)\n",
      " |    |    |    |-- element: float (containsNull = false)\n",
      " |-- unique_keywords: array (nullable = true)\n",
      " |    |-- element: string (containsNull = true)\n",
      " |-- highlighted_keywords: string (nullable = true)\n",
      "\n"
     ]
    }
   ],
   "source": [
    "result.printSchema()"
   ]
  },
  {
   "cell_type": "code",
   "execution_count": 47,
   "metadata": {},
   "outputs": [],
   "source": [
    "result.write.mode('overwrite').json('bibleKeyword.json')"
   ]
  },
  {
   "cell_type": "code",
   "execution_count": 27,
   "metadata": {},
   "outputs": [],
   "source": [
    "# pandas_df=result.selectExpr('text','unique_keywords').pandas_api()\n",
    "# pandas_df.head()"
   ]
  },
  {
   "cell_type": "code",
   "execution_count": 48,
   "metadata": {},
   "outputs": [],
   "source": [
    "result_db=result.selectExpr('book','chapter','verse','text','unique_keywords')"
   ]
  },
  {
   "cell_type": "code",
   "execution_count": 49,
   "metadata": {},
   "outputs": [
    {
     "name": "stdout",
     "output_type": "stream",
     "text": [
      "+----+-------+-----+--------------------+--------------------+\n",
      "|book|chapter|verse|                text|     unique_keywords|\n",
      "+----+-------+-----+--------------------+--------------------+\n",
      "|   1|      1|    1|In the beginning ...|[beginning, god, ...|\n",
      "|   1|      1|    2|Now the earth was...|[earth, formless,...|\n",
      "|   1|      1|    3|And God said, \"Le...|[god, said, light...|\n",
      "|   1|      1|    4|God saw that the ...|[god, saw, light,...|\n",
      "|   1|      1|    5|God called the li...|[god, called, lig...|\n",
      "|   1|      1|    6|And God said, \"Le...|[god, said, expan...|\n",
      "|   1|      1|    7|So God made the e...|[god, made, expan...|\n",
      "|   1|      1|    8|God called the ex...|[god, called, exp...|\n",
      "|   1|      1|    9|And God said, \"Le...|[god, said, water...|\n",
      "|   1|      1|   10|God called the dr...|[god, called, dry...|\n",
      "|   1|      1|   11|Then God said, \"L...|[god, said, land,...|\n",
      "|   1|      1|   12|The land produced...|[land, produced, ...|\n",
      "|   1|      1|   13|And there was eve...|[evening, third, ...|\n",
      "|   1|      1|   14|And God said, \"Le...|[god, said, light...|\n",
      "|   1|      1|   15|and let them be l...|[let, lights, exp...|\n",
      "|   1|      1|   16|God made two grea...|[god, made, two, ...|\n",
      "|   1|      1|   17|God set them in t...|[god, set, expans...|\n",
      "|   1|      1|   18|to govern the day...|[govern, day, nig...|\n",
      "|   1|      1|   19|And there was eve...|[evening, fourth,...|\n",
      "|   1|      1|   20|And God said, \"Le...|[god, said, water...|\n",
      "+----+-------+-----+--------------------+--------------------+\n",
      "only showing top 20 rows\n",
      "\n"
     ]
    }
   ],
   "source": [
    "result_db.show()"
   ]
  },
  {
   "cell_type": "markdown",
   "metadata": {},
   "source": [
    "### get bible book names "
   ]
  },
  {
   "cell_type": "code",
   "execution_count": 38,
   "metadata": {},
   "outputs": [
    {
     "name": "stdout",
     "output_type": "stream",
     "text": [
      "+------+------+------------+-------------+------+\n",
      "|BookID|OsisID|    BookName|TotalChapters|Volume|\n",
      "+------+------+------------+-------------+------+\n",
      "|     1|   Gen|     Genesis|           50|    OT|\n",
      "|     2|  Exod|      Exodus|           40|    OT|\n",
      "|     3|   Lev|   Leviticus|           27|    OT|\n",
      "|     4|   Num|     Numbers|           36|    OT|\n",
      "|     5|  Deut| Deuteronomy|           34|    OT|\n",
      "|     6|  Josh|      Joshua|           24|    OT|\n",
      "|     7|  Judg|      Judges|           21|    OT|\n",
      "|     8|  Ruth|        Ruth|            4|    OT|\n",
      "|     9|  1Sam|    1 Samuel|           31|    OT|\n",
      "|    10|  2Sam|    2 Samuel|           24|    OT|\n",
      "|    11|  1Kgs|     1 Kings|           22|    OT|\n",
      "|    12|  2Kgs|     2 Kings|           25|    OT|\n",
      "|    13|  1Chr|1 Chronicles|           29|    OT|\n",
      "|    14|  2Chr|2 Chronicles|           36|    OT|\n",
      "|    15|  Ezra|        Ezra|           10|    OT|\n",
      "|    16|   Neh|    Nehemiah|           13|    OT|\n",
      "|    17|  Esth|      Esther|           10|    OT|\n",
      "|    18|   Job|         Job|           42|    OT|\n",
      "|    19|    Ps|      Psalms|          150|    OT|\n",
      "|    20|  Prov|    Proverbs|           31|    OT|\n",
      "+------+------+------------+-------------+------+\n",
      "only showing top 20 rows\n",
      "\n"
     ]
    }
   ],
   "source": [
    "bibleBooks=spark.read.csv('../data/bibleBooks.csv',header=True,inferSchema=True)\n",
    "bibleBooks.show()"
   ]
  },
  {
   "cell_type": "code",
   "execution_count": 50,
   "metadata": {},
   "outputs": [
    {
     "name": "stdout",
     "output_type": "stream",
     "text": [
      "root\n",
      " |-- book: integer (nullable = true)\n",
      " |-- chapter: integer (nullable = true)\n",
      " |-- verse: integer (nullable = true)\n",
      " |-- text: string (nullable = true)\n",
      " |-- unique_keywords: array (nullable = true)\n",
      " |    |-- element: string (containsNull = true)\n",
      "\n"
     ]
    }
   ],
   "source": [
    "result_db.printSchema()"
   ]
  },
  {
   "cell_type": "code",
   "execution_count": 59,
   "metadata": {},
   "outputs": [
    {
     "name": "stdout",
     "output_type": "stream",
     "text": [
      "+----+-------+-----+--------------------+--------------------+------+--------+-------------+------+\n",
      "|book|chapter|verse|                text|     unique_keywords|OsisID|BookName|TotalChapters|Volume|\n",
      "+----+-------+-----+--------------------+--------------------+------+--------+-------------+------+\n",
      "|   1|      1|    1|In the beginning ...|[beginning, god, ...|   Gen| Genesis|           50|    OT|\n",
      "|   1|      1|    2|Now the earth was...|[earth, formless,...|   Gen| Genesis|           50|    OT|\n",
      "|   1|      1|    3|And God said, \"Le...|[god, said, light...|   Gen| Genesis|           50|    OT|\n",
      "|   1|      1|    4|God saw that the ...|[god, saw, light,...|   Gen| Genesis|           50|    OT|\n",
      "|   1|      1|    5|God called the li...|[god, called, lig...|   Gen| Genesis|           50|    OT|\n",
      "|   1|      1|    6|And God said, \"Le...|[god, said, expan...|   Gen| Genesis|           50|    OT|\n",
      "|   1|      1|    7|So God made the e...|[god, made, expan...|   Gen| Genesis|           50|    OT|\n",
      "|   1|      1|    8|God called the ex...|[god, called, exp...|   Gen| Genesis|           50|    OT|\n",
      "|   1|      1|    9|And God said, \"Le...|[god, said, water...|   Gen| Genesis|           50|    OT|\n",
      "|   1|      1|   10|God called the dr...|[god, called, dry...|   Gen| Genesis|           50|    OT|\n",
      "|   1|      1|   11|Then God said, \"L...|[god, said, land,...|   Gen| Genesis|           50|    OT|\n",
      "|   1|      1|   12|The land produced...|[land, produced, ...|   Gen| Genesis|           50|    OT|\n",
      "|   1|      1|   13|And there was eve...|[evening, third, ...|   Gen| Genesis|           50|    OT|\n",
      "|   1|      1|   14|And God said, \"Le...|[god, said, light...|   Gen| Genesis|           50|    OT|\n",
      "|   1|      1|   15|and let them be l...|[let, lights, exp...|   Gen| Genesis|           50|    OT|\n",
      "|   1|      1|   16|God made two grea...|[god, made, two, ...|   Gen| Genesis|           50|    OT|\n",
      "|   1|      1|   17|God set them in t...|[god, set, expans...|   Gen| Genesis|           50|    OT|\n",
      "|   1|      1|   18|to govern the day...|[govern, day, nig...|   Gen| Genesis|           50|    OT|\n",
      "|   1|      1|   19|And there was eve...|[evening, fourth,...|   Gen| Genesis|           50|    OT|\n",
      "|   1|      1|   20|And God said, \"Le...|[god, said, water...|   Gen| Genesis|           50|    OT|\n",
      "+----+-------+-----+--------------------+--------------------+------+--------+-------------+------+\n",
      "only showing top 20 rows\n",
      "\n"
     ]
    }
   ],
   "source": [
    "df_join = result_db.join(bibleBooks, result_db.book ==bibleBooks.BookID, how=\"inner\").drop('BookID')\n",
    "df_join.show()"
   ]
  },
  {
   "cell_type": "code",
   "execution_count": 65,
   "metadata": {},
   "outputs": [
    {
     "name": "stdout",
     "output_type": "stream",
     "text": [
      "+--------+----+-------+-----+--------------------+--------------------+------+--------+-------------+------+\n",
      "|      ID|book|chapter|verse|                text|     unique_keywords|OsisID|BookName|TotalChapters|Volume|\n",
      "+--------+----+-------+-----+--------------------+--------------------+------+--------+-------------+------+\n",
      "| Gen_1_1|   1|      1|    1|In the beginning ...|[beginning, god, ...|   Gen| Genesis|           50|    OT|\n",
      "| Gen_1_2|   1|      1|    2|Now the earth was...|[earth, formless,...|   Gen| Genesis|           50|    OT|\n",
      "| Gen_1_3|   1|      1|    3|And God said, \"Le...|[god, said, light...|   Gen| Genesis|           50|    OT|\n",
      "| Gen_1_4|   1|      1|    4|God saw that the ...|[god, saw, light,...|   Gen| Genesis|           50|    OT|\n",
      "| Gen_1_5|   1|      1|    5|God called the li...|[god, called, lig...|   Gen| Genesis|           50|    OT|\n",
      "| Gen_1_6|   1|      1|    6|And God said, \"Le...|[god, said, expan...|   Gen| Genesis|           50|    OT|\n",
      "| Gen_1_7|   1|      1|    7|So God made the e...|[god, made, expan...|   Gen| Genesis|           50|    OT|\n",
      "| Gen_1_8|   1|      1|    8|God called the ex...|[god, called, exp...|   Gen| Genesis|           50|    OT|\n",
      "| Gen_1_9|   1|      1|    9|And God said, \"Le...|[god, said, water...|   Gen| Genesis|           50|    OT|\n",
      "|Gen_1_10|   1|      1|   10|God called the dr...|[god, called, dry...|   Gen| Genesis|           50|    OT|\n",
      "|Gen_1_11|   1|      1|   11|Then God said, \"L...|[god, said, land,...|   Gen| Genesis|           50|    OT|\n",
      "|Gen_1_12|   1|      1|   12|The land produced...|[land, produced, ...|   Gen| Genesis|           50|    OT|\n",
      "|Gen_1_13|   1|      1|   13|And there was eve...|[evening, third, ...|   Gen| Genesis|           50|    OT|\n",
      "|Gen_1_14|   1|      1|   14|And God said, \"Le...|[god, said, light...|   Gen| Genesis|           50|    OT|\n",
      "|Gen_1_15|   1|      1|   15|and let them be l...|[let, lights, exp...|   Gen| Genesis|           50|    OT|\n",
      "|Gen_1_16|   1|      1|   16|God made two grea...|[god, made, two, ...|   Gen| Genesis|           50|    OT|\n",
      "|Gen_1_17|   1|      1|   17|God set them in t...|[god, set, expans...|   Gen| Genesis|           50|    OT|\n",
      "|Gen_1_18|   1|      1|   18|to govern the day...|[govern, day, nig...|   Gen| Genesis|           50|    OT|\n",
      "|Gen_1_19|   1|      1|   19|And there was eve...|[evening, fourth,...|   Gen| Genesis|           50|    OT|\n",
      "|Gen_1_20|   1|      1|   20|And God said, \"Le...|[god, said, water...|   Gen| Genesis|           50|    OT|\n",
      "+--------+----+-------+-----+--------------------+--------------------+------+--------+-------------+------+\n",
      "only showing top 20 rows\n",
      "\n"
     ]
    }
   ],
   "source": [
    "from pyspark.sql.functions import concat_ws,col\n",
    "df3=df_join.select(concat_ws('_',df_join.OsisID,df_join.chapter,df_join.verse)\n",
    "              .alias(\"ID\"),'*')\n",
    "df3.show()"
   ]
  },
  {
   "cell_type": "code",
   "execution_count": 72,
   "metadata": {},
   "outputs": [],
   "source": [
    "# df3.write.mode('overwrite').json('bibleKeyword2.json')\n",
    "df3.write.parquet('bibleKeyword2.parquet')"
   ]
  },
  {
   "cell_type": "code",
   "execution_count": 70,
   "metadata": {},
   "outputs": [],
   "source": [
    "# pgDF=spark.read.format(\"jdbc\").\\\n",
    "#     option(\"url\", \"jdbc:postgresql://192.168.1.39:5432/aiknowledge\").\\\n",
    "#     option(\"dbtable\", \"public.articles_articles\").\\\n",
    "#     option(\"user\", \"postgres\").\\\n",
    "#     option(\"password\", \"postgres\").\\\n",
    "#     option(\"driver\", \"org.postgresql.Driver\").load()    \n",
    "df3.write.format(\"jdbc\")\\\n",
    "    .option(\"url\", \"jdbc:postgresql://192.168.0.8:5432/aiknowledge\")\\\n",
    "    .option(\"dbtable\", \"public.bible\")\\\n",
    "    .option(\"user\", \"postgres\")\\\n",
    "    .option(\"password\", \"postgres\")\\\n",
    "    .option(\"driver\", \"org.postgresql.Driver\") \\\n",
    "    .mode(\"overwrite\").save()"
   ]
  },
  {
   "cell_type": "code",
   "execution_count": 69,
   "metadata": {},
   "outputs": [
    {
     "name": "stdout",
     "output_type": "stream",
     "text": [
      "+----------+----+-------+-----+--------------------+--------------------+------+---------------+-------------+------+\n",
      "|        ID|book|chapter|verse|                text|     unique_keywords|OsisID|       BookName|TotalChapters|Volume|\n",
      "+----------+----+-------+-----+--------------------+--------------------+------+---------------+-------------+------+\n",
      "|   Gen_1_1|   1|      1|    1|In the beginning ...|[beginning, god, ...|   Gen|        Genesis|           50|    OT|\n",
      "|  Exod_1_1|   2|      1|    1|These are the nam...|[names, sons, isr...|  Exod|         Exodus|           40|    OT|\n",
      "|   Lev_1_1|   3|      1|    1|The LORD called t...|[lord, called, mo...|   Lev|      Leviticus|           27|    OT|\n",
      "|   Num_1_1|   4|      1|    1|The LORD spoke to...|[lord, spoke, mos...|   Num|        Numbers|           36|    OT|\n",
      "|  Deut_1_1|   5|      1|    1|These are the wor...|[words, moses, sp...|  Deut|    Deuteronomy|           34|    OT|\n",
      "|  Josh_1_1|   6|      1|    1|After the death o...|[death, moses, se...|  Josh|         Joshua|           24|    OT|\n",
      "|  Judg_1_1|   7|      1|    1|After the death o...|[death, joshua, i...|  Judg|         Judges|           21|    OT|\n",
      "|  Ruth_1_1|   8|      1|    1|In the days when ...|[days, judges, ru...|  Ruth|           Ruth|            4|    OT|\n",
      "|  1Sam_1_1|   9|      1|    1|There was a certa...|[certain, man, ra...|  1Sam|       1 Samuel|           31|    OT|\n",
      "|  2Sam_1_1|  10|      1|    1|After the death o...|[death, saul, dav...|  2Sam|       2 Samuel|           24|    OT|\n",
      "|  1Kgs_1_1|  11|      1|    1|When King David w...|[king, david, old...|  1Kgs|        1 Kings|           22|    OT|\n",
      "|  2Kgs_1_1|  12|      1|    1|After Ahab's deat...|[death, moab, reb...|  2Kgs|        2 Kings|           25|    OT|\n",
      "|  1Chr_1_1|  13|      1|    1|  Adam, Seth, Enosh,| [adam, seth, enosh]|  1Chr|   1 Chronicles|           29|    OT|\n",
      "|  2Chr_1_1|  14|      1|    1|Solomon son of Da...|[solomon, son, da...|  2Chr|   2 Chronicles|           36|    OT|\n",
      "|  Ezra_1_1|  15|      1|    1|In the first year...|[year, cyrus, kin...|  Ezra|           Ezra|           10|    OT|\n",
      "|   Neh_1_1|  16|      1|    1|The words of Nehe...|[words, nehemiah,...|   Neh|       Nehemiah|           13|    OT|\n",
      "|  Esth_1_1|  17|      1|    1|This is what happ...|[happened, time, ...|  Esth|         Esther|           10|    OT|\n",
      "|   Job_1_1|  18|      1|    1|In the land of Uz...|[land, uz, lived,...|   Job|            Job|           42|    OT|\n",
      "|    Ps_1_1|  19|      1|    1|Blessed is the ma...|[blessed, man, wa...|    Ps|         Psalms|          150|    OT|\n",
      "|  Prov_1_1|  20|      1|    1|The proverbs of S...|[proverbs, solomo...|  Prov|       Proverbs|           31|    OT|\n",
      "|  Eccl_1_1|  21|      1|    1|The words of the ...|[words, teacher, ...|  Eccl|   Ecclesiastes|           12|    OT|\n",
      "|  Song_1_1|  22|      1|    1|Solomon's Song of...|[song, songs, son...|  Song|Song of Solomon|            8|    OT|\n",
      "|   Isa_1_1|  23|      1|    1|The vision concer...|[vision, concerni...|   Isa|         Isaiah|           66|    OT|\n",
      "|   Jer_1_1|  24|      1|    1|The words of Jere...|[words, jeremiah,...|   Jer|       Jeremiah|           52|    OT|\n",
      "|   Lam_1_1|  25|      1|    1|How deserted lies...|[deserted, lies, ...|   Lam|   Lamentations|            5|    OT|\n",
      "|  Ezek_1_1|  26|      1|    1|In the thirtieth ...|[thirtieth, year,...|  Ezek|        Ezekiel|           48|    OT|\n",
      "|   Dan_1_1|  27|      1|    1|In the third year...|[third, year, rei...|   Dan|         Daniel|           12|    OT|\n",
      "|   Hos_1_1|  28|      1|    1|The word of the L...|[lord, came, hose...|   Hos|          Hosea|           14|    OT|\n",
      "|  Joel_1_1|  29|      1|    1|The word of the L...|[word, lord, came...|  Joel|           Joel|            3|    OT|\n",
      "|  Amos_1_1|  30|      1|    1|The words of Amos...|[amos, one, conce...|  Amos|           Amos|            9|    OT|\n",
      "|  Obad_1_1|  31|      1|    1|The vision of Oba...|[vision, obadiah,...|  Obad|        Obadiah|            1|    OT|\n",
      "| Jonah_1_1|  32|      1|    1|The word of the L...|[word, lord, came...| Jonah|          Jonah|            4|    OT|\n",
      "|   Mic_1_1|  33|      1|    1|The word of the L...|[word, lord, came...|   Mic|          Micah|            7|    OT|\n",
      "|   Nah_1_1|  34|      1|    1|An oracle concern...|[oracle, concerni...|   Nah|          Nahum|            3|    OT|\n",
      "|   Hab_1_1|  35|      1|    1|The oracle that H...|[oracle, habakkuk...|   Hab|       Habakkuk|            3|    OT|\n",
      "|  Zeph_1_1|  36|      1|    1|The word of the L...|[lord, came, zeph...|  Zeph|      Zephaniah|            3|    OT|\n",
      "|   Hag_1_1|  37|      1|    1|In the second yea...|[king, darius, si...|   Hag|         Haggai|            2|    OT|\n",
      "|  Zech_1_1|  38|      1|    1|In the eighth mon...|[eighth, month, s...|  Zech|      Zechariah|           14|    OT|\n",
      "|   Mal_1_1|  39|      1|    1|An oracle: The wo...|[word, lord, isra...|   Mal|        Malachi|            4|    OT|\n",
      "|  Matt_1_1|  40|      1|    1|A record of the g...|[record, genealog...|  Matt|        Matthew|           28|    NT|\n",
      "|  Mark_1_1|  41|      1|    1|The beginning of ...|[beginning, gospe...|  Mark|           Mark|           16|    NT|\n",
      "|  Luke_1_1|  42|      1|    1|Many have underta...|[many, undertaken...|  Luke|           Luke|           24|    NT|\n",
      "|  John_1_1|  43|      1|    1|In the beginning ...|[beginning, word,...|  John|           John|           21|    NT|\n",
      "|  Acts_1_1|  44|      1|    1|In my former book...|[former, book, th...|  Acts|           Acts|           28|    NT|\n",
      "|   Rom_1_1|  45|      1|    1|Paul, a servant o...|[paul, servant, c...|   Rom|         Romans|           16|    NT|\n",
      "|  1Cor_1_1|  46|      1|    1|Paul, called to b...|[paul, called, ap...|  1Cor|  1 Corinthians|           16|    NT|\n",
      "|  2Cor_1_1|  47|      1|    1|Paul, an apostle ...|[paul, apostle, c...|  2Cor|  2 Corinthians|           13|    NT|\n",
      "|   Gal_1_1|  48|      1|    1|Paul, an apostle-...|[paul, men, man, ...|   Gal|      Galatians|            6|    NT|\n",
      "|   Eph_1_1|  49|      1|    1|Paul, an apostle ...|[paul, apostle, c...|   Eph|      Ephesians|            6|    NT|\n",
      "|  Phil_1_1|  50|      1|    1|Paul and Timothy,...|[paul, timothy, s...|  Phil|    Philippians|            4|    NT|\n",
      "|   Col_1_1|  51|      1|    1|Paul, an apostle ...|[paul, apostle, c...|   Col|     Colossians|            4|    NT|\n",
      "|1Thess_1_1|  52|      1|    1|Paul, Silas and T...|[paul, silas, tim...|1Thess|1 Thessalonians|            5|    NT|\n",
      "|2Thess_1_1|  53|      1|    1|Paul, Silas and T...|[paul, silas, tim...|2Thess|2 Thessalonians|            3|    NT|\n",
      "|  1Tim_1_1|  54|      1|    1|Paul, an apostle ...|[paul, apostle, c...|  1Tim|      1 Timothy|            6|    NT|\n",
      "|  2Tim_1_1|  55|      1|    1|Paul, an apostle ...|[paul, apostle, c...|  2Tim|      2 Timothy|            4|    NT|\n",
      "| Titus_1_1|  56|      1|    1|Paul, a servant o...|[paul, servant, g...| Titus|          Titus|            3|    NT|\n",
      "|  Phim_1_1|  57|      1|    1|Paul, a prisoner ...|[paul, prisoner, ...|  Phim|       Philemon|            1|    NT|\n",
      "|   Heb_1_1|  58|      1|    1|In the past God s...|[past, god, spoke...|   Heb|        Hebrews|           13|    NT|\n",
      "|   Jas_1_1|  59|      1|    1|James, a servant ...|[james, servant, ...|   Jas|          James|            5|    NT|\n",
      "|  1Pet_1_1|  60|      1|    1|Peter, an apostle...|[peter, apostle, ...|  1Pet|        1 Peter|            5|    NT|\n",
      "|  2Pet_1_1|  61|      1|    1|Simon Peter, a se...|[simon, peter, se...|  2Pet|        2 Peter|            3|    NT|\n",
      "| 1John_1_1|  62|      1|    1|That which was fr...|[beginning, heard...| 1John|         1 John|            5|    NT|\n",
      "| 2John_1_1|  63|      1|    1|The elder, To the...|[elder, chosen, l...| 2John|         2 John|            1|    NT|\n",
      "| 3John_1_1|  64|      1|    1|The elder, To my ...|[elder, dear, fri...| 3John|         3 John|            1|    NT|\n",
      "|  Jude_1_1|  65|      1|    1|Jude, a servant o...|[jude, servant, j...|  Jude|           Jude|            1|    NT|\n",
      "|   Rev_1_1|  66|      1|    1|The revelation of...|[revelation, jesu...|   Rev|     Revelation|           22|    NT|\n",
      "+----------+----+-------+-----+--------------------+--------------------+------+---------------+-------------+------+\n",
      "\n"
     ]
    }
   ],
   "source": [
    "df3.select('*').where('chapter=1 and verse=1').show(100)"
   ]
  },
  {
   "cell_type": "code",
   "execution_count": 34,
   "metadata": {
    "colab": {
     "base_uri": "https://localhost:8080/",
     "height": 1000
    },
    "executionInfo": {
     "elapsed": 8176,
     "status": "ok",
     "timestamp": 1664989465145,
     "user": {
      "displayName": "Merve Ertas Uslu",
      "userId": "01451729557099986551"
     },
     "user_tz": -120
    },
    "id": "3V5ZoL_BACuy",
    "outputId": "c13509f2-4bc6-4134-8a0b-bdf0596b304a"
   },
   "outputs": [
    {
     "data": {
      "text/html": [
       "In the <span style=\"background-color: yellow;\">beginning</span> <span style=\"background-color: yellow;\">God</span> <span style=\"background-color: yellow;\">created</span> the <span style=\"background-color: yellow;\">heavens</span> and the <span style=\"background-color: yellow;\">earth</span>."
      ],
      "text/plain": [
       "<IPython.core.display.HTML object>"
      ]
     },
     "metadata": {},
     "output_type": "display_data"
    },
    {
     "name": "stdout",
     "output_type": "stream",
     "text": [
      "\n",
      "\n",
      "\n"
     ]
    },
    {
     "data": {
      "text/html": [
       "Now the <span style=\"background-color: yellow;\">earth</span> was <span style=\"background-color: yellow;\">formless</span> and <span style=\"background-color: yellow;\">empty</span>, <span style=\"background-color: yellow;\">darkness</span> was over the <span style=\"background-color: yellow;\">surface</span> of the <span style=\"background-color: yellow;\">deep</span>, and the <span style=\"background-color: yellow;\">Spirit</span> of <span style=\"background-color: yellow;\">God</span> was <span style=\"background-color: yellow;\">hovering</span> over the <span style=\"background-color: yellow;\">waters</span>."
      ],
      "text/plain": [
       "<IPython.core.display.HTML object>"
      ]
     },
     "metadata": {},
     "output_type": "display_data"
    },
    {
     "name": "stdout",
     "output_type": "stream",
     "text": [
      "\n",
      "\n",
      "\n"
     ]
    },
    {
     "data": {
      "text/html": [
       "And <span style=\"background-color: yellow;\">God</span> <span style=\"background-color: yellow;\">said</span>, \"Let there be <span style=\"background-color: yellow;\">light</span>,\" and there was <span style=\"background-color: yellow;\">light</span>."
      ],
      "text/plain": [
       "<IPython.core.display.HTML object>"
      ]
     },
     "metadata": {},
     "output_type": "display_data"
    },
    {
     "name": "stdout",
     "output_type": "stream",
     "text": [
      "\n",
      "\n",
      "\n"
     ]
    },
    {
     "data": {
      "text/html": [
       "<span style=\"background-color: yellow;\">God</span> <span style=\"background-color: yellow;\">saw</span> that the <span style=\"background-color: yellow;\">light</span> was <span style=\"background-color: yellow;\">good</span>, and He <span style=\"background-color: yellow;\">separated</span> the <span style=\"background-color: yellow;\">light</span> from the <span style=\"background-color: yellow;\">darkness</span>."
      ],
      "text/plain": [
       "<IPython.core.display.HTML object>"
      ]
     },
     "metadata": {},
     "output_type": "display_data"
    },
    {
     "name": "stdout",
     "output_type": "stream",
     "text": [
      "\n",
      "\n",
      "\n"
     ]
    },
    {
     "data": {
      "text/html": [
       "<span style=\"background-color: yellow;\">God</span> <span style=\"background-color: yellow;\">called</span> the <span style=\"background-color: yellow;\">light</span> \"<span style=\"background-color: yellow;\">day</span>,\" and the <span style=\"background-color: yellow;\">darkness</span> he <span style=\"background-color: yellow;\">called</span> \"night.\" And there was <span style=\"background-color: yellow;\">evening</span>, and there was morning--the <span style=\"background-color: yellow;\">first</span> <span style=\"background-color: yellow;\">day</span>."
      ],
      "text/plain": [
       "<IPython.core.display.HTML object>"
      ]
     },
     "metadata": {},
     "output_type": "display_data"
    },
    {
     "name": "stdout",
     "output_type": "stream",
     "text": [
      "\n",
      "\n",
      "\n"
     ]
    },
    {
     "data": {
      "text/html": [
       "And <span style=\"background-color: yellow;\">God</span> <span style=\"background-color: yellow;\">said</span>, \"Let there be an <span style=\"background-color: yellow;\">expanse</span> between the <span style=\"background-color: yellow;\">waters</span> to <span style=\"background-color: yellow;\">separate</span> <span style=\"background-color: yellow;\">water</span> from <span style=\"background-color: yellow;\">water</span>.\""
      ],
      "text/plain": [
       "<IPython.core.display.HTML object>"
      ]
     },
     "metadata": {},
     "output_type": "display_data"
    },
    {
     "name": "stdout",
     "output_type": "stream",
     "text": [
      "\n",
      "\n",
      "\n"
     ]
    },
    {
     "data": {
      "text/html": [
       "So <span style=\"background-color: yellow;\">God</span> <span style=\"background-color: yellow;\">made</span> the <span style=\"background-color: yellow;\">expanse</span> and <span style=\"background-color: yellow;\">separated</span> the <span style=\"background-color: yellow;\">water</span> under the <span style=\"background-color: yellow;\">expanse</span> from the <span style=\"background-color: yellow;\">water</span> above it. And it was so."
      ],
      "text/plain": [
       "<IPython.core.display.HTML object>"
      ]
     },
     "metadata": {},
     "output_type": "display_data"
    },
    {
     "name": "stdout",
     "output_type": "stream",
     "text": [
      "\n",
      "\n",
      "\n"
     ]
    },
    {
     "data": {
      "text/html": [
       "<span style=\"background-color: yellow;\">God</span> <span style=\"background-color: yellow;\">called</span> the <span style=\"background-color: yellow;\">expanse</span> \"sky.\" And there was <span style=\"background-color: yellow;\">evening</span>, and there was morning--the <span style=\"background-color: yellow;\">second</span> <span style=\"background-color: yellow;\">day</span>."
      ],
      "text/plain": [
       "<IPython.core.display.HTML object>"
      ]
     },
     "metadata": {},
     "output_type": "display_data"
    },
    {
     "name": "stdout",
     "output_type": "stream",
     "text": [
      "\n",
      "\n",
      "\n"
     ]
    },
    {
     "data": {
      "text/html": [
       "And <span style=\"background-color: yellow;\">God</span> <span style=\"background-color: yellow;\">said</span>, \"<span style=\"background-color: yellow;\">Let</span> the <span style=\"background-color: yellow;\">water</span> under the <span style=\"background-color: yellow;\">sky</span> be <span style=\"background-color: yellow;\">gathered</span> to <span style=\"background-color: yellow;\">one</span> <span style=\"background-color: yellow;\">place</span>, and <span style=\"background-color: yellow;\">let</span> <span style=\"background-color: yellow;\">dry</span> <span style=\"background-color: yellow;\">ground</span> appear.\" And it was so."
      ],
      "text/plain": [
       "<IPython.core.display.HTML object>"
      ]
     },
     "metadata": {},
     "output_type": "display_data"
    },
    {
     "name": "stdout",
     "output_type": "stream",
     "text": [
      "\n",
      "\n",
      "\n"
     ]
    },
    {
     "data": {
      "text/html": [
       "<span style=\"background-color: yellow;\">God</span> <span style=\"background-color: yellow;\">called</span> the <span style=\"background-color: yellow;\">dry</span> <span style=\"background-color: yellow;\">ground</span> \"land,\" and the <span style=\"background-color: yellow;\">gathered</span> <span style=\"background-color: yellow;\">waters</span> he <span style=\"background-color: yellow;\">called</span> \"seas.\" And <span style=\"background-color: yellow;\">God</span> <span style=\"background-color: yellow;\">saw</span> that it was <span style=\"background-color: yellow;\">good</span>."
      ],
      "text/plain": [
       "<IPython.core.display.HTML object>"
      ]
     },
     "metadata": {},
     "output_type": "display_data"
    },
    {
     "name": "stdout",
     "output_type": "stream",
     "text": [
      "\n",
      "\n",
      "\n"
     ]
    }
   ],
   "source": [
    "for r in result.select(\"highlighted_keywords\").limit(10).collect():\n",
    "    display(HTML(r.highlighted_keywords))\n",
    "    print(\"\\n\\n\")"
   ]
  },
  {
   "cell_type": "code",
   "execution_count": 22,
   "metadata": {},
   "outputs": [],
   "source": [
    "from neo4j import GraphDatabase\n",
    "import time\n",
    "from tqdm import tqdm"
   ]
  },
  {
   "cell_type": "code",
   "execution_count": 23,
   "metadata": {},
   "outputs": [
    {
     "data": {
      "text/html": [
       "<table><tr><th>n</th><th>n_sq</th></tr><tr><td style=\"text-align:right\">1</td><td style=\"text-align:right\">1</td></tr><tr><td style=\"text-align:right\">2</td><td style=\"text-align:right\">4</td></tr><tr><td style=\"text-align:right\">3</td><td style=\"text-align:right\">9</td></tr></table>"
      ],
      "text/plain": [
       " n | n_sq \n",
       "---|------\n",
       " 1 |    1 \n",
       " 2 |    4 \n",
       " 3 |    9 "
      ]
     },
     "execution_count": 23,
     "metadata": {},
     "output_type": "execute_result"
    }
   ],
   "source": [
    "from py2neo import Graph\n",
    "graph = Graph(\"neo4j://localhost:7687\", auth=(\"daniel\", \"fighting\"),name=\"aiknowledge\")\n",
    "graph.run(\"UNWIND range(1, 3) AS n RETURN n, n * n as n_sq\")"
   ]
  },
  {
   "cell_type": "code",
   "execution_count": 53,
   "metadata": {},
   "outputs": [
    {
     "name": "stdout",
     "output_type": "stream",
     "text": [
      "22/11/18 21:31:13 WARN HeartbeatReceiver: Removing executor driver with no recent heartbeats: 1699617 ms exceeds timeout 120000 ms\n",
      "22/11/18 21:31:13 WARN SparkContext: Killing executors is not supported by current scheduler.\n"
     ]
    }
   ],
   "source": [
    "# from py2neo import Graph, Node, Relationship\n",
    "# for word in keywords_bible2:\n",
    "#     graph.create(Node(\"bible\",name = word))"
   ]
  },
  {
   "cell_type": "code",
   "execution_count": 25,
   "metadata": {},
   "outputs": [
    {
     "data": {
      "text/html": [
       "(No data)"
      ],
      "text/plain": [
       "(No data)"
      ]
     },
     "execution_count": 25,
     "metadata": {},
     "output_type": "execute_result"
    }
   ],
   "source": [
    "# const_ners = 'CREATE CONSTRAINT ners IF NOT EXISTS ON (n:NER) ASSERT n.name IS UNIQUE'\n",
    "# graph.run(const_ners)"
   ]
  },
  {
   "cell_type": "code",
   "execution_count": 39,
   "metadata": {},
   "outputs": [],
   "source": [
    "spark.stop()"
   ]
  },
  {
   "cell_type": "code",
   "execution_count": null,
   "metadata": {},
   "outputs": [],
   "source": []
  }
 ],
 "metadata": {
  "colab": {
   "collapsed_sections": [],
   "provenance": []
  },
  "kernelspec": {
   "display_name": "Python 3 (ipykernel)",
   "language": "python",
   "name": "python3"
  },
  "language_info": {
   "codemirror_mode": {
    "name": "ipython",
    "version": 3
   },
   "file_extension": ".py",
   "mimetype": "text/x-python",
   "name": "python",
   "nbconvert_exporter": "python",
   "pygments_lexer": "ipython3",
   "version": "3.9.13 (main, Oct 13 2022, 16:12:30) \n[Clang 12.0.0 ]"
  },
  "vscode": {
   "interpreter": {
    "hash": "f70b66c476b517a3398e503e066261bd5effd8e36d6bd83ebcc33f32092e45d7"
   }
  }
 },
 "nbformat": 4,
 "nbformat_minor": 4
}
