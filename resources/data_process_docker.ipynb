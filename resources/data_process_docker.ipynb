{
 "cells": [
  {
   "cell_type": "code",
   "execution_count": 1,
   "id": "68af5bff-9c44-42f8-b2fc-077c31a52fd2",
   "metadata": {},
   "outputs": [
    {
     "name": "stderr",
     "output_type": "stream",
     "text": [
      "22/11/10 23:19:15 WARN Utils: Your hostname, Glorias-MacBook-Pro.local resolves to a loopback address: 127.0.0.1; using 192.168.0.11 instead (on interface en0)\n",
      "22/11/10 23:19:15 WARN Utils: Set SPARK_LOCAL_IP if you need to bind to another address\n",
      "WARNING: An illegal reflective access operation has occurred\n",
      "WARNING: Illegal reflective access by org.apache.spark.unsafe.Platform (file:/Library/Frameworks/Python.framework/Versions/3.10/lib/python3.10/site-packages/pyspark/jars/spark-unsafe_2.12-3.2.1.jar) to constructor java.nio.DirectByteBuffer(long,int)\n",
      "WARNING: Please consider reporting this to the maintainers of org.apache.spark.unsafe.Platform\n",
      "WARNING: Use --illegal-access=warn to enable warnings of further illegal reflective access operations\n",
      "WARNING: All illegal access operations will be denied in a future release\n"
     ]
    },
    {
     "name": "stdout",
     "output_type": "stream",
     "text": [
      ":: loading settings :: url = jar:file:/Library/Frameworks/Python.framework/Versions/3.10/lib/python3.10/site-packages/pyspark/jars/ivy-2.5.0.jar!/org/apache/ivy/core/settings/ivysettings.xml\n"
     ]
    },
    {
     "name": "stderr",
     "output_type": "stream",
     "text": [
      "Ivy Default Cache set to: /Users/gloria/.ivy2/cache\n",
      "The jars for the packages stored in: /Users/gloria/.ivy2/jars\n",
      "org.postgresql#postgresql added as a dependency\n",
      ":: resolving dependencies :: org.apache.spark#spark-submit-parent-047cfc04-ce08-45c9-8995-20db19204940;1.0\n",
      "\tconfs: [default]\n",
      "\tfound org.postgresql#postgresql;42.5.0 in central\n",
      "\tfound org.checkerframework#checker-qual;3.5.0 in central\n",
      ":: resolution report :: resolve 159ms :: artifacts dl 7ms\n",
      "\t:: modules in use:\n",
      "\torg.checkerframework#checker-qual;3.5.0 from central in [default]\n",
      "\torg.postgresql#postgresql;42.5.0 from central in [default]\n",
      "\t---------------------------------------------------------------------\n",
      "\t|                  |            modules            ||   artifacts   |\n",
      "\t|       conf       | number| search|dwnlded|evicted|| number|dwnlded|\n",
      "\t---------------------------------------------------------------------\n",
      "\t|      default     |   2   |   0   |   0   |   0   ||   2   |   0   |\n",
      "\t---------------------------------------------------------------------\n",
      ":: retrieving :: org.apache.spark#spark-submit-parent-047cfc04-ce08-45c9-8995-20db19204940\n",
      "\tconfs: [default]\n",
      "\t0 artifacts copied, 2 already retrieved (0kB/6ms)\n",
      "22/11/10 23:19:16 WARN NativeCodeLoader: Unable to load native-hadoop library for your platform... using builtin-java classes where applicable\n",
      "Using Spark's default log4j profile: org/apache/spark/log4j-defaults.properties\n",
      "Setting default log level to \"WARN\".\n",
      "To adjust logging level use sc.setLogLevel(newLevel). For SparkR, use setLogLevel(newLevel).\n",
      "22/11/10 23:19:18 WARN Utils: Service 'SparkUI' could not bind on port 4040. Attempting port 4041.\n",
      "22/11/10 23:19:18 WARN Utils: Service 'SparkUI' could not bind on port 4041. Attempting port 4042.\n"
     ]
    },
    {
     "name": "stdout",
     "output_type": "stream",
     "text": [
      "Apache Spark version:  3.2.1\n"
     ]
    }
   ],
   "source": [
    "from pyspark import SparkContext,SparkConf\n",
    "from pyspark.sql import SparkSession\n",
    "spark = SparkSession.builder.appName(\"nlp\").master(\"local[3]\")\\\n",
    "    .config(\"spark.jars.packages\", \"org.postgresql:postgresql:42.5.0\",)\\\n",
    "    .enableHiveSupport()\\\n",
    "    .getOrCreate()\n",
    "print(\"Apache Spark version: \", spark.version)\n",
    "sc=spark.sparkContext\n",
    "# org.postgresql:postgresql:42.5.0"
   ]
  },
  {
   "cell_type": "code",
   "execution_count": 5,
   "id": "b117c9cc-9ee7-4010-98bc-8c474ef3a36d",
   "metadata": {},
   "outputs": [
    {
     "data": {
      "text/plain": [
       "[('spark.driver.extraJavaOptions',\n",
       "  '-XX:+IgnoreUnrecognizedVMOptions --add-opens=java.base/java.lang=ALL-UNNAMED --add-opens=java.base/java.lang.invoke=ALL-UNNAMED --add-opens=java.base/java.lang.reflect=ALL-UNNAMED --add-opens=java.base/java.io=ALL-UNNAMED --add-opens=java.base/java.net=ALL-UNNAMED --add-opens=java.base/java.nio=ALL-UNNAMED --add-opens=java.base/java.util=ALL-UNNAMED --add-opens=java.base/java.util.concurrent=ALL-UNNAMED --add-opens=java.base/java.util.concurrent.atomic=ALL-UNNAMED --add-opens=java.base/sun.nio.ch=ALL-UNNAMED --add-opens=java.base/sun.nio.cs=ALL-UNNAMED --add-opens=java.base/sun.security.action=ALL-UNNAMED --add-opens=java.base/sun.util.calendar=ALL-UNNAMED --add-opens=java.security.jgss/sun.security.krb5=ALL-UNNAMED'),\n",
       " ('spark.jars.packages', 'org.postgresql:postgresql:42.5.0'),\n",
       " ('spark.app.initial.jar.urls',\n",
       "  'spark://1c7e9dbf43e5:32939/jars/org.checkerframework_checker-qual-3.5.0.jar,spark://1c7e9dbf43e5:32939/jars/org.postgresql_postgresql-42.5.0.jar'),\n",
       " ('spark.driver.port', '32939'),\n",
       " ('spark.app.initial.file.urls',\n",
       "  'file:///home/jovyan/.ivy2/jars/org.checkerframework_checker-qual-3.5.0.jar,file:///home/jovyan/.ivy2/jars/org.postgresql_postgresql-42.5.0.jar'),\n",
       " ('spark.executor.id', 'driver'),\n",
       " ('spark.app.name', 'nlp'),\n",
       " ('spark.repl.local.jars',\n",
       "  'file:///home/jovyan/.ivy2/jars/org.postgresql_postgresql-42.5.0.jar,file:///home/jovyan/.ivy2/jars/org.checkerframework_checker-qual-3.5.0.jar'),\n",
       " ('spark.driver.host', '1c7e9dbf43e5'),\n",
       " ('spark.app.startTime', '1668070447428'),\n",
       " ('spark.sql.catalogImplementation', 'hive'),\n",
       " ('spark.app.submitTime', '1668070447299'),\n",
       " ('spark.rdd.compress', 'True'),\n",
       " ('spark.executor.extraJavaOptions',\n",
       "  '-XX:+IgnoreUnrecognizedVMOptions --add-opens=java.base/java.lang=ALL-UNNAMED --add-opens=java.base/java.lang.invoke=ALL-UNNAMED --add-opens=java.base/java.lang.reflect=ALL-UNNAMED --add-opens=java.base/java.io=ALL-UNNAMED --add-opens=java.base/java.net=ALL-UNNAMED --add-opens=java.base/java.nio=ALL-UNNAMED --add-opens=java.base/java.util=ALL-UNNAMED --add-opens=java.base/java.util.concurrent=ALL-UNNAMED --add-opens=java.base/java.util.concurrent.atomic=ALL-UNNAMED --add-opens=java.base/sun.nio.ch=ALL-UNNAMED --add-opens=java.base/sun.nio.cs=ALL-UNNAMED --add-opens=java.base/sun.security.action=ALL-UNNAMED --add-opens=java.base/sun.util.calendar=ALL-UNNAMED --add-opens=java.security.jgss/sun.security.krb5=ALL-UNNAMED'),\n",
       " ('spark.serializer.objectStreamReset', '100'),\n",
       " ('spark.submit.pyFiles',\n",
       "  '/home/jovyan/.ivy2/jars/org.postgresql_postgresql-42.5.0.jar,/home/jovyan/.ivy2/jars/org.checkerframework_checker-qual-3.5.0.jar'),\n",
       " ('spark.submit.deployMode', 'client'),\n",
       " ('spark.files',\n",
       "  'file:///home/jovyan/.ivy2/jars/org.postgresql_postgresql-42.5.0.jar,file:///home/jovyan/.ivy2/jars/org.checkerframework_checker-qual-3.5.0.jar'),\n",
       " ('spark.ui.showConsoleProgress', 'true'),\n",
       " ('spark.master', 'local[2]'),\n",
       " ('spark.jars',\n",
       "  'file:///home/jovyan/.ivy2/jars/org.postgresql_postgresql-42.5.0.jar,file:///home/jovyan/.ivy2/jars/org.checkerframework_checker-qual-3.5.0.jar'),\n",
       " ('spark.app.id', 'local-1668070448298')]"
      ]
     },
     "execution_count": 5,
     "metadata": {},
     "output_type": "execute_result"
    }
   ],
   "source": [
    "sc.getConf().getAll()"
   ]
  },
  {
   "cell_type": "code",
   "execution_count": 2,
   "id": "011c37c0-119f-4004-858e-4e5a0e9cbf6d",
   "metadata": {},
   "outputs": [
    {
     "ename": "AnalysisException",
     "evalue": "Path does not exist: file:/test/wiki.parquet",
     "output_type": "error",
     "traceback": [
      "\u001b[0;31m---------------------------------------------------------------------------\u001b[0m",
      "\u001b[0;31mAnalysisException\u001b[0m                         Traceback (most recent call last)",
      "\u001b[1;32m/Users/gloria/Documents/GitHub/AiKnowledge/spark/data_process_docker.ipynb Cell 3\u001b[0m in \u001b[0;36m<cell line: 1>\u001b[0;34m()\u001b[0m\n\u001b[0;32m----> <a href='vscode-notebook-cell:/Users/gloria/Documents/GitHub/AiKnowledge/spark/data_process_docker.ipynb#W2sZmlsZQ%3D%3D?line=0'>1</a>\u001b[0m df\u001b[39m=\u001b[39mspark\u001b[39m.\u001b[39;49mread\u001b[39m.\u001b[39;49mparquet(\u001b[39m'\u001b[39;49m\u001b[39m/test/wiki.parquet\u001b[39;49m\u001b[39m'\u001b[39;49m)\n",
      "File \u001b[0;32m/Library/Frameworks/Python.framework/Versions/3.10/lib/python3.10/site-packages/pyspark/sql/readwriter.py:301\u001b[0m, in \u001b[0;36mDataFrameReader.parquet\u001b[0;34m(self, *paths, **options)\u001b[0m\n\u001b[1;32m    295\u001b[0m int96RebaseMode \u001b[39m=\u001b[39m options\u001b[39m.\u001b[39mget(\u001b[39m'\u001b[39m\u001b[39mint96RebaseMode\u001b[39m\u001b[39m'\u001b[39m, \u001b[39mNone\u001b[39;00m)\n\u001b[1;32m    296\u001b[0m \u001b[39mself\u001b[39m\u001b[39m.\u001b[39m_set_opts(mergeSchema\u001b[39m=\u001b[39mmergeSchema, pathGlobFilter\u001b[39m=\u001b[39mpathGlobFilter,\n\u001b[1;32m    297\u001b[0m                recursiveFileLookup\u001b[39m=\u001b[39mrecursiveFileLookup, modifiedBefore\u001b[39m=\u001b[39mmodifiedBefore,\n\u001b[1;32m    298\u001b[0m                modifiedAfter\u001b[39m=\u001b[39mmodifiedAfter, datetimeRebaseMode\u001b[39m=\u001b[39mdatetimeRebaseMode,\n\u001b[1;32m    299\u001b[0m                int96RebaseMode\u001b[39m=\u001b[39mint96RebaseMode)\n\u001b[0;32m--> 301\u001b[0m \u001b[39mreturn\u001b[39;00m \u001b[39mself\u001b[39m\u001b[39m.\u001b[39m_df(\u001b[39mself\u001b[39;49m\u001b[39m.\u001b[39;49m_jreader\u001b[39m.\u001b[39;49mparquet(_to_seq(\u001b[39mself\u001b[39;49m\u001b[39m.\u001b[39;49m_spark\u001b[39m.\u001b[39;49m_sc, paths)))\n",
      "File \u001b[0;32m/Library/Frameworks/Python.framework/Versions/3.10/lib/python3.10/site-packages/py4j/java_gateway.py:1321\u001b[0m, in \u001b[0;36mJavaMember.__call__\u001b[0;34m(self, *args)\u001b[0m\n\u001b[1;32m   1315\u001b[0m command \u001b[39m=\u001b[39m proto\u001b[39m.\u001b[39mCALL_COMMAND_NAME \u001b[39m+\u001b[39m\\\n\u001b[1;32m   1316\u001b[0m     \u001b[39mself\u001b[39m\u001b[39m.\u001b[39mcommand_header \u001b[39m+\u001b[39m\\\n\u001b[1;32m   1317\u001b[0m     args_command \u001b[39m+\u001b[39m\\\n\u001b[1;32m   1318\u001b[0m     proto\u001b[39m.\u001b[39mEND_COMMAND_PART\n\u001b[1;32m   1320\u001b[0m answer \u001b[39m=\u001b[39m \u001b[39mself\u001b[39m\u001b[39m.\u001b[39mgateway_client\u001b[39m.\u001b[39msend_command(command)\n\u001b[0;32m-> 1321\u001b[0m return_value \u001b[39m=\u001b[39m get_return_value(\n\u001b[1;32m   1322\u001b[0m     answer, \u001b[39mself\u001b[39;49m\u001b[39m.\u001b[39;49mgateway_client, \u001b[39mself\u001b[39;49m\u001b[39m.\u001b[39;49mtarget_id, \u001b[39mself\u001b[39;49m\u001b[39m.\u001b[39;49mname)\n\u001b[1;32m   1324\u001b[0m \u001b[39mfor\u001b[39;00m temp_arg \u001b[39min\u001b[39;00m temp_args:\n\u001b[1;32m   1325\u001b[0m     temp_arg\u001b[39m.\u001b[39m_detach()\n",
      "File \u001b[0;32m/Library/Frameworks/Python.framework/Versions/3.10/lib/python3.10/site-packages/pyspark/sql/utils.py:117\u001b[0m, in \u001b[0;36mcapture_sql_exception.<locals>.deco\u001b[0;34m(*a, **kw)\u001b[0m\n\u001b[1;32m    113\u001b[0m converted \u001b[39m=\u001b[39m convert_exception(e\u001b[39m.\u001b[39mjava_exception)\n\u001b[1;32m    114\u001b[0m \u001b[39mif\u001b[39;00m \u001b[39mnot\u001b[39;00m \u001b[39misinstance\u001b[39m(converted, UnknownException):\n\u001b[1;32m    115\u001b[0m     \u001b[39m# Hide where the exception came from that shows a non-Pythonic\u001b[39;00m\n\u001b[1;32m    116\u001b[0m     \u001b[39m# JVM exception message.\u001b[39;00m\n\u001b[0;32m--> 117\u001b[0m     \u001b[39mraise\u001b[39;00m converted \u001b[39mfrom\u001b[39;00m \u001b[39mNone\u001b[39m\n\u001b[1;32m    118\u001b[0m \u001b[39melse\u001b[39;00m:\n\u001b[1;32m    119\u001b[0m     \u001b[39mraise\u001b[39;00m\n",
      "\u001b[0;31mAnalysisException\u001b[0m: Path does not exist: file:/test/wiki.parquet"
     ]
    }
   ],
   "source": [
    "df=spark.read.parquet('/test/wiki.parquet')"
   ]
  },
  {
   "cell_type": "code",
   "execution_count": 7,
   "id": "7257904b-6711-4cd1-8e02-7a3d48e2da37",
   "metadata": {},
   "outputs": [
    {
     "name": "stdout",
     "output_type": "stream",
     "text": [
      "+---+--------------------+--------------------+--------------------+\n",
      "| id|                 url|               title|                text|\n",
      "+---+--------------------+--------------------+--------------------+\n",
      "| 12|https://en.wikipe...|           Anarchism|Anarchism is a po...|\n",
      "| 25|https://en.wikipe...|              Autism|Autism is a neuro...|\n",
      "| 39|https://en.wikipe...|              Albedo|Albedo (; ) is th...|\n",
      "|290|https://en.wikipe...|                   A|A, or a, is the f...|\n",
      "|303|https://en.wikipe...|             Alabama|Alabama () is a s...|\n",
      "|305|https://en.wikipe...|            Achilles|In Greek mytholog...|\n",
      "|307|https://en.wikipe...|     Abraham Lincoln|Abraham Lincoln (...|\n",
      "|308|https://en.wikipe...|           Aristotle|Aristotle (;  Ari...|\n",
      "|309|https://en.wikipe...|An American in Paris|An American in Pa...|\n",
      "|316|https://en.wikipe...|Academy Award for...|The Academy Award...|\n",
      "|324|https://en.wikipe...|      Academy Awards|The Academy Award...|\n",
      "|330|https://en.wikipe...|             Actrius|Actresses (Catala...|\n",
      "|332|https://en.wikipe...|     Animalia (book)|Animalia is an il...|\n",
      "|334|https://en.wikipe...|International Ato...|International Ato...|\n",
      "|336|https://en.wikipe...|            Altruism|Altruism is the p...|\n",
      "|339|https://en.wikipe...|            Ayn Rand|Alice O'Connor (b...|\n",
      "|340|https://en.wikipe...|        Alain Connes|Alain Connes (; b...|\n",
      "|344|https://en.wikipe...|          Allan Dwan|Allan Dwan (born ...|\n",
      "|358|https://en.wikipe...|             Algeria|Algeria, official...|\n",
      "|359|https://en.wikipe...|List of Atlas Shr...|This is a list of...|\n",
      "+---+--------------------+--------------------+--------------------+\n",
      "only showing top 20 rows\n",
      "\n"
     ]
    }
   ],
   "source": [
    "df.show()"
   ]
  },
  {
   "cell_type": "code",
   "execution_count": 8,
   "id": "84c86e3d-ea87-49ae-80c7-cedd1e60ebcc",
   "metadata": {},
   "outputs": [
    {
     "data": {
      "text/plain": [
       "[]"
      ]
     },
     "execution_count": 8,
     "metadata": {},
     "output_type": "execute_result"
    }
   ],
   "source": [
    "spark.catalog.listTables()"
   ]
  },
  {
   "cell_type": "code",
   "execution_count": 9,
   "id": "6d8a1e2d-11fa-447e-bd91-c68ac83d5741",
   "metadata": {},
   "outputs": [
    {
     "data": {
      "text/plain": [
       "[Database(name='default', description='Default Hive database', locationUri='file:/home/jovyan/spark-warehouse')]"
      ]
     },
     "execution_count": 9,
     "metadata": {},
     "output_type": "execute_result"
    }
   ],
   "source": [
    "spark.catalog.listDatabases()"
   ]
  },
  {
   "cell_type": "code",
   "execution_count": 10,
   "id": "3e4aab4f-d80a-42dc-b8d3-df9dab144e65",
   "metadata": {},
   "outputs": [
    {
     "data": {
      "text/plain": [
       "DataFrame[]"
      ]
     },
     "execution_count": 10,
     "metadata": {},
     "output_type": "execute_result"
    }
   ],
   "source": [
    "spark.sql(\"CREATE TABLE IF NOT EXISTS src (key INT, value STRING) USING hive\")\n"
   ]
  },
  {
   "cell_type": "code",
   "execution_count": 11,
   "id": "994baf05-2159-4437-80d9-cf93e4a36e46",
   "metadata": {},
   "outputs": [
    {
     "data": {
      "text/plain": [
       "[Table(name='src', database='default', description=None, tableType='MANAGED', isTemporary=False)]"
      ]
     },
     "execution_count": 11,
     "metadata": {},
     "output_type": "execute_result"
    }
   ],
   "source": [
    "spark.catalog.listTables()"
   ]
  },
  {
   "cell_type": "code",
   "execution_count": 12,
   "id": "47c60353-9cc2-4d55-8bce-3d6411cbf969",
   "metadata": {},
   "outputs": [],
   "source": [
    "df.createOrReplaceGlobalTempView('wiki')"
   ]
  },
  {
   "cell_type": "code",
   "execution_count": 14,
   "id": "995ef434-2842-4d80-b8ef-9582edd75a5e",
   "metadata": {},
   "outputs": [
    {
     "data": {
      "text/plain": [
       "[Table(name='src', database='default', description=None, tableType='MANAGED', isTemporary=False)]"
      ]
     },
     "execution_count": 14,
     "metadata": {},
     "output_type": "execute_result"
    }
   ],
   "source": [
    "spark.catalog.listTables()"
   ]
  },
  {
   "cell_type": "code",
   "execution_count": 15,
   "id": "e1f3e97e-c999-4550-8692-59c1e56be701",
   "metadata": {},
   "outputs": [
    {
     "name": "stdout",
     "output_type": "stream",
     "text": [
      "+---+--------------------+--------------------+--------------------+\n",
      "| id|                 url|               title|                text|\n",
      "+---+--------------------+--------------------+--------------------+\n",
      "| 12|https://en.wikipe...|           Anarchism|Anarchism is a po...|\n",
      "| 25|https://en.wikipe...|              Autism|Autism is a neuro...|\n",
      "| 39|https://en.wikipe...|              Albedo|Albedo (; ) is th...|\n",
      "|290|https://en.wikipe...|                   A|A, or a, is the f...|\n",
      "|303|https://en.wikipe...|             Alabama|Alabama () is a s...|\n",
      "|305|https://en.wikipe...|            Achilles|In Greek mytholog...|\n",
      "|307|https://en.wikipe...|     Abraham Lincoln|Abraham Lincoln (...|\n",
      "|308|https://en.wikipe...|           Aristotle|Aristotle (;  Ari...|\n",
      "|309|https://en.wikipe...|An American in Paris|An American in Pa...|\n",
      "|316|https://en.wikipe...|Academy Award for...|The Academy Award...|\n",
      "|324|https://en.wikipe...|      Academy Awards|The Academy Award...|\n",
      "|330|https://en.wikipe...|             Actrius|Actresses (Catala...|\n",
      "|332|https://en.wikipe...|     Animalia (book)|Animalia is an il...|\n",
      "|334|https://en.wikipe...|International Ato...|International Ato...|\n",
      "|336|https://en.wikipe...|            Altruism|Altruism is the p...|\n",
      "|339|https://en.wikipe...|            Ayn Rand|Alice O'Connor (b...|\n",
      "|340|https://en.wikipe...|        Alain Connes|Alain Connes (; b...|\n",
      "|344|https://en.wikipe...|          Allan Dwan|Allan Dwan (born ...|\n",
      "|358|https://en.wikipe...|             Algeria|Algeria, official...|\n",
      "|359|https://en.wikipe...|List of Atlas Shr...|This is a list of...|\n",
      "+---+--------------------+--------------------+--------------------+\n",
      "only showing top 20 rows\n",
      "\n"
     ]
    }
   ],
   "source": [
    "spark.sql('select * from global_temp.wiki').show()"
   ]
  },
  {
   "cell_type": "code",
   "execution_count": 18,
   "id": "605646ce-cd8b-4873-a23f-4f8422c9554b",
   "metadata": {},
   "outputs": [
    {
     "name": "stdout",
     "output_type": "stream",
     "text": [
      "+---------+---------+-----------+\n",
      "|namespace|tableName|isTemporary|\n",
      "+---------+---------+-----------+\n",
      "|  default|      src|      false|\n",
      "+---------+---------+-----------+\n",
      "\n"
     ]
    }
   ],
   "source": [
    "spark.sql(\"show tables\").show()"
   ]
  },
  {
   "cell_type": "code",
   "execution_count": null,
   "id": "d0984e85-ba30-4fa7-b6e0-e9a1a736801a",
   "metadata": {},
   "outputs": [],
   "source": [
    "spark.stop()"
   ]
  }
 ],
 "metadata": {
  "kernelspec": {
   "display_name": "Python 3.10.1 64-bit",
   "language": "python",
   "name": "python3"
  },
  "language_info": {
   "codemirror_mode": {
    "name": "ipython",
    "version": 3
   },
   "file_extension": ".py",
   "mimetype": "text/x-python",
   "name": "python",
   "nbconvert_exporter": "python",
   "pygments_lexer": "ipython3",
   "version": "3.10.1"
  },
  "vscode": {
   "interpreter": {
    "hash": "aee8b7b246df8f9039afb4144a1f6fd8d2ca17a180786b69acc140d282b71a49"
   }
  }
 },
 "nbformat": 4,
 "nbformat_minor": 5
}
