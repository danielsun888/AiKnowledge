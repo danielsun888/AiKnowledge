{
 "cells": [
  {
   "cell_type": "markdown",
   "id": "e388d0cf",
   "metadata": {},
   "source": [
    "## read xml file structure"
   ]
  },
  {
   "cell_type": "code",
   "execution_count": 4,
   "id": "74e1f1a3-1782-4e23-bd93-a7d22819a501",
   "metadata": {},
   "outputs": [
    {
     "name": "stdout",
     "output_type": "stream",
     "text": [
      "读取的字符串: <feed>\n",
      "<doc>\n",
      "<title>Wikipedia: Anarchism</title>\n",
      "<url>https://en.wikipedia.org/wiki/Anarchism</url>\n",
      "<abstract>Anarchism is a political philosophy and movement that is skeptical of all justifications for authority and seeks to abolish the institutions they claim maintain unnecessary coercion and hierarchy, typically including, though not necessarily limited to, governments, nation states, and capitalism. Anarchism advocates for the replacement of the state with stateless societies or other forms of free associations.</abstract>\n",
      "<links>\n",
      "<sublink linktype=\"nav\"><anchor>Etymology, terminology, and definition</anchor><link>https://en.wikipedia.org/wiki/Anarchism#Etymology,_terminology,_and_definition</link></sublink>\n",
      "<sublink linktype=\"nav\"><anchor>History</anchor><link>https://en.wikipedia.org/wiki/Anarchism#History</link></sublink>\n",
      "<sublink linktype=\"nav\"><anchor>Pre-modern era</anchor><link>https://en.wikipedia.org/wiki/Anarchism#Pre-modern_era</link></sublink>\n",
      "<sublink linktype=\"nav\"><a\n"
     ]
    }
   ],
   "source": [
    "file=open('../data/enwiki-latest-abstract.xml')\n",
    "line = file.read(1000)\n",
    "print (\"读取的字符串: %s\" % (line))\n",
    "\n",
    "# 关闭文件"
   ]
  },
  {
   "cell_type": "code",
   "execution_count": 5,
   "id": "4c62b00b",
   "metadata": {},
   "outputs": [
    {
     "name": "stderr",
     "output_type": "stream",
     "text": [
      "22/11/09 10:27:57 WARN Utils: Your hostname, Glorias-MacBook-Pro.local resolves to a loopback address: 127.0.0.1; using 192.168.1.39 instead (on interface en0)\n",
      "22/11/09 10:27:57 WARN Utils: Set SPARK_LOCAL_IP if you need to bind to another address\n",
      "WARNING: An illegal reflective access operation has occurred\n",
      "WARNING: Illegal reflective access by org.apache.spark.unsafe.Platform (file:/Library/Frameworks/Python.framework/Versions/3.10/lib/python3.10/site-packages/pyspark/jars/spark-unsafe_2.12-3.2.1.jar) to constructor java.nio.DirectByteBuffer(long,int)\n",
      "WARNING: Please consider reporting this to the maintainers of org.apache.spark.unsafe.Platform\n",
      "WARNING: Use --illegal-access=warn to enable warnings of further illegal reflective access operations\n",
      "WARNING: All illegal access operations will be denied in a future release\n"
     ]
    },
    {
     "name": "stdout",
     "output_type": "stream",
     "text": [
      ":: loading settings :: url = jar:file:/Library/Frameworks/Python.framework/Versions/3.10/lib/python3.10/site-packages/pyspark/jars/ivy-2.5.0.jar!/org/apache/ivy/core/settings/ivysettings.xml\n"
     ]
    },
    {
     "name": "stderr",
     "output_type": "stream",
     "text": [
      "Ivy Default Cache set to: /Users/gloria/.ivy2/cache\n",
      "The jars for the packages stored in: /Users/gloria/.ivy2/jars\n",
      "org.postgresql#postgresql added as a dependency\n",
      "com.databricks#spark-xml_2.12 added as a dependency\n",
      ":: resolving dependencies :: org.apache.spark#spark-submit-parent-d0b1a491-527c-4a56-a1d7-e64c8f8bc119;1.0\n",
      "\tconfs: [default]\n",
      "\tfound org.postgresql#postgresql;42.5.0 in central\n",
      "\tfound org.checkerframework#checker-qual;3.5.0 in central\n",
      "\tfound com.databricks#spark-xml_2.12;0.5.0 in central\n",
      ":: resolution report :: resolve 189ms :: artifacts dl 10ms\n",
      "\t:: modules in use:\n",
      "\tcom.databricks#spark-xml_2.12;0.5.0 from central in [default]\n",
      "\torg.checkerframework#checker-qual;3.5.0 from central in [default]\n",
      "\torg.postgresql#postgresql;42.5.0 from central in [default]\n",
      "\t---------------------------------------------------------------------\n",
      "\t|                  |            modules            ||   artifacts   |\n",
      "\t|       conf       | number| search|dwnlded|evicted|| number|dwnlded|\n",
      "\t---------------------------------------------------------------------\n",
      "\t|      default     |   3   |   0   |   0   |   0   ||   3   |   0   |\n",
      "\t---------------------------------------------------------------------\n",
      ":: retrieving :: org.apache.spark#spark-submit-parent-d0b1a491-527c-4a56-a1d7-e64c8f8bc119\n",
      "\tconfs: [default]\n",
      "\t0 artifacts copied, 3 already retrieved (0kB/7ms)\n",
      "22/11/09 10:27:58 WARN NativeCodeLoader: Unable to load native-hadoop library for your platform... using builtin-java classes where applicable\n",
      "Using Spark's default log4j profile: org/apache/spark/log4j-defaults.properties\n",
      "Setting default log level to \"WARN\".\n",
      "To adjust logging level use sc.setLogLevel(newLevel). For SparkR, use setLogLevel(newLevel).\n"
     ]
    },
    {
     "name": "stdout",
     "output_type": "stream",
     "text": [
      "Apache Spark version:  3.2.1\n"
     ]
    }
   ],
   "source": [
    "from pyspark import SparkContext,SparkConf\n",
    "from pyspark.sql import SparkSession\n",
    "spark = SparkSession.builder.appName(\"nlp\").master(\"local[2]\")\\\n",
    "    .config(\"spark.jars.packages\", \"org.postgresql:postgresql:42.5.0,com.databricks:spark-xml_2.12:0.5.0\")\\\n",
    "    .getOrCreate()\n",
    "print(\"Apache Spark version: \", spark.version)\n",
    "sc=spark.sparkContext"
   ]
  },
  {
   "cell_type": "code",
   "execution_count": 11,
   "id": "a2e7fe47",
   "metadata": {},
   "outputs": [
    {
     "data": {
      "text/plain": [
       "[('spark.driver.port', '49936'),\n",
       " ('spark.repl.local.jars',\n",
       "  'file:///Users/gloria/.ivy2/jars/org.postgresql_postgresql-42.5.0.jar,file:///Users/gloria/.ivy2/jars/com.databricks_spark-xml_2.12-0.5.0.jar,file:///Users/gloria/.ivy2/jars/org.checkerframework_checker-qual-3.5.0.jar'),\n",
       " ('spark.app.id', 'local-1667957280134'),\n",
       " ('spark.executor.id', 'driver'),\n",
       " ('spark.app.name', 'nlp'),\n",
       " ('spark.files',\n",
       "  'file:///Users/gloria/.ivy2/jars/org.postgresql_postgresql-42.5.0.jar,file:///Users/gloria/.ivy2/jars/com.databricks_spark-xml_2.12-0.5.0.jar,file:///Users/gloria/.ivy2/jars/org.checkerframework_checker-qual-3.5.0.jar'),\n",
       " ('spark.jars',\n",
       "  'file:///Users/gloria/.ivy2/jars/org.postgresql_postgresql-42.5.0.jar,file:///Users/gloria/.ivy2/jars/com.databricks_spark-xml_2.12-0.5.0.jar,file:///Users/gloria/.ivy2/jars/org.checkerframework_checker-qual-3.5.0.jar'),\n",
       " ('spark.submit.pyFiles',\n",
       "  '/Users/gloria/.ivy2/jars/org.postgresql_postgresql-42.5.0.jar,/Users/gloria/.ivy2/jars/com.databricks_spark-xml_2.12-0.5.0.jar,/Users/gloria/.ivy2/jars/org.checkerframework_checker-qual-3.5.0.jar'),\n",
       " ('spark.rdd.compress', 'True'),\n",
       " ('spark.app.initial.jar.urls',\n",
       "  'spark://192.168.1.39:49936/jars/com.databricks_spark-xml_2.12-0.5.0.jar,spark://192.168.1.39:49936/jars/org.postgresql_postgresql-42.5.0.jar,spark://192.168.1.39:49936/jars/org.checkerframework_checker-qual-3.5.0.jar'),\n",
       " ('spark.app.initial.file.urls',\n",
       "  'file:///Users/gloria/.ivy2/jars/org.postgresql_postgresql-42.5.0.jar,file:///Users/gloria/.ivy2/jars/com.databricks_spark-xml_2.12-0.5.0.jar,file:///Users/gloria/.ivy2/jars/org.checkerframework_checker-qual-3.5.0.jar'),\n",
       " ('spark.serializer.objectStreamReset', '100'),\n",
       " ('spark.submit.deployMode', 'client'),\n",
       " ('spark.app.startTime', '1667957278875'),\n",
       " ('spark.sql.warehouse.dir',\n",
       "  'file:/Users/gloria/Documents/GitHub/AiKnowledge/spark/spark-warehouse'),\n",
       " ('spark.ui.showConsoleProgress', 'true'),\n",
       " ('spark.master', 'local[2]'),\n",
       " ('spark.driver.host', '192.168.1.39'),\n",
       " ('spark.jars.packages',\n",
       "  'org.postgresql:postgresql:42.5.0,com.databricks:spark-xml_2.12:0.5.0')]"
      ]
     },
     "execution_count": 11,
     "metadata": {},
     "output_type": "execute_result"
    }
   ],
   "source": [
    "sc.getConf().getAll()"
   ]
  },
  {
   "cell_type": "code",
   "execution_count": 12,
   "id": "3ddb0087",
   "metadata": {},
   "outputs": [
    {
     "name": "stderr",
     "output_type": "stream",
     "text": [
      "                                                                                \r"
     ]
    },
    {
     "name": "stdout",
     "output_type": "stream",
     "text": [
      "+--------------------+--------------------+--------------------+--------------------+\n",
      "|            abstract|               links|               title|                 url|\n",
      "+--------------------+--------------------+--------------------+--------------------+\n",
      "|Anarchism is a po...|<sublink><anchor>...|Wikipedia: Anarchism|https://en.wikipe...|\n",
      "|Albedo (; ) is th...|<sublink><anchor>...|   Wikipedia: Albedo|https://en.wikipe...|\n",
      "|           A-sharp}}|<sublink><anchor>...|        Wikipedia: A|https://en.wikipe...|\n",
      "|(We dare defend o...|<sublink><anchor>...|  Wikipedia: Alabama|https://en.wikipe...|\n",
      "|In Greek mytholog...|<sublink><anchor>...| Wikipedia: Achilles|https://en.wikipe...|\n",
      "|                   *|<sublink><anchor>...|Wikipedia: Abraha...|https://en.wikipe...|\n",
      "|                  }}|<sublink><anchor>...|Wikipedia: Aristotle|https://en.wikipe...|\n",
      "|An American in Pa...|<sublink><anchor>...|Wikipedia: An Ame...|https://en.wikipe...|\n",
      "|The Academy Award...|<sublink><anchor>...|Wikipedia: Academ...|https://en.wikipe...|\n",
      "|             Oscar}}|<sublink><anchor>...|Wikipedia: Academ...|https://en.wikipe...|\n",
      "|  | starring       =|<sublink><anchor>...|  Wikipedia: Actrius|https://en.wikipe...|\n",
      "|Animalia is an il...|<sublink><anchor>...|Wikipedia: Animal...|https://en.wikipe...|\n",
      "|International Ato...|<sublink><anchor>...|Wikipedia: Intern...|https://en.wikipe...|\n",
      "|Altruism is the p...|<sublink><anchor>...| Wikipedia: Altruism|https://en.wikipe...|\n",
      "|| birth_place = S...|<sublink><anchor>...| Wikipedia: Ayn Rand|https://en.wikipe...|\n",
      "|| birth_place = D...|<sublink><anchor>...|Wikipedia: Alain ...|https://en.wikipe...|\n",
      "|| birth_place  = ...|<sublink><anchor>...|Wikipedia: Allan ...|https://en.wikipe...|\n",
      "|   Šaʿbiyya}}}}|}}}}|<sublink><anchor>...|  Wikipedia: Algeria|https://en.wikipe...|\n",
      "|This is a list of...|<sublink><anchor>...|Wikipedia: List o...|https://en.wikipe...|\n",
      "|Anthropology is t...|<sublink><anchor>...|Wikipedia: Anthro...|https://en.wikipe...|\n",
      "+--------------------+--------------------+--------------------+--------------------+\n",
      "only showing top 20 rows\n",
      "\n"
     ]
    }
   ],
   "source": [
    "\n",
    "df = spark.read.format('xml').options(rowTag='doc').load('../data/enwiki-latest-abstract.xml')\n",
    "df.show()"
   ]
  },
  {
   "cell_type": "code",
   "execution_count": 13,
   "id": "e5d3b242",
   "metadata": {},
   "outputs": [
    {
     "name": "stderr",
     "output_type": "stream",
     "text": [
      "                                                                                \r"
     ]
    }
   ],
   "source": [
    "df.write.option(\"header\",True).csv(\"../data/datacsv\")"
   ]
  },
  {
   "cell_type": "code",
   "execution_count": null,
   "id": "204b73c9",
   "metadata": {},
   "outputs": [],
   "source": [
    "spark.stop()"
   ]
  }
 ],
 "metadata": {
  "kernelspec": {
   "display_name": "Python 3.10.1 64-bit",
   "language": "python",
   "name": "python3"
  },
  "language_info": {
   "codemirror_mode": {
    "name": "ipython",
    "version": 3
   },
   "file_extension": ".py",
   "mimetype": "text/x-python",
   "name": "python",
   "nbconvert_exporter": "python",
   "pygments_lexer": "ipython3",
   "version": "3.10.1"
  },
  "vscode": {
   "interpreter": {
    "hash": "aee8b7b246df8f9039afb4144a1f6fd8d2ca17a180786b69acc140d282b71a49"
   }
  }
 },
 "nbformat": 4,
 "nbformat_minor": 5
}
