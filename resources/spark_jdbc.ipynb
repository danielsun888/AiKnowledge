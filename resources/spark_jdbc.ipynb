{
 "cells": [
  {
   "cell_type": "code",
   "execution_count": 1,
   "id": "a6cd957b-7a0b-4403-ad1a-7c14b6a8231e",
   "metadata": {},
   "outputs": [
    {
     "name": "stdout",
     "output_type": "stream",
     "text": [
      ":: loading settings :: url = jar:file:/Users/gloria/opt/anaconda3/envs/pyspark/lib/python3.9/site-packages/pyspark/jars/ivy-2.5.0.jar!/org/apache/ivy/core/settings/ivysettings.xml\n"
     ]
    },
    {
     "name": "stderr",
     "output_type": "stream",
     "text": [
      "Ivy Default Cache set to: /Users/gloria/.ivy2/cache\n",
      "The jars for the packages stored in: /Users/gloria/.ivy2/jars\n",
      "org.postgresql#postgresql added as a dependency\n",
      ":: resolving dependencies :: org.apache.spark#spark-submit-parent-a49e2e14-836e-42a1-bd19-888f202ebc6f;1.0\n",
      "\tconfs: [default]\n",
      "\tfound org.postgresql#postgresql;42.5.0 in central\n",
      "\tfound org.checkerframework#checker-qual;3.5.0 in central\n",
      ":: resolution report :: resolve 173ms :: artifacts dl 7ms\n",
      "\t:: modules in use:\n",
      "\torg.checkerframework#checker-qual;3.5.0 from central in [default]\n",
      "\torg.postgresql#postgresql;42.5.0 from central in [default]\n",
      "\t---------------------------------------------------------------------\n",
      "\t|                  |            modules            ||   artifacts   |\n",
      "\t|       conf       | number| search|dwnlded|evicted|| number|dwnlded|\n",
      "\t---------------------------------------------------------------------\n",
      "\t|      default     |   2   |   0   |   0   |   0   ||   2   |   0   |\n",
      "\t---------------------------------------------------------------------\n",
      ":: retrieving :: org.apache.spark#spark-submit-parent-a49e2e14-836e-42a1-bd19-888f202ebc6f\n",
      "\tconfs: [default]\n",
      "\t0 artifacts copied, 2 already retrieved (0kB/7ms)\n"
     ]
    },
    {
     "name": "stdout",
     "output_type": "stream",
     "text": [
      "22/11/10 16:03:36 WARN NativeCodeLoader: Unable to load native-hadoop library for your platform... using builtin-java classes where applicable\n"
     ]
    },
    {
     "name": "stderr",
     "output_type": "stream",
     "text": [
      "Setting default log level to \"WARN\".\n",
      "To adjust logging level use sc.setLogLevel(newLevel). For SparkR, use setLogLevel(newLevel).\n"
     ]
    },
    {
     "name": "stdout",
     "output_type": "stream",
     "text": [
      "Apache Spark version:  3.3.1\n"
     ]
    }
   ],
   "source": [
    "from pyspark import SparkContext,SparkConf\n",
    "from pyspark.sql import SparkSession\n",
    "spark = SparkSession.builder.appName(\"nlp\").master(\"local[2]\")\\\n",
    "    .config(\"spark.jars.packages\", \"org.postgresql:postgresql:42.5.0\",)\\\n",
    "    .getOrCreate()\n",
    "print(\"Apache Spark version: \", spark.version)\n",
    "sc=spark.sparkContext\n",
    "# org.postgresql:postgresql:42.5.0"
   ]
  },
  {
   "cell_type": "code",
   "execution_count": 2,
   "id": "af4dc96c-6b26-410d-b440-8ddc8826dd25",
   "metadata": {},
   "outputs": [],
   "source": [
    "pgDF=spark.read.format(\"jdbc\").\\\n",
    "    option(\"url\", \"jdbc:postgresql://localhost:5432/haystack\").\\\n",
    "    option(\"dbtable\", \"public.document\").\\\n",
    "    option(\"user\", \"postgres\").\\\n",
    "    option(\"password\", \"postgres\").\\\n",
    "    option(\"driver\", \"org.postgresql.Driver\").load()     "
   ]
  },
  {
   "cell_type": "code",
   "execution_count": 3,
   "id": "5f8eb323-57f9-47e3-a783-bcd3ff0652a9",
   "metadata": {},
   "outputs": [
    {
     "name": "stderr",
     "output_type": "stream",
     "text": [
      "[Stage 0:>                                                          (0 + 1) / 1]\r"
     ]
    },
    {
     "name": "stdout",
     "output_type": "stream",
     "text": [
      "+--------------------+--------------------+--------------------+--------------------+------------+--------+---------+\n",
      "|                  id|          created_at|          updated_at|             content|content_type|   index|vector_id|\n",
      "+--------------------+--------------------+--------------------+--------------------+------------+--------+---------+\n",
      "|41655cc804bb07b15...|2022-10-31 16:29:...|2022-10-31 16:29:...|\"Linda Antonsson ...|        text|document|     null|\n",
      "|75c286c84f4070134...|2022-10-31 16:29:...|2022-10-31 16:29:...|\"\\n==Career==\\nEl...|        text|document|     null|\n",
      "|71a783f2734f7e88e...|2022-10-31 16:29:...|2022-10-31 16:29:...|\"\\n==Personal lif...|        text|document|     null|\n",
      "|9983c94e42beb7c5f...|2022-10-31 16:29:...|2022-10-31 16:29:...|\"\\n==External lin...|        text|document|     null|\n",
      "|b544e42c29c0ac915...|2022-10-31 16:29:...|2022-10-31 16:29:...|\"'''Jaime Lannist...|        text|document|     null|\n",
      "|49091c797d2236e73...|2022-10-31 16:29:...|2022-10-31 16:29:...|\"\\n===Description...|        text|document|     null|\n",
      "|cdf6f9a468f7187b0...|2022-10-31 16:29:...|2022-10-31 16:29:...|\"\\n===Development...|        text|document|     null|\n",
      "|d3488ca3ea1ce433c...|2022-10-31 16:29:...|2022-10-31 16:29:...|\"\\n==Storylines==...|        text|document|     null|\n",
      "|bbef72c97360d00eb...|2022-10-31 16:29:...|2022-10-31 16:29:...|\"\\n===Personality...|        text|document|     null|\n",
      "|9a0d15d356b0d8c88...|2022-10-31 16:29:...|2022-10-31 16:29:...|\"\\n===''A Game of...|        text|document|     null|\n",
      "|dd6277f07521a468f...|2022-10-31 16:29:...|2022-10-31 16:29:...|\"\\n===''A Clash o...|        text|document|     null|\n",
      "|cfde674a43c5e80ae...|2022-10-31 16:29:...|2022-10-31 16:29:...|\"\\n===''A Storm o...|        text|document|     null|\n",
      "|622b774e96fba1af0...|2022-10-31 16:29:...|2022-10-31 16:29:...|\"\\n===''A Feast f...|        text|document|     null|\n",
      "|d7b44014100644276...|2022-10-31 16:29:...|2022-10-31 16:29:...|\"\\n===''A Dance w...|        text|document|     null|\n",
      "|7f87a2396cb0ea57b...|2022-10-31 16:29:...|2022-10-31 16:29:...|\"\\n==TV adaptatio...|        text|document|     null|\n",
      "|f01570d5298777186...|2022-10-31 16:29:...|2022-10-31 16:29:...|\"\\n====Season 1==...|        text|document|     null|\n",
      "|f1e919e272f2952c6...|2022-10-31 16:29:...|2022-10-31 16:29:...|\"\\n====Season 2==...|        text|document|     null|\n",
      "|5b92eb700b460a430...|2022-10-31 16:29:...|2022-10-31 16:29:...|\"\\n==Leak==\\nThe ...|        text|document|     null|\n",
      "|9e9a3181b6bc168b4...|2022-10-31 16:29:...|2022-10-31 16:29:...|\"\\n==External lin...|        text|document|     null|\n",
      "|b0a1d2f8803f5c51f...|2022-10-31 16:29:...|2022-10-31 16:29:...|\"\\n====Season 3==...|        text|document|     null|\n",
      "+--------------------+--------------------+--------------------+--------------------+------------+--------+---------+\n",
      "only showing top 20 rows\n",
      "\n"
     ]
    },
    {
     "name": "stderr",
     "output_type": "stream",
     "text": [
      "                                                                                \r"
     ]
    }
   ],
   "source": [
    "pgDF.show()"
   ]
  },
  {
   "cell_type": "code",
   "execution_count": null,
   "id": "b611dd08",
   "metadata": {},
   "outputs": [],
   "source": [
    "df.write.format(\"jdbc\")\\\n",
    "    .option(\"url\", \"jdbc:postgresql://localhost:5432/aiknowledge\")\\\n",
    "    .option(\"dbtable\", \"public.articles_articles\")\\\n",
    "    .option(\"user\", \"postgres\")\\\n",
    "    .option(\"password\", \"postgres\")\\\n",
    "    .option(\"driver\", \"org.postgresql.Driver\") \\\n",
    "    .mode(\"append\").save()"
   ]
  },
  {
   "cell_type": "code",
   "execution_count": null,
   "id": "415fb4be",
   "metadata": {},
   "outputs": [],
   "source": [
    "df2=df.withColumnRenamed('text','content')\n"
   ]
  },
  {
   "cell_type": "code",
   "execution_count": null,
   "id": "b3997fc4-479f-41f2-8407-eced4ba4a591",
   "metadata": {},
   "outputs": [],
   "source": [
    "spark.stop()"
   ]
  }
 ],
 "metadata": {
  "kernelspec": {
   "display_name": "Python 3 (ipykernel)",
   "language": "python",
   "name": "python3"
  },
  "language_info": {
   "codemirror_mode": {
    "name": "ipython",
    "version": 3
   },
   "file_extension": ".py",
   "mimetype": "text/x-python",
   "name": "python",
   "nbconvert_exporter": "python",
   "pygments_lexer": "ipython3",
   "version": "3.9.13"
  },
  "vscode": {
   "interpreter": {
    "hash": "f70b66c476b517a3398e503e066261bd5effd8e36d6bd83ebcc33f32092e45d7"
   }
  }
 },
 "nbformat": 4,
 "nbformat_minor": 5
}
