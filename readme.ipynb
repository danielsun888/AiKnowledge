{
 "cells": [
  {
   "cell_type": "markdown",
   "metadata": {},
   "source": []
  },
  {
   "cell_type": "markdown",
   "metadata": {},
   "source": [
    "# Project Readme\n",
    "<!-- <h1> 一级标题 </h1> -->\n",
    "\n",
    "## \n",
    "###  structure\n",
    "\n",
    "![process](./resources/unnamed.jpeg)\n",
    "\n",
    "### stages\n",
    "<!-- <h3> 三级标题 -->\n",
    "![process](./resources/Search%20engine%20and%20knowledge%20graph%20building.png)\n",
    "\n",
    "### installation\n",
    "<h4>[docker url:](https://hub.docker.com/r/youaredaniel/aiknowledge)\n",
    "<h5>docker command: docker pull youaredaniel/aiknowledge\n",
    "\n",
    "#####  \n",
    "<!-- <h5> 五级标题 -->\n",
    "\n",
    "######  \n",
    "<!-- <h6> 六级标题 -->"
   ]
  },
  {
   "cell_type": "markdown",
   "metadata": {},
   "source": []
  }
 ],
 "metadata": {
  "kernelspec": {
   "display_name": "Python 3.10.1 64-bit",
   "language": "python",
   "name": "python3"
  },
  "language_info": {
   "name": "python",
   "version": "3.10.1"
  },
  "orig_nbformat": 4,
  "vscode": {
   "interpreter": {
    "hash": "aee8b7b246df8f9039afb4144a1f6fd8d2ca17a180786b69acc140d282b71a49"
   }
  }
 },
 "nbformat": 4,
 "nbformat_minor": 2
}
