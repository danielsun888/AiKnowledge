{
 "cells": [
  {
   "cell_type": "code",
   "execution_count": 3,
   "metadata": {},
   "outputs": [
    {
     "name": "stdout",
     "output_type": "stream",
     "text": [
      "22/11/09 09:10:37 WARN Utils: Your hostname, Glorias-MacBook-Pro.local resolves to a loopback address: 127.0.0.1; using 192.168.0.13 instead (on interface en0)\n",
      "22/11/09 09:10:37 WARN Utils: Set SPARK_LOCAL_IP if you need to bind to another address\n",
      ":: loading settings :: url = jar:file:/Users/gloria/opt/anaconda3/envs/pyspark/lib/python3.9/site-packages/pyspark/jars/ivy-2.5.0.jar!/org/apache/ivy/core/settings/ivysettings.xml\n"
     ]
    },
    {
     "name": "stderr",
     "output_type": "stream",
     "text": [
      "Ivy Default Cache set to: /Users/gloria/.ivy2/cache\n",
      "The jars for the packages stored in: /Users/gloria/.ivy2/jars\n",
      "['org.postgresql#postgresql added as a dependency\n",
      ":: resolving dependencies :: org.apache.spark#spark-submit-parent-dc645ac5-1120-4e88-be9b-9c24f4bc149e;1.0\n",
      "\tconfs: [default]\n",
      ":: resolution report :: resolve 2488ms :: artifacts dl 0ms\n",
      "\t:: modules in use:\n",
      "\t---------------------------------------------------------------------\n",
      "\t|                  |            modules            ||   artifacts   |\n",
      "\t|       conf       | number| search|dwnlded|evicted|| number|dwnlded|\n",
      "\t---------------------------------------------------------------------\n",
      "\t|      default     |   1   |   0   |   0   |   0   ||   0   |   0   |\n",
      "\t---------------------------------------------------------------------\n",
      "\n",
      ":: problems summary ::\n",
      ":::: WARNINGS\n",
      "\t\tmodule not found: ['org.postgresql#postgresql;42.5.0']\n",
      "\n",
      "\t==== local-m2-cache: tried\n",
      "\n",
      "\t  file:/Users/gloria/.m2/repository/['org/postgresql/postgresql/42.5.0']/postgresql-42.5.0'].pom\n",
      "\n",
      "\t  -- artifact ['org.postgresql#postgresql;42.5.0']!postgresql.jar:\n",
      "\n",
      "\t  file:/Users/gloria/.m2/repository/['org/postgresql/postgresql/42.5.0']/postgresql-42.5.0'].jar\n",
      "\n",
      "\t==== local-ivy-cache: tried\n",
      "\n",
      "\t  /Users/gloria/.ivy2/local/['org.postgresql/postgresql/42.5.0']/ivys/ivy.xml\n",
      "\n",
      "\t  -- artifact ['org.postgresql#postgresql;42.5.0']!postgresql.jar:\n",
      "\n",
      "\t  /Users/gloria/.ivy2/local/['org.postgresql/postgresql/42.5.0']/jars/postgresql.jar\n",
      "\n",
      "\t==== central: tried\n",
      "\n",
      "\t  https://repo1.maven.org/maven2/['org/postgresql/postgresql/42.5.0']/postgresql-42.5.0'].pom\n",
      "\n",
      "\t  -- artifact ['org.postgresql#postgresql;42.5.0']!postgresql.jar:\n",
      "\n",
      "\t  https://repo1.maven.org/maven2/['org/postgresql/postgresql/42.5.0']/postgresql-42.5.0'].jar\n",
      "\n",
      "\t==== spark-packages: tried\n",
      "\n",
      "\t  https://repos.spark-packages.org/['org/postgresql/postgresql/42.5.0']/postgresql-42.5.0'].pom\n",
      "\n",
      "\t  -- artifact ['org.postgresql#postgresql;42.5.0']!postgresql.jar:\n",
      "\n",
      "\t  https://repos.spark-packages.org/['org/postgresql/postgresql/42.5.0']/postgresql-42.5.0'].jar\n",
      "\n",
      "\t\t::::::::::::::::::::::::::::::::::::::::::::::\n",
      "\n",
      "\t\t::          UNRESOLVED DEPENDENCIES         ::\n",
      "\n",
      "\t\t::::::::::::::::::::::::::::::::::::::::::::::\n",
      "\n",
      "\t\t:: ['org.postgresql#postgresql;42.5.0']: not found\n",
      "\n",
      "\t\t::::::::::::::::::::::::::::::::::::::::::::::\n",
      "\n",
      "\n",
      "\n",
      ":: USE VERBOSE OR DEBUG MESSAGE LEVEL FOR MORE DETAILS\n",
      "Exception in thread \"main\" java.lang.RuntimeException: [unresolved dependency: ['org.postgresql#postgresql;42.5.0']: not found]\n",
      "\tat org.apache.spark.deploy.SparkSubmitUtils$.resolveMavenCoordinates(SparkSubmit.scala:1456)\n",
      "\tat org.apache.spark.util.DependencyUtils$.resolveMavenDependencies(DependencyUtils.scala:185)\n",
      "\tat org.apache.spark.deploy.SparkSubmit.prepareSubmitEnvironment(SparkSubmit.scala:308)\n",
      "\tat org.apache.spark.deploy.SparkSubmit.org$apache$spark$deploy$SparkSubmit$$runMain(SparkSubmit.scala:901)\n",
      "\tat org.apache.spark.deploy.SparkSubmit.doRunMain$1(SparkSubmit.scala:180)\n",
      "\tat org.apache.spark.deploy.SparkSubmit.submit(SparkSubmit.scala:203)\n",
      "\tat org.apache.spark.deploy.SparkSubmit.doSubmit(SparkSubmit.scala:90)\n",
      "\tat org.apache.spark.deploy.SparkSubmit$$anon$2.doSubmit(SparkSubmit.scala:1046)\n",
      "\tat org.apache.spark.deploy.SparkSubmit$.main(SparkSubmit.scala:1055)\n",
      "\tat org.apache.spark.deploy.SparkSubmit.main(SparkSubmit.scala)\n"
     ]
    },
    {
     "ename": "RuntimeError",
     "evalue": "Java gateway process exited before sending its port number",
     "output_type": "error",
     "traceback": [
      "\u001b[0;31m---------------------------------------------------------------------------\u001b[0m",
      "\u001b[0;31mRuntimeError\u001b[0m                              Traceback (most recent call last)",
      "\u001b[0;32m/var/folders/s7/fkmmd6fd7ws7mjgqw3m21kz00000gn/T/ipykernel_83488/3503098449.py\u001b[0m in \u001b[0;36m<module>\u001b[0;34m\u001b[0m\n\u001b[1;32m      1\u001b[0m \u001b[0;32mfrom\u001b[0m \u001b[0mpyspark\u001b[0m \u001b[0;32mimport\u001b[0m \u001b[0mSparkContext\u001b[0m\u001b[0;34m,\u001b[0m\u001b[0mSparkConf\u001b[0m\u001b[0;34m\u001b[0m\u001b[0;34m\u001b[0m\u001b[0m\n\u001b[1;32m      2\u001b[0m \u001b[0;32mfrom\u001b[0m \u001b[0mpyspark\u001b[0m\u001b[0;34m.\u001b[0m\u001b[0msql\u001b[0m \u001b[0;32mimport\u001b[0m \u001b[0mSparkSession\u001b[0m\u001b[0;34m\u001b[0m\u001b[0;34m\u001b[0m\u001b[0m\n\u001b[0;32m----> 3\u001b[0;31m \u001b[0mspark\u001b[0m \u001b[0;34m=\u001b[0m \u001b[0mSparkSession\u001b[0m\u001b[0;34m.\u001b[0m\u001b[0mbuilder\u001b[0m\u001b[0;34m.\u001b[0m\u001b[0mappName\u001b[0m\u001b[0;34m(\u001b[0m\u001b[0;34m\"data\"\u001b[0m\u001b[0;34m)\u001b[0m\u001b[0;34m.\u001b[0m\u001b[0mmaster\u001b[0m\u001b[0;34m(\u001b[0m\u001b[0;34m\"local[2]\"\u001b[0m\u001b[0;34m)\u001b[0m\u001b[0;31m\\\u001b[0m\u001b[0;34m\u001b[0m\u001b[0;34m\u001b[0m\u001b[0m\n\u001b[0m\u001b[1;32m      4\u001b[0m     \u001b[0;34m.\u001b[0m\u001b[0mconfig\u001b[0m\u001b[0;34m(\u001b[0m\u001b[0;34m\"spark.jars.packages\"\u001b[0m\u001b[0;34m,\u001b[0m \u001b[0;34m[\u001b[0m\u001b[0;34m\"org.postgresql:postgresql:42.5.0\"\u001b[0m\u001b[0;34m]\u001b[0m\u001b[0;34m)\u001b[0m\u001b[0;31m\\\u001b[0m\u001b[0;34m\u001b[0m\u001b[0;34m\u001b[0m\u001b[0m\n\u001b[1;32m      5\u001b[0m     \u001b[0;34m.\u001b[0m\u001b[0mgetOrCreate\u001b[0m\u001b[0;34m(\u001b[0m\u001b[0;34m)\u001b[0m\u001b[0;34m\u001b[0m\u001b[0;34m\u001b[0m\u001b[0m\n",
      "\u001b[0;32m~/opt/anaconda3/envs/pyspark/lib/python3.9/site-packages/pyspark/sql/session.py\u001b[0m in \u001b[0;36mgetOrCreate\u001b[0;34m(self)\u001b[0m\n\u001b[1;32m    267\u001b[0m                         \u001b[0msparkConf\u001b[0m\u001b[0;34m.\u001b[0m\u001b[0mset\u001b[0m\u001b[0;34m(\u001b[0m\u001b[0mkey\u001b[0m\u001b[0;34m,\u001b[0m \u001b[0mvalue\u001b[0m\u001b[0;34m)\u001b[0m\u001b[0;34m\u001b[0m\u001b[0;34m\u001b[0m\u001b[0m\n\u001b[1;32m    268\u001b[0m                     \u001b[0;31m# This SparkContext may be an existing one.\u001b[0m\u001b[0;34m\u001b[0m\u001b[0;34m\u001b[0m\u001b[0m\n\u001b[0;32m--> 269\u001b[0;31m                     \u001b[0msc\u001b[0m \u001b[0;34m=\u001b[0m \u001b[0mSparkContext\u001b[0m\u001b[0;34m.\u001b[0m\u001b[0mgetOrCreate\u001b[0m\u001b[0;34m(\u001b[0m\u001b[0msparkConf\u001b[0m\u001b[0;34m)\u001b[0m\u001b[0;34m\u001b[0m\u001b[0;34m\u001b[0m\u001b[0m\n\u001b[0m\u001b[1;32m    270\u001b[0m                     \u001b[0;31m# Do not update `SparkConf` for existing `SparkContext`, as it's shared\u001b[0m\u001b[0;34m\u001b[0m\u001b[0;34m\u001b[0m\u001b[0m\n\u001b[1;32m    271\u001b[0m                     \u001b[0;31m# by all sessions.\u001b[0m\u001b[0;34m\u001b[0m\u001b[0;34m\u001b[0m\u001b[0m\n",
      "\u001b[0;32m~/opt/anaconda3/envs/pyspark/lib/python3.9/site-packages/pyspark/context.py\u001b[0m in \u001b[0;36mgetOrCreate\u001b[0;34m(cls, conf)\u001b[0m\n\u001b[1;32m    481\u001b[0m         \u001b[0;32mwith\u001b[0m \u001b[0mSparkContext\u001b[0m\u001b[0;34m.\u001b[0m\u001b[0m_lock\u001b[0m\u001b[0;34m:\u001b[0m\u001b[0;34m\u001b[0m\u001b[0;34m\u001b[0m\u001b[0m\n\u001b[1;32m    482\u001b[0m             \u001b[0;32mif\u001b[0m \u001b[0mSparkContext\u001b[0m\u001b[0;34m.\u001b[0m\u001b[0m_active_spark_context\u001b[0m \u001b[0;32mis\u001b[0m \u001b[0;32mNone\u001b[0m\u001b[0;34m:\u001b[0m\u001b[0;34m\u001b[0m\u001b[0;34m\u001b[0m\u001b[0m\n\u001b[0;32m--> 483\u001b[0;31m                 \u001b[0mSparkContext\u001b[0m\u001b[0;34m(\u001b[0m\u001b[0mconf\u001b[0m\u001b[0;34m=\u001b[0m\u001b[0mconf\u001b[0m \u001b[0;32mor\u001b[0m \u001b[0mSparkConf\u001b[0m\u001b[0;34m(\u001b[0m\u001b[0;34m)\u001b[0m\u001b[0;34m)\u001b[0m\u001b[0;34m\u001b[0m\u001b[0;34m\u001b[0m\u001b[0m\n\u001b[0m\u001b[1;32m    484\u001b[0m             \u001b[0;32massert\u001b[0m \u001b[0mSparkContext\u001b[0m\u001b[0;34m.\u001b[0m\u001b[0m_active_spark_context\u001b[0m \u001b[0;32mis\u001b[0m \u001b[0;32mnot\u001b[0m \u001b[0;32mNone\u001b[0m\u001b[0;34m\u001b[0m\u001b[0;34m\u001b[0m\u001b[0m\n\u001b[1;32m    485\u001b[0m             \u001b[0;32mreturn\u001b[0m \u001b[0mSparkContext\u001b[0m\u001b[0;34m.\u001b[0m\u001b[0m_active_spark_context\u001b[0m\u001b[0;34m\u001b[0m\u001b[0;34m\u001b[0m\u001b[0m\n",
      "\u001b[0;32m~/opt/anaconda3/envs/pyspark/lib/python3.9/site-packages/pyspark/context.py\u001b[0m in \u001b[0;36m__init__\u001b[0;34m(self, master, appName, sparkHome, pyFiles, environment, batchSize, serializer, conf, gateway, jsc, profiler_cls, udf_profiler_cls)\u001b[0m\n\u001b[1;32m    193\u001b[0m             )\n\u001b[1;32m    194\u001b[0m \u001b[0;34m\u001b[0m\u001b[0m\n\u001b[0;32m--> 195\u001b[0;31m         \u001b[0mSparkContext\u001b[0m\u001b[0;34m.\u001b[0m\u001b[0m_ensure_initialized\u001b[0m\u001b[0;34m(\u001b[0m\u001b[0mself\u001b[0m\u001b[0;34m,\u001b[0m \u001b[0mgateway\u001b[0m\u001b[0;34m=\u001b[0m\u001b[0mgateway\u001b[0m\u001b[0;34m,\u001b[0m \u001b[0mconf\u001b[0m\u001b[0;34m=\u001b[0m\u001b[0mconf\u001b[0m\u001b[0;34m)\u001b[0m\u001b[0;34m\u001b[0m\u001b[0;34m\u001b[0m\u001b[0m\n\u001b[0m\u001b[1;32m    196\u001b[0m         \u001b[0;32mtry\u001b[0m\u001b[0;34m:\u001b[0m\u001b[0;34m\u001b[0m\u001b[0;34m\u001b[0m\u001b[0m\n\u001b[1;32m    197\u001b[0m             self._do_init(\n",
      "\u001b[0;32m~/opt/anaconda3/envs/pyspark/lib/python3.9/site-packages/pyspark/context.py\u001b[0m in \u001b[0;36m_ensure_initialized\u001b[0;34m(cls, instance, gateway, conf)\u001b[0m\n\u001b[1;32m    415\u001b[0m         \u001b[0;32mwith\u001b[0m \u001b[0mSparkContext\u001b[0m\u001b[0;34m.\u001b[0m\u001b[0m_lock\u001b[0m\u001b[0;34m:\u001b[0m\u001b[0;34m\u001b[0m\u001b[0;34m\u001b[0m\u001b[0m\n\u001b[1;32m    416\u001b[0m             \u001b[0;32mif\u001b[0m \u001b[0;32mnot\u001b[0m \u001b[0mSparkContext\u001b[0m\u001b[0;34m.\u001b[0m\u001b[0m_gateway\u001b[0m\u001b[0;34m:\u001b[0m\u001b[0;34m\u001b[0m\u001b[0;34m\u001b[0m\u001b[0m\n\u001b[0;32m--> 417\u001b[0;31m                 \u001b[0mSparkContext\u001b[0m\u001b[0;34m.\u001b[0m\u001b[0m_gateway\u001b[0m \u001b[0;34m=\u001b[0m \u001b[0mgateway\u001b[0m \u001b[0;32mor\u001b[0m \u001b[0mlaunch_gateway\u001b[0m\u001b[0;34m(\u001b[0m\u001b[0mconf\u001b[0m\u001b[0;34m)\u001b[0m\u001b[0;34m\u001b[0m\u001b[0;34m\u001b[0m\u001b[0m\n\u001b[0m\u001b[1;32m    418\u001b[0m                 \u001b[0mSparkContext\u001b[0m\u001b[0;34m.\u001b[0m\u001b[0m_jvm\u001b[0m \u001b[0;34m=\u001b[0m \u001b[0mSparkContext\u001b[0m\u001b[0;34m.\u001b[0m\u001b[0m_gateway\u001b[0m\u001b[0;34m.\u001b[0m\u001b[0mjvm\u001b[0m\u001b[0;34m\u001b[0m\u001b[0;34m\u001b[0m\u001b[0m\n\u001b[1;32m    419\u001b[0m \u001b[0;34m\u001b[0m\u001b[0m\n",
      "\u001b[0;32m~/opt/anaconda3/envs/pyspark/lib/python3.9/site-packages/pyspark/java_gateway.py\u001b[0m in \u001b[0;36mlaunch_gateway\u001b[0;34m(conf, popen_kwargs)\u001b[0m\n\u001b[1;32m    104\u001b[0m \u001b[0;34m\u001b[0m\u001b[0m\n\u001b[1;32m    105\u001b[0m             \u001b[0;32mif\u001b[0m \u001b[0;32mnot\u001b[0m \u001b[0mos\u001b[0m\u001b[0;34m.\u001b[0m\u001b[0mpath\u001b[0m\u001b[0;34m.\u001b[0m\u001b[0misfile\u001b[0m\u001b[0;34m(\u001b[0m\u001b[0mconn_info_file\u001b[0m\u001b[0;34m)\u001b[0m\u001b[0;34m:\u001b[0m\u001b[0;34m\u001b[0m\u001b[0;34m\u001b[0m\u001b[0m\n\u001b[0;32m--> 106\u001b[0;31m                 \u001b[0;32mraise\u001b[0m \u001b[0mRuntimeError\u001b[0m\u001b[0;34m(\u001b[0m\u001b[0;34m\"Java gateway process exited before sending its port number\"\u001b[0m\u001b[0;34m)\u001b[0m\u001b[0;34m\u001b[0m\u001b[0;34m\u001b[0m\u001b[0m\n\u001b[0m\u001b[1;32m    107\u001b[0m \u001b[0;34m\u001b[0m\u001b[0m\n\u001b[1;32m    108\u001b[0m             \u001b[0;32mwith\u001b[0m \u001b[0mopen\u001b[0m\u001b[0;34m(\u001b[0m\u001b[0mconn_info_file\u001b[0m\u001b[0;34m,\u001b[0m \u001b[0;34m\"rb\"\u001b[0m\u001b[0;34m)\u001b[0m \u001b[0;32mas\u001b[0m \u001b[0minfo\u001b[0m\u001b[0;34m:\u001b[0m\u001b[0;34m\u001b[0m\u001b[0;34m\u001b[0m\u001b[0m\n",
      "\u001b[0;31mRuntimeError\u001b[0m: Java gateway process exited before sending its port number"
     ]
    }
   ],
   "source": [
    "from pyspark import SparkContext,SparkConf\n",
    "from pyspark.sql import SparkSession\n",
    "spark = SparkSession.builder.appName(\"data\").master(\"local[2]\")\\\n",
    "    .config(\"spark.jars.packages\", [\"org.postgresql:postgresql:42.5.0\",\"com.databricks:spark-xml_2.12:0.5.0\"])\\\n",
    "    .getOrCreate()\n",
    "print(\"Apache Spark version: \", spark.version)\n",
    "sc=spark.sparkContext"
   ]
  },
  {
   "cell_type": "code",
   "execution_count": 2,
   "metadata": {},
   "outputs": [
    {
     "name": "stderr",
     "output_type": "stream",
     "text": [
      "                                                                                \r"
     ]
    }
   ],
   "source": [
    "df=spark.read.csv('/Users/gloria/Documents/GitHub/AiKnowledge/data/wiki')"
   ]
  },
  {
   "cell_type": "code",
   "execution_count": 31,
   "metadata": {},
   "outputs": [
    {
     "name": "stdout",
     "output_type": "stream",
     "text": [
      "+--------------------+--------------------+--------------------+--------------------+\n",
      "|                 _c0|                 _c1|                 _c2|                 _c3|\n",
      "+--------------------+--------------------+--------------------+--------------------+\n",
      "|Anarchism is a po...|<sublink><anchor>...|Wikipedia: Anarchism|https://en.wikipe...|\n",
      "|Albedo (; ) is th...|<sublink><anchor>...|   Wikipedia: Albedo|https://en.wikipe...|\n",
      "|           A-sharp}}|<sublink><anchor>...|        Wikipedia: A|https://en.wikipe...|\n",
      "|(We dare defend o...|<sublink><anchor>...|  Wikipedia: Alabama|https://en.wikipe...|\n",
      "|In Greek mytholog...|<sublink><anchor>...| Wikipedia: Achilles|https://en.wikipe...|\n",
      "|                   *|<sublink><anchor>...|Wikipedia: Abraha...|https://en.wikipe...|\n",
      "|                  }}|<sublink><anchor>...|Wikipedia: Aristotle|https://en.wikipe...|\n",
      "|An American in Pa...|<sublink><anchor>...|Wikipedia: An Ame...|https://en.wikipe...|\n",
      "|The Academy Award...|<sublink><anchor>...|Wikipedia: Academ...|https://en.wikipe...|\n",
      "|             Oscar}}|<sublink><anchor>...|Wikipedia: Academ...|https://en.wikipe...|\n",
      "|  | starring       =|<sublink><anchor>...|  Wikipedia: Actrius|https://en.wikipe...|\n",
      "|Animalia is an il...|<sublink><anchor>...|Wikipedia: Animal...|https://en.wikipe...|\n",
      "|International Ato...|<sublink><anchor>...|Wikipedia: Intern...|https://en.wikipe...|\n",
      "|Altruism is the p...|<sublink><anchor>...| Wikipedia: Altruism|https://en.wikipe...|\n",
      "|| birth_place = S...|<sublink><anchor>...| Wikipedia: Ayn Rand|https://en.wikipe...|\n",
      "|| birth_place = D...|<sublink><anchor>...|Wikipedia: Alain ...|https://en.wikipe...|\n",
      "|| birth_place  = ...|<sublink><anchor>...|Wikipedia: Allan ...|https://en.wikipe...|\n",
      "|   Šaʿbiyya}}}}|}}}}|<sublink><anchor>...|  Wikipedia: Algeria|https://en.wikipe...|\n",
      "|This is a list of...|<sublink><anchor>...|Wikipedia: List o...|https://en.wikipe...|\n",
      "|Anthropology is t...|<sublink><anchor>...|Wikipedia: Anthro...|https://en.wikipe...|\n",
      "+--------------------+--------------------+--------------------+--------------------+\n",
      "only showing top 20 rows\n",
      "\n"
     ]
    }
   ],
   "source": [
    "df.show()"
   ]
  },
  {
   "cell_type": "code",
   "execution_count": 32,
   "metadata": {},
   "outputs": [
    {
     "name": "stderr",
     "output_type": "stream",
     "text": [
      "                                                                                \r"
     ]
    },
    {
     "data": {
      "text/plain": [
       "6564859"
      ]
     },
     "execution_count": 32,
     "metadata": {},
     "output_type": "execute_result"
    }
   ],
   "source": [
    "df.count()"
   ]
  },
  {
   "cell_type": "code",
   "execution_count": 33,
   "metadata": {},
   "outputs": [
    {
     "name": "stdout",
     "output_type": "stream",
     "text": [
      "+--------------------+--------------------+--------------------+--------------------+\n",
      "|             content|             sublink|               title|                 url|\n",
      "+--------------------+--------------------+--------------------+--------------------+\n",
      "|Anarchism is a po...|<sublink><anchor>...|Wikipedia: Anarchism|https://en.wikipe...|\n",
      "|Albedo (; ) is th...|<sublink><anchor>...|   Wikipedia: Albedo|https://en.wikipe...|\n",
      "|           A-sharp}}|<sublink><anchor>...|        Wikipedia: A|https://en.wikipe...|\n",
      "|(We dare defend o...|<sublink><anchor>...|  Wikipedia: Alabama|https://en.wikipe...|\n",
      "|In Greek mytholog...|<sublink><anchor>...| Wikipedia: Achilles|https://en.wikipe...|\n",
      "|                   *|<sublink><anchor>...|Wikipedia: Abraha...|https://en.wikipe...|\n",
      "|                  }}|<sublink><anchor>...|Wikipedia: Aristotle|https://en.wikipe...|\n",
      "|An American in Pa...|<sublink><anchor>...|Wikipedia: An Ame...|https://en.wikipe...|\n",
      "|The Academy Award...|<sublink><anchor>...|Wikipedia: Academ...|https://en.wikipe...|\n",
      "|             Oscar}}|<sublink><anchor>...|Wikipedia: Academ...|https://en.wikipe...|\n",
      "|  | starring       =|<sublink><anchor>...|  Wikipedia: Actrius|https://en.wikipe...|\n",
      "|Animalia is an il...|<sublink><anchor>...|Wikipedia: Animal...|https://en.wikipe...|\n",
      "|International Ato...|<sublink><anchor>...|Wikipedia: Intern...|https://en.wikipe...|\n",
      "|Altruism is the p...|<sublink><anchor>...| Wikipedia: Altruism|https://en.wikipe...|\n",
      "|| birth_place = S...|<sublink><anchor>...| Wikipedia: Ayn Rand|https://en.wikipe...|\n",
      "|| birth_place = D...|<sublink><anchor>...|Wikipedia: Alain ...|https://en.wikipe...|\n",
      "|| birth_place  = ...|<sublink><anchor>...|Wikipedia: Allan ...|https://en.wikipe...|\n",
      "|   Šaʿbiyya}}}}|}}}}|<sublink><anchor>...|  Wikipedia: Algeria|https://en.wikipe...|\n",
      "|This is a list of...|<sublink><anchor>...|Wikipedia: List o...|https://en.wikipe...|\n",
      "|Anthropology is t...|<sublink><anchor>...|Wikipedia: Anthro...|https://en.wikipe...|\n",
      "+--------------------+--------------------+--------------------+--------------------+\n",
      "only showing top 20 rows\n",
      "\n"
     ]
    }
   ],
   "source": [
    "df=df.toDF(\"content\",\"sublink\",\"title\",\"url\")     \n",
    "df.show()                                  \n"
   ]
  },
  {
   "cell_type": "code",
   "execution_count": 34,
   "metadata": {},
   "outputs": [
    {
     "name": "stdout",
     "output_type": "stream",
     "text": [
      "+--------------------+--------------------+--------------------+\n",
      "|             content|               title|                 url|\n",
      "+--------------------+--------------------+--------------------+\n",
      "|Anarchism is a po...|Wikipedia: Anarchism|https://en.wikipe...|\n",
      "|Albedo (; ) is th...|   Wikipedia: Albedo|https://en.wikipe...|\n",
      "|           A-sharp}}|        Wikipedia: A|https://en.wikipe...|\n",
      "|(We dare defend o...|  Wikipedia: Alabama|https://en.wikipe...|\n",
      "|In Greek mytholog...| Wikipedia: Achilles|https://en.wikipe...|\n",
      "|                   *|Wikipedia: Abraha...|https://en.wikipe...|\n",
      "|                  }}|Wikipedia: Aristotle|https://en.wikipe...|\n",
      "|An American in Pa...|Wikipedia: An Ame...|https://en.wikipe...|\n",
      "|The Academy Award...|Wikipedia: Academ...|https://en.wikipe...|\n",
      "|             Oscar}}|Wikipedia: Academ...|https://en.wikipe...|\n",
      "|  | starring       =|  Wikipedia: Actrius|https://en.wikipe...|\n",
      "|Animalia is an il...|Wikipedia: Animal...|https://en.wikipe...|\n",
      "|International Ato...|Wikipedia: Intern...|https://en.wikipe...|\n",
      "|Altruism is the p...| Wikipedia: Altruism|https://en.wikipe...|\n",
      "|| birth_place = S...| Wikipedia: Ayn Rand|https://en.wikipe...|\n",
      "|| birth_place = D...|Wikipedia: Alain ...|https://en.wikipe...|\n",
      "|| birth_place  = ...|Wikipedia: Allan ...|https://en.wikipe...|\n",
      "|   Šaʿbiyya}}}}|}}}}|  Wikipedia: Algeria|https://en.wikipe...|\n",
      "|This is a list of...|Wikipedia: List o...|https://en.wikipe...|\n",
      "|Anthropology is t...|Wikipedia: Anthro...|https://en.wikipe...|\n",
      "+--------------------+--------------------+--------------------+\n",
      "only showing top 20 rows\n",
      "\n"
     ]
    }
   ],
   "source": [
    "df=df.drop('sublink')                                                                    \n",
    "df.show()"
   ]
  },
  {
   "cell_type": "code",
   "execution_count": 35,
   "metadata": {},
   "outputs": [
    {
     "name": "stdout",
     "output_type": "stream",
     "text": [
      "+--------------------+--------------------+--------------------+------+\n",
      "|             content|               title|                 url|length|\n",
      "+--------------------+--------------------+--------------------+------+\n",
      "|Anarchism is a po...|Wikipedia: Anarchism|https://en.wikipe...|   411|\n",
      "|Albedo (; ) is th...|   Wikipedia: Albedo|https://en.wikipe...|   271|\n",
      "|           A-sharp}}|        Wikipedia: A|https://en.wikipe...|     9|\n",
      "|(We dare defend o...|  Wikipedia: Alabama|https://en.wikipe...|    27|\n",
      "|In Greek mytholog...| Wikipedia: Achilles|https://en.wikipe...|   555|\n",
      "|                   *|Wikipedia: Abraha...|https://en.wikipe...|     1|\n",
      "|                  }}|Wikipedia: Aristotle|https://en.wikipe...|     2|\n",
      "|An American in Pa...|Wikipedia: An Ame...|https://en.wikipe...|   262|\n",
      "|The Academy Award...|Wikipedia: Academ...|https://en.wikipe...|   220|\n",
      "|             Oscar}}|Wikipedia: Academ...|https://en.wikipe...|     7|\n",
      "|  | starring       =|  Wikipedia: Actrius|https://en.wikipe...|    18|\n",
      "|Animalia is an il...|Wikipedia: Animal...|https://en.wikipe...|   184|\n",
      "|International Ato...|Wikipedia: Intern...|https://en.wikipe...|   313|\n",
      "|Altruism is the p...| Wikipedia: Altruism|https://en.wikipe...|   289|\n",
      "|| birth_place = S...| Wikipedia: Ayn Rand|https://en.wikipe...|    78|\n",
      "|| birth_place = D...|Wikipedia: Alain ...|https://en.wikipe...|    34|\n",
      "|| birth_place  = ...|Wikipedia: Allan ...|https://en.wikipe...|    41|\n",
      "|   Šaʿbiyya}}}}|}}}}|  Wikipedia: Algeria|https://en.wikipe...|    17|\n",
      "|This is a list of...|Wikipedia: List o...|https://en.wikipe...|    69|\n",
      "|Anthropology is t...|Wikipedia: Anthro...|https://en.wikipe...|   325|\n",
      "+--------------------+--------------------+--------------------+------+\n",
      "only showing top 20 rows\n",
      "\n"
     ]
    }
   ],
   "source": [
    "df.createOrReplaceTempView(\"wiki\")\n",
    "\n",
    "df=spark.sql(\"select *,length(content) as length  from wiki\")\n",
    "df.show()"
   ]
  },
  {
   "cell_type": "code",
   "execution_count": 3,
   "metadata": {},
   "outputs": [
    {
     "name": "stdout",
     "output_type": "stream",
     "text": [
      "+--------------------+--------------------+--------------------+--------------------+------------+--------+---------+\n",
      "|                  id|          created_at|          updated_at|             content|content_type|   index|vector_id|\n",
      "+--------------------+--------------------+--------------------+--------------------+------------+--------+---------+\n",
      "|41655cc804bb07b15...|2022-10-31 16:29:...|2022-10-31 16:29:...|\"Linda Antonsson ...|        text|document|     null|\n",
      "|75c286c84f4070134...|2022-10-31 16:29:...|2022-10-31 16:29:...|\"\\n==Career==\\nEl...|        text|document|     null|\n",
      "|71a783f2734f7e88e...|2022-10-31 16:29:...|2022-10-31 16:29:...|\"\\n==Personal lif...|        text|document|     null|\n",
      "|9983c94e42beb7c5f...|2022-10-31 16:29:...|2022-10-31 16:29:...|\"\\n==External lin...|        text|document|     null|\n",
      "|b544e42c29c0ac915...|2022-10-31 16:29:...|2022-10-31 16:29:...|\"'''Jaime Lannist...|        text|document|     null|\n",
      "|49091c797d2236e73...|2022-10-31 16:29:...|2022-10-31 16:29:...|\"\\n===Description...|        text|document|     null|\n",
      "|cdf6f9a468f7187b0...|2022-10-31 16:29:...|2022-10-31 16:29:...|\"\\n===Development...|        text|document|     null|\n",
      "|d3488ca3ea1ce433c...|2022-10-31 16:29:...|2022-10-31 16:29:...|\"\\n==Storylines==...|        text|document|     null|\n",
      "|bbef72c97360d00eb...|2022-10-31 16:29:...|2022-10-31 16:29:...|\"\\n===Personality...|        text|document|     null|\n",
      "|9a0d15d356b0d8c88...|2022-10-31 16:29:...|2022-10-31 16:29:...|\"\\n===''A Game of...|        text|document|     null|\n",
      "|dd6277f07521a468f...|2022-10-31 16:29:...|2022-10-31 16:29:...|\"\\n===''A Clash o...|        text|document|     null|\n",
      "|cfde674a43c5e80ae...|2022-10-31 16:29:...|2022-10-31 16:29:...|\"\\n===''A Storm o...|        text|document|     null|\n",
      "|622b774e96fba1af0...|2022-10-31 16:29:...|2022-10-31 16:29:...|\"\\n===''A Feast f...|        text|document|     null|\n",
      "|d7b44014100644276...|2022-10-31 16:29:...|2022-10-31 16:29:...|\"\\n===''A Dance w...|        text|document|     null|\n",
      "|7f87a2396cb0ea57b...|2022-10-31 16:29:...|2022-10-31 16:29:...|\"\\n==TV adaptatio...|        text|document|     null|\n",
      "|f01570d5298777186...|2022-10-31 16:29:...|2022-10-31 16:29:...|\"\\n====Season 1==...|        text|document|     null|\n",
      "|f1e919e272f2952c6...|2022-10-31 16:29:...|2022-10-31 16:29:...|\"\\n====Season 2==...|        text|document|     null|\n",
      "|5b92eb700b460a430...|2022-10-31 16:29:...|2022-10-31 16:29:...|\"\\n==Leak==\\nThe ...|        text|document|     null|\n",
      "|9e9a3181b6bc168b4...|2022-10-31 16:29:...|2022-10-31 16:29:...|\"\\n==External lin...|        text|document|     null|\n",
      "|b0a1d2f8803f5c51f...|2022-10-31 16:29:...|2022-10-31 16:29:...|\"\\n====Season 3==...|        text|document|     null|\n",
      "+--------------------+--------------------+--------------------+--------------------+------------+--------+---------+\n",
      "only showing top 20 rows\n",
      "\n"
     ]
    },
    {
     "name": "stdout",
     "output_type": "stream",
     "text": [
      "22/11/08 23:31:30 WARN HeartbeatReceiver: Removing executor driver with no recent heartbeats: 2227585 ms exceeds timeout 120000 ms\n",
      "22/11/08 23:31:30 WARN SparkContext: Killing executors is not supported by current scheduler.\n"
     ]
    }
   ],
   "source": [
    "pgDF=spark.read.format(\"jdbc\").\\\n",
    "    option(\"url\", \"jdbc:postgresql://localhost:5432/haystack\").\\\n",
    "    option(\"dbtable\", \"public.document\").\\\n",
    "    option(\"user\", \"postgres\").\\\n",
    "    option(\"password\", \"postgres\").\\\n",
    "    option(\"driver\", \"org.postgresql.Driver\").load()                                       \n",
    "                                               \n",
    "pgDF.show()                                 \n"
   ]
  },
  {
   "cell_type": "code",
   "execution_count": null,
   "metadata": {},
   "outputs": [],
   "source": []
  }
 ],
 "metadata": {
  "kernelspec": {
   "display_name": "Python 3.9.13 ('pyspark')",
   "language": "python",
   "name": "python3"
  },
  "language_info": {
   "codemirror_mode": {
    "name": "ipython",
    "version": 3
   },
   "file_extension": ".py",
   "mimetype": "text/x-python",
   "name": "python",
   "nbconvert_exporter": "python",
   "pygments_lexer": "ipython3",
   "version": "3.9.13"
  },
  "orig_nbformat": 4,
  "vscode": {
   "interpreter": {
    "hash": "f70b66c476b517a3398e503e066261bd5effd8e36d6bd83ebcc33f32092e45d7"
   }
  }
 },
 "nbformat": 4,
 "nbformat_minor": 2
}
