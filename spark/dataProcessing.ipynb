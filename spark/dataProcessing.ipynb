{
 "cells": [
  {
   "cell_type": "code",
   "execution_count": 1,
   "metadata": {},
   "outputs": [
    {
     "name": "stdout",
     "output_type": "stream",
     "text": [
      "22/11/09 11:34:49 WARN Utils: Your hostname, Glorias-MacBook-Pro.local resolves to a loopback address: 127.0.0.1; using 192.168.1.39 instead (on interface en0)\n",
      "22/11/09 11:34:49 WARN Utils: Set SPARK_LOCAL_IP if you need to bind to another address\n",
      ":: loading settings :: url = jar:file:/Users/gloria/opt/anaconda3/envs/pyspark/lib/python3.9/site-packages/pyspark/jars/ivy-2.5.0.jar!/org/apache/ivy/core/settings/ivysettings.xml\n"
     ]
    },
    {
     "name": "stderr",
     "output_type": "stream",
     "text": [
      "Ivy Default Cache set to: /Users/gloria/.ivy2/cache\n",
      "The jars for the packages stored in: /Users/gloria/.ivy2/jars\n",
      "org.postgresql#postgresql added as a dependency\n",
      ":: resolving dependencies :: org.apache.spark#spark-submit-parent-a46c7dfc-045f-44fb-af5f-4a40aedad8f4;1.0\n",
      "\tconfs: [default]\n",
      "\tfound org.postgresql#postgresql;42.5.0 in central\n",
      "\tfound org.checkerframework#checker-qual;3.5.0 in central\n",
      ":: resolution report :: resolve 263ms :: artifacts dl 12ms\n",
      "\t:: modules in use:\n",
      "\torg.checkerframework#checker-qual;3.5.0 from central in [default]\n",
      "\torg.postgresql#postgresql;42.5.0 from central in [default]\n",
      "\t---------------------------------------------------------------------\n",
      "\t|                  |            modules            ||   artifacts   |\n",
      "\t|       conf       | number| search|dwnlded|evicted|| number|dwnlded|\n",
      "\t---------------------------------------------------------------------\n",
      "\t|      default     |   2   |   0   |   0   |   0   ||   2   |   0   |\n",
      "\t---------------------------------------------------------------------\n",
      ":: retrieving :: org.apache.spark#spark-submit-parent-a46c7dfc-045f-44fb-af5f-4a40aedad8f4\n",
      "\tconfs: [default]\n",
      "\t0 artifacts copied, 2 already retrieved (0kB/10ms)\n"
     ]
    },
    {
     "name": "stdout",
     "output_type": "stream",
     "text": [
      "22/11/09 11:34:50 WARN NativeCodeLoader: Unable to load native-hadoop library for your platform... using builtin-java classes where applicable\n"
     ]
    },
    {
     "name": "stderr",
     "output_type": "stream",
     "text": [
      "Setting default log level to \"WARN\".\n",
      "To adjust logging level use sc.setLogLevel(newLevel). For SparkR, use setLogLevel(newLevel).\n"
     ]
    },
    {
     "name": "stdout",
     "output_type": "stream",
     "text": [
      "Apache Spark version:  3.3.1\n"
     ]
    }
   ],
   "source": [
    "from pyspark import SparkContext,SparkConf\n",
    "from pyspark.sql import SparkSession\n",
    "spark = SparkSession.builder.appName(\"nlp\").master(\"local[2]\")\\\n",
    "    .config(\"spark.jars.packages\", \"org.postgresql:postgresql:42.5.0\")\\\n",
    "    .getOrCreate()\n",
    "print(\"Apache Spark version: \", spark.version)\n",
    "sc=spark.sparkContext"
   ]
  },
  {
   "cell_type": "code",
   "execution_count": 2,
   "metadata": {},
   "outputs": [
    {
     "data": {
      "text/plain": [
       "[('spark.driver.extraJavaOptions',\n",
       "  '-XX:+IgnoreUnrecognizedVMOptions --add-opens=java.base/java.lang=ALL-UNNAMED --add-opens=java.base/java.lang.invoke=ALL-UNNAMED --add-opens=java.base/java.lang.reflect=ALL-UNNAMED --add-opens=java.base/java.io=ALL-UNNAMED --add-opens=java.base/java.net=ALL-UNNAMED --add-opens=java.base/java.nio=ALL-UNNAMED --add-opens=java.base/java.util=ALL-UNNAMED --add-opens=java.base/java.util.concurrent=ALL-UNNAMED --add-opens=java.base/java.util.concurrent.atomic=ALL-UNNAMED --add-opens=java.base/sun.nio.ch=ALL-UNNAMED --add-opens=java.base/sun.nio.cs=ALL-UNNAMED --add-opens=java.base/sun.security.action=ALL-UNNAMED --add-opens=java.base/sun.util.calendar=ALL-UNNAMED --add-opens=java.security.jgss/sun.security.krb5=ALL-UNNAMED'),\n",
       " ('spark.jars.packages', 'org.postgresql:postgresql:42.5.0'),\n",
       " ('spark.driver.port', '55311'),\n",
       " ('spark.jars',\n",
       "  'file:///Users/gloria/.ivy2/jars/org.postgresql_postgresql-42.5.0.jar,file:///Users/gloria/.ivy2/jars/org.checkerframework_checker-qual-3.5.0.jar'),\n",
       " ('spark.app.submitTime', '1667961290675'),\n",
       " ('spark.app.startTime', '1667961290850'),\n",
       " ('spark.app.id', 'local-1667961292385'),\n",
       " ('spark.executor.id', 'driver'),\n",
       " ('spark.app.name', 'nlp'),\n",
       " ('spark.submit.pyFiles',\n",
       "  '/Users/gloria/.ivy2/jars/org.postgresql_postgresql-42.5.0.jar,/Users/gloria/.ivy2/jars/org.checkerframework_checker-qual-3.5.0.jar'),\n",
       " ('spark.app.initial.jar.urls',\n",
       "  'spark://192.168.1.39:55311/jars/org.checkerframework_checker-qual-3.5.0.jar,spark://192.168.1.39:55311/jars/org.postgresql_postgresql-42.5.0.jar'),\n",
       " ('spark.rdd.compress', 'True'),\n",
       " ('spark.executor.extraJavaOptions',\n",
       "  '-XX:+IgnoreUnrecognizedVMOptions --add-opens=java.base/java.lang=ALL-UNNAMED --add-opens=java.base/java.lang.invoke=ALL-UNNAMED --add-opens=java.base/java.lang.reflect=ALL-UNNAMED --add-opens=java.base/java.io=ALL-UNNAMED --add-opens=java.base/java.net=ALL-UNNAMED --add-opens=java.base/java.nio=ALL-UNNAMED --add-opens=java.base/java.util=ALL-UNNAMED --add-opens=java.base/java.util.concurrent=ALL-UNNAMED --add-opens=java.base/java.util.concurrent.atomic=ALL-UNNAMED --add-opens=java.base/sun.nio.ch=ALL-UNNAMED --add-opens=java.base/sun.nio.cs=ALL-UNNAMED --add-opens=java.base/sun.security.action=ALL-UNNAMED --add-opens=java.base/sun.util.calendar=ALL-UNNAMED --add-opens=java.security.jgss/sun.security.krb5=ALL-UNNAMED'),\n",
       " ('spark.serializer.objectStreamReset', '100'),\n",
       " ('spark.repl.local.jars',\n",
       "  'file:///Users/gloria/.ivy2/jars/org.postgresql_postgresql-42.5.0.jar,file:///Users/gloria/.ivy2/jars/org.checkerframework_checker-qual-3.5.0.jar'),\n",
       " ('spark.submit.deployMode', 'client'),\n",
       " ('spark.app.initial.file.urls',\n",
       "  'file:///Users/gloria/.ivy2/jars/org.postgresql_postgresql-42.5.0.jar,file:///Users/gloria/.ivy2/jars/org.checkerframework_checker-qual-3.5.0.jar'),\n",
       " ('spark.files',\n",
       "  'file:///Users/gloria/.ivy2/jars/org.postgresql_postgresql-42.5.0.jar,file:///Users/gloria/.ivy2/jars/org.checkerframework_checker-qual-3.5.0.jar'),\n",
       " ('spark.ui.showConsoleProgress', 'true'),\n",
       " ('spark.master', 'local[2]'),\n",
       " ('spark.driver.host', '192.168.1.39')]"
      ]
     },
     "execution_count": 2,
     "metadata": {},
     "output_type": "execute_result"
    }
   ],
   "source": [
    "sc.getConf().getAll()"
   ]
  },
  {
   "cell_type": "code",
   "execution_count": 3,
   "metadata": {},
   "outputs": [
    {
     "name": "stderr",
     "output_type": "stream",
     "text": [
      "                                                                                \r"
     ]
    }
   ],
   "source": [
    "df=spark.read.csv('/Users/gloria/Documents/GitHub/AiKnowledge/data/datacsv').load()"
   ]
  },
  {
   "cell_type": "code",
   "execution_count": 4,
   "metadata": {},
   "outputs": [
    {
     "name": "stdout",
     "output_type": "stream",
     "text": [
      "+--------------------+--------------------+--------------------+--------------------+\n",
      "|                 _c0|                 _c1|                 _c2|                 _c3|\n",
      "+--------------------+--------------------+--------------------+--------------------+\n",
      "|            abstract|               links|               title|                 url|\n",
      "|Anarchism is a po...|<sublink><anchor>...|Wikipedia: Anarchism|https://en.wikipe...|\n",
      "|Albedo (; ) is th...|<sublink><anchor>...|   Wikipedia: Albedo|https://en.wikipe...|\n",
      "|           A-sharp}}|<sublink><anchor>...|        Wikipedia: A|https://en.wikipe...|\n",
      "|(We dare defend o...|<sublink><anchor>...|  Wikipedia: Alabama|https://en.wikipe...|\n",
      "|In Greek mytholog...|<sublink><anchor>...| Wikipedia: Achilles|https://en.wikipe...|\n",
      "|                   *|<sublink><anchor>...|Wikipedia: Abraha...|https://en.wikipe...|\n",
      "|                  }}|<sublink><anchor>...|Wikipedia: Aristotle|https://en.wikipe...|\n",
      "|An American in Pa...|<sublink><anchor>...|Wikipedia: An Ame...|https://en.wikipe...|\n",
      "|The Academy Award...|<sublink><anchor>...|Wikipedia: Academ...|https://en.wikipe...|\n",
      "|             Oscar}}|<sublink><anchor>...|Wikipedia: Academ...|https://en.wikipe...|\n",
      "|  | starring       =|<sublink><anchor>...|  Wikipedia: Actrius|https://en.wikipe...|\n",
      "|Animalia is an il...|<sublink><anchor>...|Wikipedia: Animal...|https://en.wikipe...|\n",
      "|International Ato...|<sublink><anchor>...|Wikipedia: Intern...|https://en.wikipe...|\n",
      "|Altruism is the p...|<sublink><anchor>...| Wikipedia: Altruism|https://en.wikipe...|\n",
      "|| birth_place = S...|<sublink><anchor>...| Wikipedia: Ayn Rand|https://en.wikipe...|\n",
      "|| birth_place = D...|<sublink><anchor>...|Wikipedia: Alain ...|https://en.wikipe...|\n",
      "|| birth_place  = ...|<sublink><anchor>...|Wikipedia: Allan ...|https://en.wikipe...|\n",
      "|   Šaʿbiyya}}}}|}}}}|<sublink><anchor>...|  Wikipedia: Algeria|https://en.wikipe...|\n",
      "|This is a list of...|<sublink><anchor>...|Wikipedia: List o...|https://en.wikipe...|\n",
      "+--------------------+--------------------+--------------------+--------------------+\n",
      "only showing top 20 rows\n",
      "\n"
     ]
    }
   ],
   "source": [
    "df.show()"
   ]
  },
  {
   "cell_type": "code",
   "execution_count": 5,
   "metadata": {},
   "outputs": [
    {
     "name": "stderr",
     "output_type": "stream",
     "text": [
      "                                                                                \r"
     ]
    },
    {
     "data": {
      "text/plain": [
       "6565060"
      ]
     },
     "execution_count": 5,
     "metadata": {},
     "output_type": "execute_result"
    }
   ],
   "source": [
    "df.count()"
   ]
  },
  {
   "cell_type": "code",
   "execution_count": 6,
   "metadata": {},
   "outputs": [
    {
     "name": "stdout",
     "output_type": "stream",
     "text": [
      "+--------------------+--------------------+--------------------+--------------------+\n",
      "|             content|             sublink|               title|                 url|\n",
      "+--------------------+--------------------+--------------------+--------------------+\n",
      "|            abstract|               links|               title|                 url|\n",
      "|Anarchism is a po...|<sublink><anchor>...|Wikipedia: Anarchism|https://en.wikipe...|\n",
      "|Albedo (; ) is th...|<sublink><anchor>...|   Wikipedia: Albedo|https://en.wikipe...|\n",
      "|           A-sharp}}|<sublink><anchor>...|        Wikipedia: A|https://en.wikipe...|\n",
      "|(We dare defend o...|<sublink><anchor>...|  Wikipedia: Alabama|https://en.wikipe...|\n",
      "|In Greek mytholog...|<sublink><anchor>...| Wikipedia: Achilles|https://en.wikipe...|\n",
      "|                   *|<sublink><anchor>...|Wikipedia: Abraha...|https://en.wikipe...|\n",
      "|                  }}|<sublink><anchor>...|Wikipedia: Aristotle|https://en.wikipe...|\n",
      "|An American in Pa...|<sublink><anchor>...|Wikipedia: An Ame...|https://en.wikipe...|\n",
      "|The Academy Award...|<sublink><anchor>...|Wikipedia: Academ...|https://en.wikipe...|\n",
      "|             Oscar}}|<sublink><anchor>...|Wikipedia: Academ...|https://en.wikipe...|\n",
      "|  | starring       =|<sublink><anchor>...|  Wikipedia: Actrius|https://en.wikipe...|\n",
      "|Animalia is an il...|<sublink><anchor>...|Wikipedia: Animal...|https://en.wikipe...|\n",
      "|International Ato...|<sublink><anchor>...|Wikipedia: Intern...|https://en.wikipe...|\n",
      "|Altruism is the p...|<sublink><anchor>...| Wikipedia: Altruism|https://en.wikipe...|\n",
      "|| birth_place = S...|<sublink><anchor>...| Wikipedia: Ayn Rand|https://en.wikipe...|\n",
      "|| birth_place = D...|<sublink><anchor>...|Wikipedia: Alain ...|https://en.wikipe...|\n",
      "|| birth_place  = ...|<sublink><anchor>...|Wikipedia: Allan ...|https://en.wikipe...|\n",
      "|   Šaʿbiyya}}}}|}}}}|<sublink><anchor>...|  Wikipedia: Algeria|https://en.wikipe...|\n",
      "|This is a list of...|<sublink><anchor>...|Wikipedia: List o...|https://en.wikipe...|\n",
      "+--------------------+--------------------+--------------------+--------------------+\n",
      "only showing top 20 rows\n",
      "\n"
     ]
    }
   ],
   "source": [
    "df=df.toDF(\"content\",\"sublink\",\"title\",\"url\")     \n",
    "df.show()                                  \n"
   ]
  },
  {
   "cell_type": "code",
   "execution_count": 7,
   "metadata": {},
   "outputs": [
    {
     "name": "stdout",
     "output_type": "stream",
     "text": [
      "+--------------------+--------------------+--------------------+\n",
      "|             content|               title|                 url|\n",
      "+--------------------+--------------------+--------------------+\n",
      "|            abstract|               title|                 url|\n",
      "|Anarchism is a po...|Wikipedia: Anarchism|https://en.wikipe...|\n",
      "|Albedo (; ) is th...|   Wikipedia: Albedo|https://en.wikipe...|\n",
      "|           A-sharp}}|        Wikipedia: A|https://en.wikipe...|\n",
      "|(We dare defend o...|  Wikipedia: Alabama|https://en.wikipe...|\n",
      "|In Greek mytholog...| Wikipedia: Achilles|https://en.wikipe...|\n",
      "|                   *|Wikipedia: Abraha...|https://en.wikipe...|\n",
      "|                  }}|Wikipedia: Aristotle|https://en.wikipe...|\n",
      "|An American in Pa...|Wikipedia: An Ame...|https://en.wikipe...|\n",
      "|The Academy Award...|Wikipedia: Academ...|https://en.wikipe...|\n",
      "|             Oscar}}|Wikipedia: Academ...|https://en.wikipe...|\n",
      "|  | starring       =|  Wikipedia: Actrius|https://en.wikipe...|\n",
      "|Animalia is an il...|Wikipedia: Animal...|https://en.wikipe...|\n",
      "|International Ato...|Wikipedia: Intern...|https://en.wikipe...|\n",
      "|Altruism is the p...| Wikipedia: Altruism|https://en.wikipe...|\n",
      "|| birth_place = S...| Wikipedia: Ayn Rand|https://en.wikipe...|\n",
      "|| birth_place = D...|Wikipedia: Alain ...|https://en.wikipe...|\n",
      "|| birth_place  = ...|Wikipedia: Allan ...|https://en.wikipe...|\n",
      "|   Šaʿbiyya}}}}|}}}}|  Wikipedia: Algeria|https://en.wikipe...|\n",
      "|This is a list of...|Wikipedia: List o...|https://en.wikipe...|\n",
      "+--------------------+--------------------+--------------------+\n",
      "only showing top 20 rows\n",
      "\n"
     ]
    }
   ],
   "source": [
    "df=df.drop('sublink')                                                                    \n",
    "df.show()"
   ]
  },
  {
   "cell_type": "code",
   "execution_count": 8,
   "metadata": {},
   "outputs": [
    {
     "name": "stdout",
     "output_type": "stream",
     "text": [
      "+--------------------+--------------------+--------------------+------+\n",
      "|             content|               title|                 url|length|\n",
      "+--------------------+--------------------+--------------------+------+\n",
      "|            abstract|               title|                 url|     8|\n",
      "|Anarchism is a po...|Wikipedia: Anarchism|https://en.wikipe...|   411|\n",
      "|Albedo (; ) is th...|   Wikipedia: Albedo|https://en.wikipe...|   271|\n",
      "|           A-sharp}}|        Wikipedia: A|https://en.wikipe...|     9|\n",
      "|(We dare defend o...|  Wikipedia: Alabama|https://en.wikipe...|    27|\n",
      "|In Greek mytholog...| Wikipedia: Achilles|https://en.wikipe...|   555|\n",
      "|                   *|Wikipedia: Abraha...|https://en.wikipe...|     1|\n",
      "|                  }}|Wikipedia: Aristotle|https://en.wikipe...|     2|\n",
      "|An American in Pa...|Wikipedia: An Ame...|https://en.wikipe...|   262|\n",
      "|The Academy Award...|Wikipedia: Academ...|https://en.wikipe...|   220|\n",
      "|             Oscar}}|Wikipedia: Academ...|https://en.wikipe...|     7|\n",
      "|  | starring       =|  Wikipedia: Actrius|https://en.wikipe...|    18|\n",
      "|Animalia is an il...|Wikipedia: Animal...|https://en.wikipe...|   184|\n",
      "|International Ato...|Wikipedia: Intern...|https://en.wikipe...|   313|\n",
      "|Altruism is the p...| Wikipedia: Altruism|https://en.wikipe...|   289|\n",
      "|| birth_place = S...| Wikipedia: Ayn Rand|https://en.wikipe...|    78|\n",
      "|| birth_place = D...|Wikipedia: Alain ...|https://en.wikipe...|    34|\n",
      "|| birth_place  = ...|Wikipedia: Allan ...|https://en.wikipe...|    41|\n",
      "|   Šaʿbiyya}}}}|}}}}|  Wikipedia: Algeria|https://en.wikipe...|    17|\n",
      "|This is a list of...|Wikipedia: List o...|https://en.wikipe...|    69|\n",
      "+--------------------+--------------------+--------------------+------+\n",
      "only showing top 20 rows\n",
      "\n"
     ]
    }
   ],
   "source": [
    "df.createOrReplaceTempView(\"wiki\")\n",
    "\n",
    "df=spark.sql(\"select *,length(content) as length  from wiki\")\n",
    "df.show()"
   ]
  },
  {
   "cell_type": "code",
   "execution_count": 8,
   "metadata": {},
   "outputs": [
    {
     "name": "stdout",
     "output_type": "stream",
     "text": [
      "+--------------------+--------------------+--------------------+--------------------+------------+--------+---------+\n",
      "|                  id|          created_at|          updated_at|             content|content_type|   index|vector_id|\n",
      "+--------------------+--------------------+--------------------+--------------------+------------+--------+---------+\n",
      "|41655cc804bb07b15...|2022-10-31 16:29:...|2022-10-31 16:29:...|\"Linda Antonsson ...|        text|document|     null|\n",
      "|75c286c84f4070134...|2022-10-31 16:29:...|2022-10-31 16:29:...|\"\\n==Career==\\nEl...|        text|document|     null|\n",
      "|71a783f2734f7e88e...|2022-10-31 16:29:...|2022-10-31 16:29:...|\"\\n==Personal lif...|        text|document|     null|\n",
      "|9983c94e42beb7c5f...|2022-10-31 16:29:...|2022-10-31 16:29:...|\"\\n==External lin...|        text|document|     null|\n",
      "|b544e42c29c0ac915...|2022-10-31 16:29:...|2022-10-31 16:29:...|\"'''Jaime Lannist...|        text|document|     null|\n",
      "|49091c797d2236e73...|2022-10-31 16:29:...|2022-10-31 16:29:...|\"\\n===Description...|        text|document|     null|\n",
      "|cdf6f9a468f7187b0...|2022-10-31 16:29:...|2022-10-31 16:29:...|\"\\n===Development...|        text|document|     null|\n",
      "|d3488ca3ea1ce433c...|2022-10-31 16:29:...|2022-10-31 16:29:...|\"\\n==Storylines==...|        text|document|     null|\n",
      "|bbef72c97360d00eb...|2022-10-31 16:29:...|2022-10-31 16:29:...|\"\\n===Personality...|        text|document|     null|\n",
      "|9a0d15d356b0d8c88...|2022-10-31 16:29:...|2022-10-31 16:29:...|\"\\n===''A Game of...|        text|document|     null|\n",
      "|dd6277f07521a468f...|2022-10-31 16:29:...|2022-10-31 16:29:...|\"\\n===''A Clash o...|        text|document|     null|\n",
      "|cfde674a43c5e80ae...|2022-10-31 16:29:...|2022-10-31 16:29:...|\"\\n===''A Storm o...|        text|document|     null|\n",
      "|622b774e96fba1af0...|2022-10-31 16:29:...|2022-10-31 16:29:...|\"\\n===''A Feast f...|        text|document|     null|\n",
      "|d7b44014100644276...|2022-10-31 16:29:...|2022-10-31 16:29:...|\"\\n===''A Dance w...|        text|document|     null|\n",
      "|7f87a2396cb0ea57b...|2022-10-31 16:29:...|2022-10-31 16:29:...|\"\\n==TV adaptatio...|        text|document|     null|\n",
      "|f01570d5298777186...|2022-10-31 16:29:...|2022-10-31 16:29:...|\"\\n====Season 1==...|        text|document|     null|\n",
      "|f1e919e272f2952c6...|2022-10-31 16:29:...|2022-10-31 16:29:...|\"\\n====Season 2==...|        text|document|     null|\n",
      "|5b92eb700b460a430...|2022-10-31 16:29:...|2022-10-31 16:29:...|\"\\n==Leak==\\nThe ...|        text|document|     null|\n",
      "|9e9a3181b6bc168b4...|2022-10-31 16:29:...|2022-10-31 16:29:...|\"\\n==External lin...|        text|document|     null|\n",
      "|b0a1d2f8803f5c51f...|2022-10-31 16:29:...|2022-10-31 16:29:...|\"\\n====Season 3==...|        text|document|     null|\n",
      "+--------------------+--------------------+--------------------+--------------------+------------+--------+---------+\n",
      "only showing top 20 rows\n",
      "\n"
     ]
    }
   ],
   "source": [
    "pgDF=spark.read.format(\"jdbc\").\\\n",
    "    option(\"url\", \"jdbc:postgresql://localhost:5432/haystack\").\\\n",
    "    option(\"dbtable\", \"public.document\").\\\n",
    "    option(\"user\", \"postgres\").\\\n",
    "    option(\"password\", \"postgres\").\\\n",
    "    option(\"driver\", \"org.postgresql.Driver\").load()                                       \n",
    "                                               \n",
    "pgDF.show()                                 \n"
   ]
  },
  {
   "cell_type": "code",
   "execution_count": null,
   "metadata": {},
   "outputs": [],
   "source": []
  }
 ],
 "metadata": {
  "kernelspec": {
   "display_name": "Python 3 (ipykernel)",
   "language": "python",
   "name": "python3"
  },
  "language_info": {
   "codemirror_mode": {
    "name": "ipython",
    "version": 3
   },
   "file_extension": ".py",
   "mimetype": "text/x-python",
   "name": "python",
   "nbconvert_exporter": "python",
   "pygments_lexer": "ipython3",
   "version": "3.9.13"
  },
  "vscode": {
   "interpreter": {
    "hash": "f70b66c476b517a3398e503e066261bd5effd8e36d6bd83ebcc33f32092e45d7"
   }
  }
 },
 "nbformat": 4,
 "nbformat_minor": 4
}
