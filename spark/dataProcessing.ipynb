{
 "cells": [
  {
   "cell_type": "code",
   "execution_count": 1,
   "metadata": {},
   "outputs": [
    {
     "name": "stdout",
     "output_type": "stream",
     "text": [
      "22/11/10 13:08:23 WARN Utils: Your hostname, Glorias-MacBook-Pro.local resolves to a loopback address: 127.0.0.1; using 192.168.0.3 instead (on interface en0)\n",
      "22/11/10 13:08:23 WARN Utils: Set SPARK_LOCAL_IP if you need to bind to another address\n",
      ":: loading settings :: url = jar:file:/Users/gloria/opt/anaconda3/envs/pyspark/lib/python3.9/site-packages/pyspark/jars/ivy-2.5.0.jar!/org/apache/ivy/core/settings/ivysettings.xml\n"
     ]
    },
    {
     "name": "stderr",
     "output_type": "stream",
     "text": [
      "Ivy Default Cache set to: /Users/gloria/.ivy2/cache\n",
      "The jars for the packages stored in: /Users/gloria/.ivy2/jars\n",
      "org.postgresql#postgresql added as a dependency\n",
      ":: resolving dependencies :: org.apache.spark#spark-submit-parent-bd856977-1cad-4bb5-a202-1e59652d9e88;1.0\n",
      "\tconfs: [default]\n",
      "\tfound org.postgresql#postgresql;42.5.0 in central\n",
      "\tfound org.checkerframework#checker-qual;3.5.0 in central\n",
      ":: resolution report :: resolve 218ms :: artifacts dl 7ms\n",
      "\t:: modules in use:\n",
      "\torg.checkerframework#checker-qual;3.5.0 from central in [default]\n",
      "\torg.postgresql#postgresql;42.5.0 from central in [default]\n",
      "\t---------------------------------------------------------------------\n",
      "\t|                  |            modules            ||   artifacts   |\n",
      "\t|       conf       | number| search|dwnlded|evicted|| number|dwnlded|\n",
      "\t---------------------------------------------------------------------\n",
      "\t|      default     |   2   |   0   |   0   |   0   ||   2   |   0   |\n",
      "\t---------------------------------------------------------------------\n",
      ":: retrieving :: org.apache.spark#spark-submit-parent-bd856977-1cad-4bb5-a202-1e59652d9e88\n",
      "\tconfs: [default]\n",
      "\t0 artifacts copied, 2 already retrieved (0kB/10ms)\n"
     ]
    },
    {
     "name": "stdout",
     "output_type": "stream",
     "text": [
      "22/11/10 13:08:24 WARN NativeCodeLoader: Unable to load native-hadoop library for your platform... using builtin-java classes where applicable\n"
     ]
    },
    {
     "name": "stderr",
     "output_type": "stream",
     "text": [
      "Setting default log level to \"WARN\".\n",
      "To adjust logging level use sc.setLogLevel(newLevel). For SparkR, use setLogLevel(newLevel).\n"
     ]
    },
    {
     "name": "stdout",
     "output_type": "stream",
     "text": [
      "Apache Spark version:  3.3.1\n"
     ]
    }
   ],
   "source": [
    "from pyspark import SparkContext,SparkConf\n",
    "from pyspark.sql import SparkSession\n",
    "spark = SparkSession.builder.appName(\"nlp\").master(\"local[2]\")\\\n",
    "    .config(\"spark.jars.packages\", \"org.postgresql:postgresql:42.5.0\")\\\n",
    "    .getOrCreate()\n",
    "print(\"Apache Spark version: \", spark.version)\n",
    "sc=spark.sparkContext"
   ]
  },
  {
   "cell_type": "code",
   "execution_count": 2,
   "metadata": {},
   "outputs": [
    {
     "data": {
      "text/plain": [
       "[('spark.driver.extraJavaOptions',\n",
       "  '-XX:+IgnoreUnrecognizedVMOptions --add-opens=java.base/java.lang=ALL-UNNAMED --add-opens=java.base/java.lang.invoke=ALL-UNNAMED --add-opens=java.base/java.lang.reflect=ALL-UNNAMED --add-opens=java.base/java.io=ALL-UNNAMED --add-opens=java.base/java.net=ALL-UNNAMED --add-opens=java.base/java.nio=ALL-UNNAMED --add-opens=java.base/java.util=ALL-UNNAMED --add-opens=java.base/java.util.concurrent=ALL-UNNAMED --add-opens=java.base/java.util.concurrent.atomic=ALL-UNNAMED --add-opens=java.base/sun.nio.ch=ALL-UNNAMED --add-opens=java.base/sun.nio.cs=ALL-UNNAMED --add-opens=java.base/sun.security.action=ALL-UNNAMED --add-opens=java.base/sun.util.calendar=ALL-UNNAMED --add-opens=java.security.jgss/sun.security.krb5=ALL-UNNAMED'),\n",
       " ('spark.jars.packages', 'org.postgresql:postgresql:42.5.0'),\n",
       " ('spark.driver.port', '55311'),\n",
       " ('spark.jars',\n",
       "  'file:///Users/gloria/.ivy2/jars/org.postgresql_postgresql-42.5.0.jar,file:///Users/gloria/.ivy2/jars/org.checkerframework_checker-qual-3.5.0.jar'),\n",
       " ('spark.app.submitTime', '1667961290675'),\n",
       " ('spark.app.startTime', '1667961290850'),\n",
       " ('spark.app.id', 'local-1667961292385'),\n",
       " ('spark.executor.id', 'driver'),\n",
       " ('spark.app.name', 'nlp'),\n",
       " ('spark.submit.pyFiles',\n",
       "  '/Users/gloria/.ivy2/jars/org.postgresql_postgresql-42.5.0.jar,/Users/gloria/.ivy2/jars/org.checkerframework_checker-qual-3.5.0.jar'),\n",
       " ('spark.app.initial.jar.urls',\n",
       "  'spark://192.168.1.39:55311/jars/org.checkerframework_checker-qual-3.5.0.jar,spark://192.168.1.39:55311/jars/org.postgresql_postgresql-42.5.0.jar'),\n",
       " ('spark.rdd.compress', 'True'),\n",
       " ('spark.executor.extraJavaOptions',\n",
       "  '-XX:+IgnoreUnrecognizedVMOptions --add-opens=java.base/java.lang=ALL-UNNAMED --add-opens=java.base/java.lang.invoke=ALL-UNNAMED --add-opens=java.base/java.lang.reflect=ALL-UNNAMED --add-opens=java.base/java.io=ALL-UNNAMED --add-opens=java.base/java.net=ALL-UNNAMED --add-opens=java.base/java.nio=ALL-UNNAMED --add-opens=java.base/java.util=ALL-UNNAMED --add-opens=java.base/java.util.concurrent=ALL-UNNAMED --add-opens=java.base/java.util.concurrent.atomic=ALL-UNNAMED --add-opens=java.base/sun.nio.ch=ALL-UNNAMED --add-opens=java.base/sun.nio.cs=ALL-UNNAMED --add-opens=java.base/sun.security.action=ALL-UNNAMED --add-opens=java.base/sun.util.calendar=ALL-UNNAMED --add-opens=java.security.jgss/sun.security.krb5=ALL-UNNAMED'),\n",
       " ('spark.serializer.objectStreamReset', '100'),\n",
       " ('spark.repl.local.jars',\n",
       "  'file:///Users/gloria/.ivy2/jars/org.postgresql_postgresql-42.5.0.jar,file:///Users/gloria/.ivy2/jars/org.checkerframework_checker-qual-3.5.0.jar'),\n",
       " ('spark.submit.deployMode', 'client'),\n",
       " ('spark.app.initial.file.urls',\n",
       "  'file:///Users/gloria/.ivy2/jars/org.postgresql_postgresql-42.5.0.jar,file:///Users/gloria/.ivy2/jars/org.checkerframework_checker-qual-3.5.0.jar'),\n",
       " ('spark.files',\n",
       "  'file:///Users/gloria/.ivy2/jars/org.postgresql_postgresql-42.5.0.jar,file:///Users/gloria/.ivy2/jars/org.checkerframework_checker-qual-3.5.0.jar'),\n",
       " ('spark.ui.showConsoleProgress', 'true'),\n",
       " ('spark.master', 'local[2]'),\n",
       " ('spark.driver.host', '192.168.1.39')]"
      ]
     },
     "execution_count": 2,
     "metadata": {},
     "output_type": "execute_result"
    }
   ],
   "source": [
    "sc.getConf().getAll()"
   ]
  },
  {
   "cell_type": "code",
   "execution_count": 3,
   "metadata": {},
   "outputs": [],
   "source": [
    "df=spark.read.parquet('../data/wiki.panquet')"
   ]
  },
  {
   "cell_type": "code",
   "execution_count": 4,
   "metadata": {},
   "outputs": [
    {
     "name": "stderr",
     "output_type": "stream",
     "text": [
      "[Stage 2:>                                                          (0 + 1) / 1]\r"
     ]
    },
    {
     "name": "stdout",
     "output_type": "stream",
     "text": [
      "+---+--------------------+--------------------+--------------------+\n",
      "| id|                 url|               title|                text|\n",
      "+---+--------------------+--------------------+--------------------+\n",
      "| 12|https://en.wikipe...|           Anarchism|Anarchism is a po...|\n",
      "| 25|https://en.wikipe...|              Autism|Autism is a neuro...|\n",
      "| 39|https://en.wikipe...|              Albedo|Albedo (; ) is th...|\n",
      "|290|https://en.wikipe...|                   A|A, or a, is the f...|\n",
      "|303|https://en.wikipe...|             Alabama|Alabama () is a s...|\n",
      "|305|https://en.wikipe...|            Achilles|In Greek mytholog...|\n",
      "|307|https://en.wikipe...|     Abraham Lincoln|Abraham Lincoln (...|\n",
      "|308|https://en.wikipe...|           Aristotle|Aristotle (;  Ari...|\n",
      "|309|https://en.wikipe...|An American in Paris|An American in Pa...|\n",
      "|316|https://en.wikipe...|Academy Award for...|The Academy Award...|\n",
      "|324|https://en.wikipe...|      Academy Awards|The Academy Award...|\n",
      "|330|https://en.wikipe...|             Actrius|Actresses (Catala...|\n",
      "|332|https://en.wikipe...|     Animalia (book)|Animalia is an il...|\n",
      "|334|https://en.wikipe...|International Ato...|International Ato...|\n",
      "|336|https://en.wikipe...|            Altruism|Altruism is the p...|\n",
      "|339|https://en.wikipe...|            Ayn Rand|Alice O'Connor (b...|\n",
      "|340|https://en.wikipe...|        Alain Connes|Alain Connes (; b...|\n",
      "|344|https://en.wikipe...|          Allan Dwan|Allan Dwan (born ...|\n",
      "|358|https://en.wikipe...|             Algeria|Algeria, official...|\n",
      "|359|https://en.wikipe...|List of Atlas Shr...|This is a list of...|\n",
      "+---+--------------------+--------------------+--------------------+\n",
      "only showing top 20 rows\n",
      "\n"
     ]
    },
    {
     "name": "stderr",
     "output_type": "stream",
     "text": [
      "                                                                                \r"
     ]
    }
   ],
   "source": [
    "df.show()"
   ]
  },
  {
   "cell_type": "code",
   "execution_count": 5,
   "metadata": {},
   "outputs": [
    {
     "name": "stderr",
     "output_type": "stream",
     "text": [
      "                                                                                \r"
     ]
    },
    {
     "data": {
      "text/plain": [
       "6458670"
      ]
     },
     "execution_count": 5,
     "metadata": {},
     "output_type": "execute_result"
    }
   ],
   "source": [
    "df.count()"
   ]
  },
  {
   "cell_type": "code",
   "execution_count": 7,
   "metadata": {},
   "outputs": [
    {
     "name": "stderr",
     "output_type": "stream",
     "text": [
      "[Stage 6:>                                                          (0 + 1) / 1]\r"
     ]
    },
    {
     "name": "stdout",
     "output_type": "stream",
     "text": [
      "+---+--------------------+--------------------+--------------------+------+\n",
      "| id|                 url|               title|                text|length|\n",
      "+---+--------------------+--------------------+--------------------+------+\n",
      "| 12|https://en.wikipe...|           Anarchism|Anarchism is a po...| 43985|\n",
      "| 25|https://en.wikipe...|              Autism|Autism is a neuro...| 46773|\n",
      "| 39|https://en.wikipe...|              Albedo|Albedo (; ) is th...| 22273|\n",
      "|290|https://en.wikipe...|                   A|A, or a, is the f...| 10256|\n",
      "|303|https://en.wikipe...|             Alabama|Alabama () is a s...| 77572|\n",
      "|305|https://en.wikipe...|            Achilles|In Greek mytholog...| 44881|\n",
      "|307|https://en.wikipe...|     Abraham Lincoln|Abraham Lincoln (...| 83163|\n",
      "|308|https://en.wikipe...|           Aristotle|Aristotle (;  Ari...| 66510|\n",
      "|309|https://en.wikipe...|An American in Paris|An American in Pa...| 10999|\n",
      "|316|https://en.wikipe...|Academy Award for...|The Academy Award...|  1047|\n",
      "|324|https://en.wikipe...|      Academy Awards|The Academy Award...| 47727|\n",
      "|330|https://en.wikipe...|             Actrius|Actresses (Catala...|  2496|\n",
      "|332|https://en.wikipe...|     Animalia (book)|Animalia is an il...| 14015|\n",
      "|334|https://en.wikipe...|International Ato...|International Ato...|  7341|\n",
      "|336|https://en.wikipe...|            Altruism|Altruism is the p...| 43537|\n",
      "|339|https://en.wikipe...|            Ayn Rand|Alice O'Connor (b...| 45564|\n",
      "|340|https://en.wikipe...|        Alain Connes|Alain Connes (; b...|  3186|\n",
      "|344|https://en.wikipe...|          Allan Dwan|Allan Dwan (born ...|  7207|\n",
      "|358|https://en.wikipe...|             Algeria|Algeria, official...| 71700|\n",
      "|359|https://en.wikipe...|List of Atlas Shr...|This is a list of...| 28863|\n",
      "+---+--------------------+--------------------+--------------------+------+\n",
      "only showing top 20 rows\n",
      "\n"
     ]
    },
    {
     "name": "stderr",
     "output_type": "stream",
     "text": [
      "                                                                                \r"
     ]
    }
   ],
   "source": [
    "df.createOrReplaceTempView(\"wiki\")\n",
    "\n",
    "df=spark.sql(\"select *,length(text) as length  from wiki\")\n",
    "df.show()"
   ]
  },
  {
   "cell_type": "code",
   "execution_count": null,
   "metadata": {},
   "outputs": [],
   "source": []
  }
 ],
 "metadata": {
  "kernelspec": {
   "display_name": "Python 3 (ipykernel)",
   "language": "python",
   "name": "python3"
  },
  "language_info": {
   "codemirror_mode": {
    "name": "ipython",
    "version": 3
   },
   "file_extension": ".py",
   "mimetype": "text/x-python",
   "name": "python",
   "nbconvert_exporter": "python",
   "pygments_lexer": "ipython3",
   "version": "3.9.13"
  },
  "vscode": {
   "interpreter": {
    "hash": "f70b66c476b517a3398e503e066261bd5effd8e36d6bd83ebcc33f32092e45d7"
   }
  }
 },
 "nbformat": 4,
 "nbformat_minor": 4
}
