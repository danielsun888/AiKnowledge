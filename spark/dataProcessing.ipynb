{
 "cells": [
  {
   "cell_type": "code",
   "execution_count": 1,
   "metadata": {},
   "outputs": [
    {
     "name": "stdout",
     "output_type": "stream",
     "text": [
      "Apache Spark version:  3.3.1\n"
     ]
    }
   ],
   "source": [
    "from pyspark import SparkContext,SparkConf\n",
    "from pyspark.sql import SparkSession\n",
    "spark = SparkSession.builder.appName(\"nlp\").master(\"local[3]\")\\\n",
    "    .config(\"spark.jars.packages\", \"org.postgresql:postgresql:42.5.0\",)\\\n",
    "    .enableHiveSupport()\\\n",
    "    .getOrCreate()\n",
    "print(\"Apache Spark version: \", spark.version)\n",
    "sc=spark.sparkContext\n",
    "# org.postgresql:postgresql:42.5.0"
   ]
  },
  {
   "cell_type": "code",
   "execution_count": 2,
   "metadata": {},
   "outputs": [
    {
     "data": {
      "text/plain": [
       "'local-1668395701538'"
      ]
     },
     "execution_count": 2,
     "metadata": {},
     "output_type": "execute_result"
    }
   ],
   "source": [
    "sc.getConf().get('spark.app.id')"
   ]
  },
  {
   "cell_type": "code",
   "execution_count": 3,
   "metadata": {},
   "outputs": [
    {
     "name": "stdout",
     "output_type": "stream",
     "text": [
      "+---+--------------------+--------------------+--------------------+\n",
      "| id|                 url|               title|                text|\n",
      "+---+--------------------+--------------------+--------------------+\n",
      "| 12|https://en.wikipe...|           Anarchism|Anarchism is a po...|\n",
      "| 25|https://en.wikipe...|              Autism|Autism is a neuro...|\n",
      "| 39|https://en.wikipe...|              Albedo|Albedo (; ) is th...|\n",
      "|290|https://en.wikipe...|                   A|A, or a, is the f...|\n",
      "|303|https://en.wikipe...|             Alabama|Alabama () is a s...|\n",
      "|305|https://en.wikipe...|            Achilles|In Greek mytholog...|\n",
      "|307|https://en.wikipe...|     Abraham Lincoln|Abraham Lincoln (...|\n",
      "|308|https://en.wikipe...|           Aristotle|Aristotle (;  Ari...|\n",
      "|309|https://en.wikipe...|An American in Paris|An American in Pa...|\n",
      "|316|https://en.wikipe...|Academy Award for...|The Academy Award...|\n",
      "|324|https://en.wikipe...|      Academy Awards|The Academy Award...|\n",
      "|330|https://en.wikipe...|             Actrius|Actresses (Catala...|\n",
      "|332|https://en.wikipe...|     Animalia (book)|Animalia is an il...|\n",
      "|334|https://en.wikipe...|International Ato...|International Ato...|\n",
      "|336|https://en.wikipe...|            Altruism|Altruism is the p...|\n",
      "|339|https://en.wikipe...|            Ayn Rand|Alice O'Connor (b...|\n",
      "|340|https://en.wikipe...|        Alain Connes|Alain Connes (; b...|\n",
      "|344|https://en.wikipe...|          Allan Dwan|Allan Dwan (born ...|\n",
      "|358|https://en.wikipe...|             Algeria|Algeria, official...|\n",
      "|359|https://en.wikipe...|List of Atlas Shr...|This is a list of...|\n",
      "+---+--------------------+--------------------+--------------------+\n",
      "only showing top 20 rows\n",
      "\n"
     ]
    }
   ],
   "source": [
    "df=spark.read.parquet('./data/wiki.parquet')\n",
    "df.show()"
   ]
  },
  {
   "cell_type": "code",
   "execution_count": 4,
   "metadata": {},
   "outputs": [
    {
     "data": {
      "text/plain": [
       "6458670"
      ]
     },
     "execution_count": 4,
     "metadata": {},
     "output_type": "execute_result"
    }
   ],
   "source": [
    "df.count()"
   ]
  },
  {
   "cell_type": "code",
   "execution_count": 5,
   "metadata": {},
   "outputs": [],
   "source": [
    "df.createOrReplaceGlobalTempView(\"wiki\")\n"
   ]
  },
  {
   "cell_type": "code",
   "execution_count": 6,
   "metadata": {},
   "outputs": [
    {
     "name": "stdout",
     "output_type": "stream",
     "text": [
      "+---+--------------------+--------------------+--------------------+------+\n",
      "| id|                 url|               title|                text|length|\n",
      "+---+--------------------+--------------------+--------------------+------+\n",
      "| 12|https://en.wikipe...|           Anarchism|Anarchism is a po...| 43985|\n",
      "| 25|https://en.wikipe...|              Autism|Autism is a neuro...| 46773|\n",
      "| 39|https://en.wikipe...|              Albedo|Albedo (; ) is th...| 22273|\n",
      "|290|https://en.wikipe...|                   A|A, or a, is the f...| 10256|\n",
      "|303|https://en.wikipe...|             Alabama|Alabama () is a s...| 77572|\n",
      "|305|https://en.wikipe...|            Achilles|In Greek mytholog...| 44881|\n",
      "|307|https://en.wikipe...|     Abraham Lincoln|Abraham Lincoln (...| 83163|\n",
      "|308|https://en.wikipe...|           Aristotle|Aristotle (;  Ari...| 66510|\n",
      "|309|https://en.wikipe...|An American in Paris|An American in Pa...| 10999|\n",
      "|316|https://en.wikipe...|Academy Award for...|The Academy Award...|  1047|\n",
      "|324|https://en.wikipe...|      Academy Awards|The Academy Award...| 47727|\n",
      "|330|https://en.wikipe...|             Actrius|Actresses (Catala...|  2496|\n",
      "|332|https://en.wikipe...|     Animalia (book)|Animalia is an il...| 14015|\n",
      "|334|https://en.wikipe...|International Ato...|International Ato...|  7341|\n",
      "|336|https://en.wikipe...|            Altruism|Altruism is the p...| 43537|\n",
      "|339|https://en.wikipe...|            Ayn Rand|Alice O'Connor (b...| 45564|\n",
      "|340|https://en.wikipe...|        Alain Connes|Alain Connes (; b...|  3186|\n",
      "|344|https://en.wikipe...|          Allan Dwan|Allan Dwan (born ...|  7207|\n",
      "|358|https://en.wikipe...|             Algeria|Algeria, official...| 71700|\n",
      "|359|https://en.wikipe...|List of Atlas Shr...|This is a list of...| 28863|\n",
      "+---+--------------------+--------------------+--------------------+------+\n",
      "only showing top 20 rows\n",
      "\n"
     ]
    }
   ],
   "source": [
    "\n",
    "df2=spark.sql(\"select *,length(text) as length  from global_temp.wiki\")\n",
    "df2.show()"
   ]
  },
  {
   "cell_type": "code",
   "execution_count": 7,
   "metadata": {},
   "outputs": [
    {
     "name": "stdout",
     "output_type": "stream",
     "text": [
      "root\n",
      " |-- id: string (nullable = true)\n",
      " |-- url: string (nullable = true)\n",
      " |-- title: string (nullable = true)\n",
      " |-- text: string (nullable = true)\n",
      " |-- length: integer (nullable = true)\n",
      "\n"
     ]
    }
   ],
   "source": [
    "df2.printSchema()"
   ]
  },
  {
   "cell_type": "code",
   "execution_count": 8,
   "metadata": {},
   "outputs": [
    {
     "name": "stdout",
     "output_type": "stream",
     "text": [
      "+---+--------------------+--------------------+--------------------+------+\n",
      "| id|                 url|               title|                text|length|\n",
      "+---+--------------------+--------------------+--------------------+------+\n",
      "| 12|https://en.wikipe...|           Anarchism|Anarchism is a po...| 43985|\n",
      "| 25|https://en.wikipe...|              Autism|Autism is a neuro...| 46773|\n",
      "| 39|https://en.wikipe...|              Albedo|Albedo (; ) is th...| 22273|\n",
      "|290|https://en.wikipe...|                   A|A, or a, is the f...| 10256|\n",
      "|303|https://en.wikipe...|             Alabama|Alabama () is a s...| 77572|\n",
      "|305|https://en.wikipe...|            Achilles|In Greek mytholog...| 44881|\n",
      "|307|https://en.wikipe...|     Abraham Lincoln|Abraham Lincoln (...| 83163|\n",
      "|308|https://en.wikipe...|           Aristotle|Aristotle (;  Ari...| 66510|\n",
      "|309|https://en.wikipe...|An American in Paris|An American in Pa...| 10999|\n",
      "|316|https://en.wikipe...|Academy Award for...|The Academy Award...|  1047|\n",
      "|324|https://en.wikipe...|      Academy Awards|The Academy Award...| 47727|\n",
      "|330|https://en.wikipe...|             Actrius|Actresses (Catala...|  2496|\n",
      "|332|https://en.wikipe...|     Animalia (book)|Animalia is an il...| 14015|\n",
      "|334|https://en.wikipe...|International Ato...|International Ato...|  7341|\n",
      "|336|https://en.wikipe...|            Altruism|Altruism is the p...| 43537|\n",
      "|339|https://en.wikipe...|            Ayn Rand|Alice O'Connor (b...| 45564|\n",
      "|340|https://en.wikipe...|        Alain Connes|Alain Connes (; b...|  3186|\n",
      "|344|https://en.wikipe...|          Allan Dwan|Allan Dwan (born ...|  7207|\n",
      "|358|https://en.wikipe...|             Algeria|Algeria, official...| 71700|\n",
      "|359|https://en.wikipe...|List of Atlas Shr...|This is a list of...| 28863|\n",
      "+---+--------------------+--------------------+--------------------+------+\n",
      "only showing top 20 rows\n",
      "\n"
     ]
    }
   ],
   "source": [
    "df2.show()"
   ]
  },
  {
   "cell_type": "code",
   "execution_count": null,
   "metadata": {},
   "outputs": [],
   "source": []
  }
 ],
 "metadata": {
  "kernelspec": {
   "display_name": "Python 3 (ipykernel)",
   "language": "python",
   "name": "python3"
  },
  "language_info": {
   "codemirror_mode": {
    "name": "ipython",
    "version": 3
   },
   "file_extension": ".py",
   "mimetype": "text/x-python",
   "name": "python",
   "nbconvert_exporter": "python",
   "pygments_lexer": "ipython3",
   "version": "3.10.6"
  },
  "vscode": {
   "interpreter": {
    "hash": "f70b66c476b517a3398e503e066261bd5effd8e36d6bd83ebcc33f32092e45d7"
   }
  }
 },
 "nbformat": 4,
 "nbformat_minor": 4
}
