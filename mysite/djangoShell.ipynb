{
 "cells": [
  {
   "cell_type": "code",
   "execution_count": 4,
   "id": "ff963de2",
   "metadata": {},
   "outputs": [],
   "source": [
    "# from django.conf import settings\n",
    "# import os\n",
    "# os.environ.setdefault('DJANGO_SETTINGS_MODULE', 'mysite.settings') # FIXME: check path\n",
    "# django.setup()\n"
   ]
  },
  {
   "cell_type": "code",
   "execution_count": 3,
   "id": "2f439e4c",
   "metadata": {},
   "outputs": [],
   "source": [
    "from bible.models import Verse,Keyword\n",
    "from articles.models import Articles"
   ]
  },
  {
   "cell_type": "markdown",
   "id": "ee2f3fb3",
   "metadata": {},
   "source": [
    "### using django shell to connect relationshop of verse and keywords in neo4j"
   ]
  },
  {
   "cell_type": "code",
   "execution_count": null,
   "id": "a75f8646",
   "metadata": {},
   "outputs": [],
   "source": [
    "def verse2keyword (versename):\n",
    "     verse=Articles.objects.get(title=versename)\n",
    "     return verse.keywords"
   ]
  },
  {
   "cell_type": "code",
   "execution_count": null,
   "id": "6bfcc0d6",
   "metadata": {},
   "outputs": [],
   "source": [
    "all_verse=Verse.nodes.all()\n",
    "from tqdm import tqdm\n",
    "\n",
    "for verse in tqdm(all_verse):\n",
    "     keywords=verse2keyword(verse.name)\n",
    "     for keyword in keywords:\n",
    "         keyword_neo=Keyword.nodes.get_or_none(name=keyword)\n",
    "         if (keyword_neo is not None) and (verse.keyword.is_connected(keyword_neo) is not True):\n",
    "             verse.keyword.connect(keyword_neo)\n",
    "             print(verse.name +' connected to '+keyword_neo.name)\n",
    "      "
   ]
  },
  {
   "cell_type": "markdown",
   "id": "a0465606",
   "metadata": {},
   "source": [
    "#### delete keyword which frequency less than 2\n"
   ]
  },
  {
   "cell_type": "code",
   "execution_count": null,
   "id": "db559956",
   "metadata": {},
   "outputs": [],
   "source": [
    "MATCH (n:Keyword) where n.frequency<2 delete n "
   ]
  }
 ],
 "metadata": {
  "kernelspec": {
   "display_name": "Python 3.9.13 ('AiKnowledge')",
   "language": "python",
   "name": "python3"
  },
  "language_info": {
   "codemirror_mode": {
    "name": "ipython",
    "version": 3
   },
   "file_extension": ".py",
   "mimetype": "text/x-python",
   "name": "python",
   "nbconvert_exporter": "python",
   "pygments_lexer": "ipython3",
   "version": "3.9.13"
  },
  "vscode": {
   "interpreter": {
    "hash": "fbbf21e756a307630b08798629fcc44b6a5d29482ade257895116f0e783981ea"
   }
  }
 },
 "nbformat": 4,
 "nbformat_minor": 5
}
