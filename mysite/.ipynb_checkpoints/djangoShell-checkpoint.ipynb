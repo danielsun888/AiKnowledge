{
 "cells": [
  {
   "cell_type": "code",
   "execution_count": 1,
   "id": "93b69f22",
   "metadata": {},
   "outputs": [],
   "source": [
    "import django"
   ]
  },
  {
   "cell_type": "code",
   "execution_count": 2,
   "id": "ff963de2",
   "metadata": {},
   "outputs": [],
   "source": [
    "from django.conf import settings\n"
   ]
  },
  {
   "cell_type": "code",
   "execution_count": 3,
   "id": "cddd6830",
   "metadata": {},
   "outputs": [],
   "source": [
    "from articles.models import *"
   ]
  },
  {
   "cell_type": "code",
   "execution_count": 6,
   "id": "2f439e4c",
   "metadata": {},
   "outputs": [
    {
     "data": {
      "text/plain": [
       "<django.db.models.manager.Manager at 0x7f8babeca370>"
      ]
     },
     "execution_count": 6,
     "metadata": {},
     "output_type": "execute_result"
    }
   ],
   "source": [
    "Articles.objects"
   ]
  },
  {
   "cell_type": "code",
   "execution_count": null,
   "id": "6bfcc0d6",
   "metadata": {},
   "outputs": [],
   "source": []
  }
 ],
 "metadata": {
  "kernelspec": {
   "display_name": "Django Shell-Plus",
   "language": "python",
   "name": "django_extensions"
  },
  "language_info": {
   "codemirror_mode": {
    "name": "ipython",
    "version": 3
   },
   "file_extension": ".py",
   "mimetype": "text/x-python",
   "name": "python",
   "nbconvert_exporter": "python",
   "pygments_lexer": "ipython3",
   "version": "3.9.13"
  }
 },
 "nbformat": 4,
 "nbformat_minor": 5
}
