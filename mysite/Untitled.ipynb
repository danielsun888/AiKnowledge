{
 "cells": [
  {
   "cell_type": "code",
   "execution_count": 6,
   "id": "8a9874da",
   "metadata": {},
   "outputs": [
    {
     "ename": "ImproperlyConfigured",
     "evalue": "Requested setting DJANGORESIZED_DEFAULT_SIZE, but settings are not configured. You must either define the environment variable DJANGO_SETTINGS_MODULE or call settings.configure() before accessing settings.",
     "output_type": "error",
     "traceback": [
      "\u001b[0;31m---------------------------------------------------------------------------\u001b[0m",
      "\u001b[0;31mImproperlyConfigured\u001b[0m                      Traceback (most recent call last)",
      "Cell \u001b[0;32mIn [6], line 2\u001b[0m\n\u001b[1;32m      1\u001b[0m \u001b[39mimport\u001b[39;00m \u001b[39mdjango\u001b[39;00m\n\u001b[0;32m----> 2\u001b[0m \u001b[39mfrom\u001b[39;00m \u001b[39marticles\u001b[39;00m\u001b[39m.\u001b[39;00m\u001b[39mmodels\u001b[39;00m \u001b[39mimport\u001b[39;00m Articles\n",
      "File \u001b[0;32m~/Documents/GitHub/AiKnowledge/mysite/articles/models.py:5\u001b[0m\n\u001b[1;32m      3\u001b[0m \u001b[39mfrom\u001b[39;00m \u001b[39mdjango\u001b[39;00m\u001b[39m.\u001b[39;00m\u001b[39mdb\u001b[39;00m \u001b[39mimport\u001b[39;00m models\n\u001b[1;32m      4\u001b[0m \u001b[39mfrom\u001b[39;00m \u001b[39mdjango\u001b[39;00m\u001b[39m.\u001b[39;00m\u001b[39mtemplate\u001b[39;00m\u001b[39m.\u001b[39;00m\u001b[39mdefaultfilters\u001b[39;00m \u001b[39mimport\u001b[39;00m slugify\n\u001b[0;32m----> 5\u001b[0m \u001b[39mfrom\u001b[39;00m \u001b[39mdjango_resized\u001b[39;00m \u001b[39mimport\u001b[39;00m ResizedImageField\n\u001b[1;32m      6\u001b[0m \u001b[39mfrom\u001b[39;00m \u001b[39mdjango\u001b[39;00m\u001b[39m.\u001b[39;00m\u001b[39mutils\u001b[39;00m \u001b[39mimport\u001b[39;00m timezone\n\u001b[1;32m      7\u001b[0m \u001b[39mfrom\u001b[39;00m \u001b[39muuid\u001b[39;00m \u001b[39mimport\u001b[39;00m uuid4\n",
      "File \u001b[0;32m~/opt/anaconda3/envs/AiKnowledge/lib/python3.9/site-packages/django_resized/__init__.py:1\u001b[0m\n\u001b[0;32m----> 1\u001b[0m \u001b[39mfrom\u001b[39;00m \u001b[39mdjango_resized\u001b[39;00m\u001b[39m.\u001b[39;00m\u001b[39mforms\u001b[39;00m \u001b[39mimport\u001b[39;00m ResizedImageField  \u001b[39m# noqa\u001b[39;00m\n",
      "File \u001b[0;32m~/opt/anaconda3/envs/AiKnowledge/lib/python3.9/site-packages/django_resized/forms.py:14\u001b[0m\n\u001b[1;32m     10\u001b[0m \u001b[39mexcept\u001b[39;00m \u001b[39mImportError\u001b[39;00m:\n\u001b[1;32m     11\u001b[0m     \u001b[39mfrom\u001b[39;00m \u001b[39mdjango\u001b[39;00m\u001b[39m.\u001b[39;00m\u001b[39mdb\u001b[39;00m\u001b[39m.\u001b[39;00m\u001b[39mmodels\u001b[39;00m \u001b[39mimport\u001b[39;00m ImageField\n\u001b[0;32m---> 14\u001b[0m DEFAULT_SIZE \u001b[39m=\u001b[39m \u001b[39mgetattr\u001b[39;49m(settings, \u001b[39m'\u001b[39;49m\u001b[39mDJANGORESIZED_DEFAULT_SIZE\u001b[39;49m\u001b[39m'\u001b[39;49m, [\u001b[39m1920\u001b[39;49m, \u001b[39m1080\u001b[39;49m])\n\u001b[1;32m     15\u001b[0m DEFAULT_SCALE \u001b[39m=\u001b[39m \u001b[39mgetattr\u001b[39m(settings, \u001b[39m'\u001b[39m\u001b[39mDJANGORESIZED_DEFAULT_SCALE\u001b[39m\u001b[39m'\u001b[39m, \u001b[39mNone\u001b[39;00m)\n\u001b[1;32m     16\u001b[0m DEFAULT_QUALITY \u001b[39m=\u001b[39m \u001b[39mgetattr\u001b[39m(settings, \u001b[39m'\u001b[39m\u001b[39mDJANGORESIZED_DEFAULT_QUALITY\u001b[39m\u001b[39m'\u001b[39m, \u001b[39m-\u001b[39m\u001b[39m1\u001b[39m)\n",
      "File \u001b[0;32m~/opt/anaconda3/envs/AiKnowledge/lib/python3.9/site-packages/django/conf/__init__.py:92\u001b[0m, in \u001b[0;36mLazySettings.__getattr__\u001b[0;34m(self, name)\u001b[0m\n\u001b[1;32m     90\u001b[0m \u001b[39m\"\"\"Return the value of a setting and cache it in self.__dict__.\"\"\"\u001b[39;00m\n\u001b[1;32m     91\u001b[0m \u001b[39mif\u001b[39;00m (_wrapped \u001b[39m:=\u001b[39m \u001b[39mself\u001b[39m\u001b[39m.\u001b[39m_wrapped) \u001b[39mis\u001b[39;00m empty:\n\u001b[0;32m---> 92\u001b[0m     \u001b[39mself\u001b[39;49m\u001b[39m.\u001b[39;49m_setup(name)\n\u001b[1;32m     93\u001b[0m     _wrapped \u001b[39m=\u001b[39m \u001b[39mself\u001b[39m\u001b[39m.\u001b[39m_wrapped\n\u001b[1;32m     94\u001b[0m val \u001b[39m=\u001b[39m \u001b[39mgetattr\u001b[39m(_wrapped, name)\n",
      "File \u001b[0;32m~/opt/anaconda3/envs/AiKnowledge/lib/python3.9/site-packages/django/conf/__init__.py:72\u001b[0m, in \u001b[0;36mLazySettings._setup\u001b[0;34m(self, name)\u001b[0m\n\u001b[1;32m     70\u001b[0m \u001b[39mif\u001b[39;00m \u001b[39mnot\u001b[39;00m settings_module:\n\u001b[1;32m     71\u001b[0m     desc \u001b[39m=\u001b[39m (\u001b[39m\"\u001b[39m\u001b[39msetting \u001b[39m\u001b[39m%s\u001b[39;00m\u001b[39m\"\u001b[39m \u001b[39m%\u001b[39m name) \u001b[39mif\u001b[39;00m name \u001b[39melse\u001b[39;00m \u001b[39m\"\u001b[39m\u001b[39msettings\u001b[39m\u001b[39m\"\u001b[39m\n\u001b[0;32m---> 72\u001b[0m     \u001b[39mraise\u001b[39;00m ImproperlyConfigured(\n\u001b[1;32m     73\u001b[0m         \u001b[39m\"\u001b[39m\u001b[39mRequested \u001b[39m\u001b[39m%s\u001b[39;00m\u001b[39m, but settings are not configured. \u001b[39m\u001b[39m\"\u001b[39m\n\u001b[1;32m     74\u001b[0m         \u001b[39m\"\u001b[39m\u001b[39mYou must either define the environment variable \u001b[39m\u001b[39m%s\u001b[39;00m\u001b[39m \u001b[39m\u001b[39m\"\u001b[39m\n\u001b[1;32m     75\u001b[0m         \u001b[39m\"\u001b[39m\u001b[39mor call settings.configure() before accessing settings.\u001b[39m\u001b[39m\"\u001b[39m\n\u001b[1;32m     76\u001b[0m         \u001b[39m%\u001b[39m (desc, ENVIRONMENT_VARIABLE)\n\u001b[1;32m     77\u001b[0m     )\n\u001b[1;32m     79\u001b[0m \u001b[39mself\u001b[39m\u001b[39m.\u001b[39m_wrapped \u001b[39m=\u001b[39m Settings(settings_module)\n",
      "\u001b[0;31mImproperlyConfigured\u001b[0m: Requested setting DJANGORESIZED_DEFAULT_SIZE, but settings are not configured. You must either define the environment variable DJANGO_SETTINGS_MODULE or call settings.configure() before accessing settings."
     ]
    }
   ],
   "source": [
    "import django\n",
    "from django.conf import settings\n",
    "from articles.models.\n"
   ]
  },
  {
   "cell_type": "code",
   "execution_count": null,
   "id": "f1961cd3",
   "metadata": {},
   "outputs": [],
   "source": []
  }
 ],
 "metadata": {
  "kernelspec": {
   "display_name": "Python 3.9.13 ('AiKnowledge')",
   "language": "python",
   "name": "python3"
  },
  "language_info": {
   "codemirror_mode": {
    "name": "ipython",
    "version": 3
   },
   "file_extension": ".py",
   "mimetype": "text/x-python",
   "name": "python",
   "nbconvert_exporter": "python",
   "pygments_lexer": "ipython3",
   "version": "3.9.13"
  },
  "vscode": {
   "interpreter": {
    "hash": "fbbf21e756a307630b08798629fcc44b6a5d29482ade257895116f0e783981ea"
   }
  }
 },
 "nbformat": 4,
 "nbformat_minor": 5
}
